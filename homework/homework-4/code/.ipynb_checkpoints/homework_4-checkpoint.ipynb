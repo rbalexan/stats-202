{
 "cells": [
  {
   "cell_type": "code",
   "execution_count": 1,
   "metadata": {},
   "outputs": [],
   "source": [
    "import numpy as np\n",
    "import pandas as pd"
   ]
  },
  {
   "cell_type": "markdown",
   "metadata": {},
   "source": [
    "# Problem 2 (Chapter 8, Exercise 8)"
   ]
  },
  {
   "cell_type": "code",
   "execution_count": 2,
   "metadata": {},
   "outputs": [
    {
     "name": "stdout",
     "output_type": "stream",
     "text": [
      "<class 'pandas.core.frame.DataFrame'>\n",
      "RangeIndex: 400 entries, 0 to 399\n",
      "Data columns (total 11 columns):\n",
      " #   Column       Non-Null Count  Dtype  \n",
      "---  ------       --------------  -----  \n",
      " 0   Sales        400 non-null    float64\n",
      " 1   CompPrice    400 non-null    int64  \n",
      " 2   Income       400 non-null    int64  \n",
      " 3   Advertising  400 non-null    int64  \n",
      " 4   Population   400 non-null    int64  \n",
      " 5   Price        400 non-null    int64  \n",
      " 6   ShelveLoc    400 non-null    object \n",
      " 7   Age          400 non-null    int64  \n",
      " 8   Education    400 non-null    int64  \n",
      " 9   Urban        400 non-null    object \n",
      " 10  US           400 non-null    object \n",
      "dtypes: float64(1), int64(7), object(3)\n",
      "memory usage: 34.5+ KB\n",
      "None\n"
     ]
    },
    {
     "data": {
      "text/html": [
       "<div>\n",
       "<style scoped>\n",
       "    .dataframe tbody tr th:only-of-type {\n",
       "        vertical-align: middle;\n",
       "    }\n",
       "\n",
       "    .dataframe tbody tr th {\n",
       "        vertical-align: top;\n",
       "    }\n",
       "\n",
       "    .dataframe thead th {\n",
       "        text-align: right;\n",
       "    }\n",
       "</style>\n",
       "<table border=\"1\" class=\"dataframe\">\n",
       "  <thead>\n",
       "    <tr style=\"text-align: right;\">\n",
       "      <th></th>\n",
       "      <th>Sales</th>\n",
       "      <th>CompPrice</th>\n",
       "      <th>Income</th>\n",
       "      <th>Advertising</th>\n",
       "      <th>Population</th>\n",
       "      <th>Price</th>\n",
       "      <th>ShelveLoc</th>\n",
       "      <th>Age</th>\n",
       "      <th>Education</th>\n",
       "      <th>Urban</th>\n",
       "      <th>US</th>\n",
       "    </tr>\n",
       "  </thead>\n",
       "  <tbody>\n",
       "    <tr>\n",
       "      <th>0</th>\n",
       "      <td>9.50</td>\n",
       "      <td>138</td>\n",
       "      <td>73</td>\n",
       "      <td>11</td>\n",
       "      <td>276</td>\n",
       "      <td>120</td>\n",
       "      <td>Bad</td>\n",
       "      <td>42</td>\n",
       "      <td>17</td>\n",
       "      <td>Yes</td>\n",
       "      <td>Yes</td>\n",
       "    </tr>\n",
       "    <tr>\n",
       "      <th>1</th>\n",
       "      <td>11.22</td>\n",
       "      <td>111</td>\n",
       "      <td>48</td>\n",
       "      <td>16</td>\n",
       "      <td>260</td>\n",
       "      <td>83</td>\n",
       "      <td>Good</td>\n",
       "      <td>65</td>\n",
       "      <td>10</td>\n",
       "      <td>Yes</td>\n",
       "      <td>Yes</td>\n",
       "    </tr>\n",
       "    <tr>\n",
       "      <th>2</th>\n",
       "      <td>10.06</td>\n",
       "      <td>113</td>\n",
       "      <td>35</td>\n",
       "      <td>10</td>\n",
       "      <td>269</td>\n",
       "      <td>80</td>\n",
       "      <td>Medium</td>\n",
       "      <td>59</td>\n",
       "      <td>12</td>\n",
       "      <td>Yes</td>\n",
       "      <td>Yes</td>\n",
       "    </tr>\n",
       "    <tr>\n",
       "      <th>3</th>\n",
       "      <td>7.40</td>\n",
       "      <td>117</td>\n",
       "      <td>100</td>\n",
       "      <td>4</td>\n",
       "      <td>466</td>\n",
       "      <td>97</td>\n",
       "      <td>Medium</td>\n",
       "      <td>55</td>\n",
       "      <td>14</td>\n",
       "      <td>Yes</td>\n",
       "      <td>Yes</td>\n",
       "    </tr>\n",
       "    <tr>\n",
       "      <th>4</th>\n",
       "      <td>4.15</td>\n",
       "      <td>141</td>\n",
       "      <td>64</td>\n",
       "      <td>3</td>\n",
       "      <td>340</td>\n",
       "      <td>128</td>\n",
       "      <td>Bad</td>\n",
       "      <td>38</td>\n",
       "      <td>13</td>\n",
       "      <td>Yes</td>\n",
       "      <td>No</td>\n",
       "    </tr>\n",
       "  </tbody>\n",
       "</table>\n",
       "</div>"
      ],
      "text/plain": [
       "   Sales  CompPrice  Income  Advertising  Population  Price ShelveLoc  Age  \\\n",
       "0   9.50        138      73           11         276    120       Bad   42   \n",
       "1  11.22        111      48           16         260     83      Good   65   \n",
       "2  10.06        113      35           10         269     80    Medium   59   \n",
       "3   7.40        117     100            4         466     97    Medium   55   \n",
       "4   4.15        141      64            3         340    128       Bad   38   \n",
       "\n",
       "   Education Urban   US  \n",
       "0         17   Yes  Yes  \n",
       "1         10   Yes  Yes  \n",
       "2         12   Yes  Yes  \n",
       "3         14   Yes  Yes  \n",
       "4         13   Yes   No  "
      ]
     },
     "execution_count": 2,
     "metadata": {},
     "output_type": "execute_result"
    }
   ],
   "source": [
    "carseats = pd.read_csv(\"data/Carseats.csv\")\n",
    "\n",
    "print(carseats.info())\n",
    "carseats.head()"
   ]
  },
  {
   "cell_type": "code",
   "execution_count": 3,
   "metadata": {},
   "outputs": [
    {
     "name": "stdout",
     "output_type": "stream",
     "text": [
      "<class 'pandas.core.frame.DataFrame'>\n",
      "RangeIndex: 400 entries, 0 to 399\n",
      "Data columns (total 13 columns):\n",
      " #   Column           Non-Null Count  Dtype  \n",
      "---  ------           --------------  -----  \n",
      " 0   Sales            400 non-null    float64\n",
      " 1   CompPrice        400 non-null    int64  \n",
      " 2   Income           400 non-null    int64  \n",
      " 3   Advertising      400 non-null    int64  \n",
      " 4   Population       400 non-null    int64  \n",
      " 5   Price            400 non-null    int64  \n",
      " 6   Age              400 non-null    int64  \n",
      " 7   Education        400 non-null    int64  \n",
      " 8   Urban            400 non-null    int8   \n",
      " 9   US               400 non-null    int8   \n",
      " 10  ShelveLocBad     400 non-null    float64\n",
      " 11  ShelveLocMedium  400 non-null    float64\n",
      " 12  ShelveLocGood    400 non-null    float64\n",
      "dtypes: float64(4), int64(7), int8(2)\n",
      "memory usage: 35.3 KB\n",
      "None\n"
     ]
    },
    {
     "data": {
      "text/html": [
       "<div>\n",
       "<style scoped>\n",
       "    .dataframe tbody tr th:only-of-type {\n",
       "        vertical-align: middle;\n",
       "    }\n",
       "\n",
       "    .dataframe tbody tr th {\n",
       "        vertical-align: top;\n",
       "    }\n",
       "\n",
       "    .dataframe thead th {\n",
       "        text-align: right;\n",
       "    }\n",
       "</style>\n",
       "<table border=\"1\" class=\"dataframe\">\n",
       "  <thead>\n",
       "    <tr style=\"text-align: right;\">\n",
       "      <th></th>\n",
       "      <th>Sales</th>\n",
       "      <th>CompPrice</th>\n",
       "      <th>Income</th>\n",
       "      <th>Advertising</th>\n",
       "      <th>Population</th>\n",
       "      <th>Price</th>\n",
       "      <th>Age</th>\n",
       "      <th>Education</th>\n",
       "      <th>Urban</th>\n",
       "      <th>US</th>\n",
       "      <th>ShelveLocBad</th>\n",
       "      <th>ShelveLocMedium</th>\n",
       "      <th>ShelveLocGood</th>\n",
       "    </tr>\n",
       "  </thead>\n",
       "  <tbody>\n",
       "    <tr>\n",
       "      <th>0</th>\n",
       "      <td>9.50</td>\n",
       "      <td>138</td>\n",
       "      <td>73</td>\n",
       "      <td>11</td>\n",
       "      <td>276</td>\n",
       "      <td>120</td>\n",
       "      <td>42</td>\n",
       "      <td>17</td>\n",
       "      <td>1</td>\n",
       "      <td>1</td>\n",
       "      <td>1.0</td>\n",
       "      <td>0.0</td>\n",
       "      <td>0.0</td>\n",
       "    </tr>\n",
       "    <tr>\n",
       "      <th>1</th>\n",
       "      <td>11.22</td>\n",
       "      <td>111</td>\n",
       "      <td>48</td>\n",
       "      <td>16</td>\n",
       "      <td>260</td>\n",
       "      <td>83</td>\n",
       "      <td>65</td>\n",
       "      <td>10</td>\n",
       "      <td>1</td>\n",
       "      <td>1</td>\n",
       "      <td>0.0</td>\n",
       "      <td>1.0</td>\n",
       "      <td>0.0</td>\n",
       "    </tr>\n",
       "    <tr>\n",
       "      <th>2</th>\n",
       "      <td>10.06</td>\n",
       "      <td>113</td>\n",
       "      <td>35</td>\n",
       "      <td>10</td>\n",
       "      <td>269</td>\n",
       "      <td>80</td>\n",
       "      <td>59</td>\n",
       "      <td>12</td>\n",
       "      <td>1</td>\n",
       "      <td>1</td>\n",
       "      <td>0.0</td>\n",
       "      <td>0.0</td>\n",
       "      <td>1.0</td>\n",
       "    </tr>\n",
       "    <tr>\n",
       "      <th>3</th>\n",
       "      <td>7.40</td>\n",
       "      <td>117</td>\n",
       "      <td>100</td>\n",
       "      <td>4</td>\n",
       "      <td>466</td>\n",
       "      <td>97</td>\n",
       "      <td>55</td>\n",
       "      <td>14</td>\n",
       "      <td>1</td>\n",
       "      <td>1</td>\n",
       "      <td>0.0</td>\n",
       "      <td>0.0</td>\n",
       "      <td>1.0</td>\n",
       "    </tr>\n",
       "    <tr>\n",
       "      <th>4</th>\n",
       "      <td>4.15</td>\n",
       "      <td>141</td>\n",
       "      <td>64</td>\n",
       "      <td>3</td>\n",
       "      <td>340</td>\n",
       "      <td>128</td>\n",
       "      <td>38</td>\n",
       "      <td>13</td>\n",
       "      <td>1</td>\n",
       "      <td>0</td>\n",
       "      <td>1.0</td>\n",
       "      <td>0.0</td>\n",
       "      <td>0.0</td>\n",
       "    </tr>\n",
       "  </tbody>\n",
       "</table>\n",
       "</div>"
      ],
      "text/plain": [
       "   Sales  CompPrice  Income  Advertising  Population  Price  Age  Education  \\\n",
       "0   9.50        138      73           11         276    120   42         17   \n",
       "1  11.22        111      48           16         260     83   65         10   \n",
       "2  10.06        113      35           10         269     80   59         12   \n",
       "3   7.40        117     100            4         466     97   55         14   \n",
       "4   4.15        141      64            3         340    128   38         13   \n",
       "\n",
       "   Urban  US  ShelveLocBad  ShelveLocMedium  ShelveLocGood  \n",
       "0      1   1           1.0              0.0            0.0  \n",
       "1      1   1           0.0              1.0            0.0  \n",
       "2      1   1           0.0              0.0            1.0  \n",
       "3      1   1           0.0              0.0            1.0  \n",
       "4      1   0           1.0              0.0            0.0  "
      ]
     },
     "execution_count": 3,
     "metadata": {},
     "output_type": "execute_result"
    }
   ],
   "source": [
    "from sklearn.preprocessing import OneHotEncoder\n",
    "\n",
    "# fix categorical columns\n",
    "for cat in [\"Urban\", \"US\"]:\n",
    "    carseats[cat] = carseats[cat].astype('category').cat.codes\n",
    "        \n",
    "enc = OneHotEncoder(sparse=False)\n",
    "shelve_loc = enc.fit_transform(carseats[\"ShelveLoc\"].to_numpy().reshape(-1, 1))\n",
    "\n",
    "carseats[\"ShelveLocBad\"]    = shelve_loc[:, 0]\n",
    "carseats[\"ShelveLocMedium\"] = shelve_loc[:, 1]\n",
    "carseats[\"ShelveLocGood\"]   = shelve_loc[:, 2]\n",
    "\n",
    "carseats = carseats.drop(\"ShelveLoc\", axis=1)\n",
    "\n",
    "print(carseats.info())\n",
    "carseats.head()"
   ]
  },
  {
   "cell_type": "markdown",
   "metadata": {},
   "source": [
    "## Problem 2(a)"
   ]
  },
  {
   "cell_type": "code",
   "execution_count": 4,
   "metadata": {},
   "outputs": [],
   "source": [
    "from sklearn.model_selection import train_test_split\n",
    "\n",
    "X = carseats.drop(\"Sales\", axis=1)\n",
    "y = carseats[\"Sales\"]\n",
    "\n",
    "X_train, X_test, y_train, y_test = train_test_split(X, y, random_state=0)"
   ]
  },
  {
   "cell_type": "markdown",
   "metadata": {},
   "source": [
    "## Problem 2(b)"
   ]
  },
  {
   "cell_type": "code",
   "execution_count": 5,
   "metadata": {},
   "outputs": [],
   "source": [
    "from sklearn.tree import DecisionTreeRegressor, plot_tree\n",
    "\n",
    "reg_tree = DecisionTreeRegressor(random_state=0)\n",
    "reg_tree.fit(X_train, y_train);"
   ]
  },
  {
   "cell_type": "code",
   "execution_count": 6,
   "metadata": {},
   "outputs": [
    {
     "data": {
      "image/png": "[encoded data removed]",
      "text/plain": [
       "<Figure size 1080x1080 with 1 Axes>"
      ]
     },
     "metadata": {
      "needs_background": "light"
     },
     "output_type": "display_data"
    }
   ],
   "source": [
    "from matplotlib import pyplot as plt\n",
    "\n",
    "fig = plt.figure(figsize=(15,15))\n",
    "ax  = fig.gca()\n",
    "plot_tree(reg_tree, ax=ax, feature_names=carseats.drop(\"Sales\", axis=1).columns, \n",
    "          class_names=\"Sales\", impurity=False);"
   ]
  },
  {
   "cell_type": "markdown",
   "metadata": {},
   "source": [
    "The tree is very highly branched and possibly overfit to the dataset, so we may want to do some pruning."
   ]
  },
  {
   "cell_type": "code",
   "execution_count": 7,
   "metadata": {},
   "outputs": [
    {
     "name": "stdout",
     "output_type": "stream",
     "text": [
      "decision tree test mse: 5.160\n"
     ]
    }
   ],
   "source": [
    "from sklearn.metrics import mean_squared_error\n",
    "\n",
    "mse = mean_squared_error(y_test, reg_tree.predict(X_test))\n",
    "print(\"decision tree test mse: %.3f\" % mse)"
   ]
  },
  {
   "cell_type": "markdown",
   "metadata": {},
   "source": [
    "## Problem 2(c)"
   ]
  },
  {
   "cell_type": "code",
   "execution_count": 8,
   "metadata": {},
   "outputs": [
    {
     "name": "stdout",
     "output_type": "stream",
     "text": [
      "min split decr: 1.000e-03  |  test mse: 5.021373217986111\n",
      "min split decr: 3.162e-03  |  test mse: 4.878396738488783\n",
      "min split decr: 1.000e-02  |  test mse: 4.661581790056902\n",
      "min split decr: 3.162e-02  |  test mse: 4.418206140487827\n",
      "min split decr: 1.000e-01  |  test mse: 4.756998382990023\n",
      "min split decr: 3.162e-01  |  test mse: 4.903125250448153\n",
      "min split decr: 1.000e+00  |  test mse: 6.114254875860025\n",
      "min split decr: 3.162e+00  |  test mse: 8.024303693441357\n",
      "min split decr: 1.000e+01  |  test mse: 8.024303693441357\n",
      "min split decr: 3.162e+01  |  test mse: 8.024303693441357\n",
      "min split decr: 1.000e+02  |  test mse: 8.024303693441357\n",
      "min split decr: 3.162e+02  |  test mse: 8.024303693441357\n",
      "min split decr: 1.000e+03  |  test mse: 8.024303693441357\n"
     ]
    }
   ],
   "source": [
    "from sklearn.model_selection import cross_validate\n",
    "\n",
    "min_decr_list = np.logspace(-3, 3, 13)\n",
    "\n",
    "for min_decr in min_decr_list:\n",
    "    \n",
    "    reg_tree = DecisionTreeRegressor(random_state=0, min_impurity_decrease=min_decr)\n",
    "\n",
    "    cv_results = cross_validate(reg_tree, X, y, cv=10, scoring='neg_mean_squared_error')\n",
    "    \n",
    "    avg_test_mse = np.mean(-1*cv_results['test_score'])\n",
    "    \n",
    "    print(\"min split decr: %5.3e\" % min_decr, \" |  test mse:\", avg_test_mse)"
   ]
  },
  {
   "cell_type": "code",
   "execution_count": 9,
   "metadata": {},
   "outputs": [
    {
     "name": "stdout",
     "output_type": "stream",
     "text": [
      "max leaf nodes:    2  |  test mse: 6.021211549802172\n",
      "max leaf nodes:    3  |  test mse: 5.463939411950188\n",
      "max leaf nodes:    4  |  test mse: 5.350477382126139\n",
      "max leaf nodes:    5  |  test mse: 4.7615529635906455\n",
      "max leaf nodes:    7  |  test mse: 4.869271383110496\n",
      "max leaf nodes:   10  |  test mse: 4.74810583970232\n",
      "max leaf nodes:   14  |  test mse: 4.80136840944212\n",
      "max leaf nodes:   20  |  test mse: 4.639243894469821\n",
      "max leaf nodes:   27  |  test mse: 4.62718150075911\n",
      "max leaf nodes:   38  |  test mse: 4.415070541600826\n",
      "max leaf nodes:   53  |  test mse: 4.466614060143851\n",
      "max leaf nodes:   73  |  test mse: 4.552412057504686\n",
      "max leaf nodes:  101  |  test mse: 4.759964075058629\n",
      "max leaf nodes:  141  |  test mse: 4.94207044564928\n",
      "max leaf nodes:  195  |  test mse: 5.063093958541667\n",
      "max leaf nodes:  270  |  test mse: 5.071329741319444\n",
      "max leaf nodes:  375  |  test mse: 5.07338375\n",
      "max leaf nodes:  520  |  test mse: 5.07338375\n",
      "max leaf nodes:  721  |  test mse: 5.07338375\n",
      "max leaf nodes: 1000  |  test mse: 5.07338375\n"
     ]
    }
   ],
   "source": [
    "max_nodes_list = np.logspace(np.log10(2), np.log10(1000), 20)\n",
    "\n",
    "for max_nodes in max_nodes_list:\n",
    "    \n",
    "    reg_tree = DecisionTreeRegressor(random_state=0, max_leaf_nodes=round(max_nodes))\n",
    "\n",
    "    cv_results = cross_validate(reg_tree, X, y, cv=10, scoring='neg_mean_squared_error')\n",
    "    \n",
    "    avg_test_mse = np.mean(-1*cv_results['test_score'])\n",
    "    \n",
    "    print(\"max leaf nodes: %4d\" % round(max_nodes), \" |  test mse:\", avg_test_mse)"
   ]
  },
  {
   "cell_type": "code",
   "execution_count": 10,
   "metadata": {},
   "outputs": [
    {
     "name": "stdout",
     "output_type": "stream",
     "text": [
      "max tree depth:   2  |  test mse: 5.175545607747162\n",
      "max tree depth:   2  |  test mse: 5.175545607747162\n",
      "max tree depth:   3  |  test mse: 4.7590242840611285\n",
      "max tree depth:   4  |  test mse: 4.882876270347563\n",
      "max tree depth:   5  |  test mse: 4.646330628189368\n",
      "max tree depth:   6  |  test mse: 4.5029336227383485\n",
      "max tree depth:   7  |  test mse: 4.625605916258284\n",
      "max tree depth:   8  |  test mse: 4.601803437534455\n",
      "max tree depth:  10  |  test mse: 5.0851134190414635\n",
      "max tree depth:  13  |  test mse: 5.103489814687501\n",
      "max tree depth:  16  |  test mse: 5.111214562500001\n",
      "max tree depth:  19  |  test mse: 4.9669585\n",
      "max tree depth:  24  |  test mse: 4.9669585\n",
      "max tree depth:  29  |  test mse: 4.9669585\n",
      "max tree depth:  36  |  test mse: 4.9669585\n",
      "max tree depth:  44  |  test mse: 4.9669585\n",
      "max tree depth:  54  |  test mse: 4.9669585\n",
      "max tree depth:  66  |  test mse: 4.9669585\n",
      "max tree depth:  81  |  test mse: 4.9669585\n",
      "max tree depth: 100  |  test mse: 4.9669585\n"
     ]
    }
   ],
   "source": [
    "max_depth_list = np.logspace(np.log10(2), np.log10(100), 20)\n",
    "\n",
    "for max_depth in max_depth_list:\n",
    "    \n",
    "    reg_tree = DecisionTreeRegressor(random_state=0, max_depth=round(max_depth))\n",
    "\n",
    "    cv_results = cross_validate(reg_tree, X, y, cv=10, scoring='neg_mean_squared_error')\n",
    "    \n",
    "    avg_test_mse = np.mean(-1*cv_results['test_score'])\n",
    "    \n",
    "    print(\"max tree depth: %3d\" % round(max_depth), \" |  test mse:\", avg_test_mse)"
   ]
  },
  {
   "cell_type": "markdown",
   "metadata": {},
   "source": [
    "The optimal tree complexity is with min split decrease of ~3-10 E-2, max leaf nodes of ~50, and max tree depth of ~6."
   ]
  },
  {
   "cell_type": "code",
   "execution_count": 11,
   "metadata": {},
   "outputs": [
    {
     "name": "stdout",
     "output_type": "stream",
     "text": [
      "decision tree test mse: 4.515\n"
     ]
    },
    {
     "data": {
      "image/png": "[encoded data removed]",
      "text/plain": [
       "<Figure size 1080x1080 with 1 Axes>"
      ]
     },
     "metadata": {
      "needs_background": "light"
     },
     "output_type": "display_data"
    }
   ],
   "source": [
    "reg_tree = DecisionTreeRegressor(random_state=0, min_impurity_decrease=1E-1, max_leaf_nodes=50, max_depth=6)\n",
    "reg_tree.fit(X_train, y_train)\n",
    "\n",
    "fig = plt.figure(figsize=(15,15))\n",
    "ax  = fig.gca()\n",
    "plot_tree(reg_tree, ax=ax, feature_names=carseats.drop(\"Sales\", axis=1).columns, \n",
    "          class_names=\"Sales\", impurity=False);\n",
    "\n",
    "mse = mean_squared_error(y_test, reg_tree.predict(X_test))\n",
    "print(\"decision tree test mse: %.3f\" % mse)"
   ]
  },
  {
   "cell_type": "markdown",
   "metadata": {},
   "source": [
    "Pruning does indeed help improve the MSE."
   ]
  },
  {
   "cell_type": "markdown",
   "metadata": {},
   "source": [
    "## Problem 2(d)"
   ]
  },
  {
   "cell_type": "code",
   "execution_count": 12,
   "metadata": {},
   "outputs": [],
   "source": [
    "from sklearn.ensemble import BaggingRegressor\n",
    "\n",
    "bag_reg = BaggingRegressor(DecisionTreeRegressor(random_state=0), random_state=0)\n",
    "bag_reg.fit(X_train, y_train);"
   ]
  },
  {
   "cell_type": "code",
   "execution_count": 13,
   "metadata": {},
   "outputs": [
    {
     "name": "stdout",
     "output_type": "stream",
     "text": [
      "bagged decision tree test mse: 2.6994652600000006\n"
     ]
    }
   ],
   "source": [
    "mse = mean_squared_error(y_test, bag_reg.predict(X_test))\n",
    "print(\"bagged decision tree test mse:\", mse)"
   ]
  },
  {
   "cell_type": "code",
   "execution_count": 14,
   "metadata": {},
   "outputs": [
    {
     "name": "stdout",
     "output_type": "stream",
     "text": [
      "          Price  |  0.292875\n",
      "ShelveLocMedium  |  0.215514\n",
      "            Age  |  0.121255\n",
      "      CompPrice  |  0.095484\n",
      "    Advertising  |  0.077952\n",
      "         Income  |  0.050261\n",
      "   ShelveLocBad  |  0.040722\n",
      "     Population  |  0.036205\n",
      "  ShelveLocGood  |  0.033244\n",
      "      Education  |  0.027782\n",
      "          Urban  |  0.006050\n",
      "             US  |  0.002655\n",
      "Top 3 features are: Price  ShelveLocMedium  Age\n"
     ]
    }
   ],
   "source": [
    "feature_importances = np.mean([tree.feature_importances_ for tree in bag_reg.estimators_], axis=0)\n",
    "\n",
    "idxs = np.argsort(feature_importances)[::-1]\n",
    "\n",
    "for col, imp in zip(X.columns[idxs], feature_importances[idxs]):\n",
    "    print(\"%15s\" %col, \" |  %3f\" %imp)\n",
    "    \n",
    "print(\"Top 3 features are:\", X.columns[idxs][0], \"\", X.columns[idxs][1], \"\", X.columns[idxs][2])"
   ]
  },
  {
   "cell_type": "markdown",
   "metadata": {},
   "source": [
    "## Problem 2(e)"
   ]
  },
  {
   "cell_type": "code",
   "execution_count": 15,
   "metadata": {},
   "outputs": [],
   "source": [
    "from sklearn.ensemble import RandomForestRegressor\n",
    "\n",
    "rf_reg = RandomForestRegressor(random_state=0)\n",
    "rf_reg.fit(X_train, y_train);"
   ]
  },
  {
   "cell_type": "code",
   "execution_count": 16,
   "metadata": {},
   "outputs": [
    {
     "name": "stdout",
     "output_type": "stream",
     "text": [
      "random forest test mse: 2.263103768200001\n"
     ]
    }
   ],
   "source": [
    "mse = mean_squared_error(y_test, rf_reg.predict(X_test))\n",
    "print(\"random forest test mse:\", mse)"
   ]
  },
  {
   "cell_type": "code",
   "execution_count": 17,
   "metadata": {},
   "outputs": [
    {
     "name": "stdout",
     "output_type": "stream",
     "text": [
      "          Price  |  0.290875\n",
      "ShelveLocMedium  |  0.195175\n",
      "            Age  |  0.105819\n",
      "      CompPrice  |  0.098693\n",
      "    Advertising  |  0.067502\n",
      "   ShelveLocBad  |  0.064920\n",
      "         Income  |  0.052249\n",
      "  ShelveLocGood  |  0.043733\n",
      "     Population  |  0.038941\n",
      "      Education  |  0.031178\n",
      "             US  |  0.005607\n",
      "          Urban  |  0.005308\n",
      "Top 3 features are: Price  ShelveLocMedium  Age\n"
     ]
    }
   ],
   "source": [
    "feature_importances = np.mean([tree.feature_importances_ for tree in rf_reg.estimators_], axis=0)\n",
    "\n",
    "idxs = np.argsort(feature_importances)[::-1]\n",
    "\n",
    "for col, imp in zip(X.columns[idxs], feature_importances[idxs]):\n",
    "    print(\"%15s\" %col, \" |  %3f\" %imp)\n",
    "    \n",
    "print(\"Top 3 features are:\", X.columns[idxs][0], \"\", X.columns[idxs][1], \"\", X.columns[idxs][2])"
   ]
  },
  {
   "cell_type": "code",
   "execution_count": 18,
   "metadata": {},
   "outputs": [
    {
     "name": "stdout",
     "output_type": "stream",
     "text": [
      "m:  1  |  MSE: 3.131\n",
      "m:  2  |  MSE: 2.800\n",
      "m:  3  |  MSE: 2.484\n",
      "m:  4  |  MSE: 2.439\n",
      "m:  5  |  MSE: 2.350\n",
      "m:  6  |  MSE: 2.242\n",
      "m:  7  |  MSE: 2.185\n",
      "m:  8  |  MSE: 2.288\n",
      "m:  9  |  MSE: 2.316\n",
      "m: 10  |  MSE: 2.240\n",
      "m: 11  |  MSE: 2.328\n"
     ]
    }
   ],
   "source": [
    "ms = np.arange(1, 12)\n",
    "\n",
    "for m in ms:\n",
    "    \n",
    "    rf_reg = RandomForestRegressor(random_state=0, max_features=m)\n",
    "    rf_reg.fit(X_train, y_train);\n",
    "    \n",
    "    mse = mean_squared_error(y_test, rf_reg.predict(X_test))\n",
    "\n",
    "    print(\"m: %2d\" % m, \" |  MSE: %.3f\" % mse)"
   ]
  },
  {
   "cell_type": "markdown",
   "metadata": {},
   "source": [
    "As m is increased, we increase model flexibility up to a certain point, after which the model begins to have trouble identifying the signal in the data, as seen by the increase in MSE after about m=~7."
   ]
  },
  {
   "cell_type": "markdown",
   "metadata": {},
   "source": [
    "# Problem 3 (Chapter 8, Exercise 10)"
   ]
  },
  {
   "cell_type": "code",
   "execution_count": 19,
   "metadata": {},
   "outputs": [
    {
     "name": "stdout",
     "output_type": "stream",
     "text": [
      "<class 'pandas.core.frame.DataFrame'>\n",
      "RangeIndex: 322 entries, 0 to 321\n",
      "Data columns (total 21 columns):\n",
      " #   Column      Non-Null Count  Dtype  \n",
      "---  ------      --------------  -----  \n",
      " 0   Unnamed: 0  322 non-null    object \n",
      " 1   AtBat       322 non-null    int64  \n",
      " 2   Hits        322 non-null    int64  \n",
      " 3   HmRun       322 non-null    int64  \n",
      " 4   Runs        322 non-null    int64  \n",
      " 5   RBI         322 non-null    int64  \n",
      " 6   Walks       322 non-null    int64  \n",
      " 7   Years       322 non-null    int64  \n",
      " 8   CAtBat      322 non-null    int64  \n",
      " 9   CHits       322 non-null    int64  \n",
      " 10  CHmRun      322 non-null    int64  \n",
      " 11  CRuns       322 non-null    int64  \n",
      " 12  CRBI        322 non-null    int64  \n",
      " 13  CWalks      322 non-null    int64  \n",
      " 14  League      322 non-null    object \n",
      " 15  Division    322 non-null    object \n",
      " 16  PutOuts     322 non-null    int64  \n",
      " 17  Assists     322 non-null    int64  \n",
      " 18  Errors      322 non-null    int64  \n",
      " 19  Salary      263 non-null    float64\n",
      " 20  NewLeague   322 non-null    object \n",
      "dtypes: float64(1), int64(16), object(4)\n",
      "memory usage: 53.0+ KB\n",
      "None\n",
      "          Unnamed: 0  AtBat  Hits  HmRun  Runs  RBI  Walks  Years  CAtBat  \\\n",
      "0     -Andy Allanson    293    66      1    30   29     14      1     293   \n",
      "1        -Alan Ashby    315    81      7    24   38     39     14    3449   \n",
      "2       -Alvin Davis    479   130     18    66   72     76      3    1624   \n",
      "3      -Andre Dawson    496   141     20    65   78     37     11    5628   \n",
      "4  -Andres Galarraga    321    87     10    39   42     30      2     396   \n",
      "\n",
      "   CHits  ...  CRuns  CRBI  CWalks  League Division PutOuts  Assists  Errors  \\\n",
      "0     66  ...     30    29      14       A        E     446       33      20   \n",
      "1    835  ...    321   414     375       N        W     632       43      10   \n",
      "2    457  ...    224   266     263       A        W     880       82      14   \n",
      "3   1575  ...    828   838     354       N        E     200       11       3   \n",
      "4    101  ...     48    46      33       N        E     805       40       4   \n",
      "\n",
      "   Salary  NewLeague  \n",
      "0     NaN          A  \n",
      "1   475.0          N  \n",
      "2   480.0          A  \n",
      "3   500.0          N  \n",
      "4    91.5          N  \n",
      "\n",
      "[5 rows x 21 columns]\n"
     ]
    }
   ],
   "source": [
    "hitters = pd.read_csv(\"data/Hitters.csv\")\n",
    "\n",
    "print(hitters.info())\n",
    "print(hitters.head())\n",
    "\n",
    "# drop hitter names\n",
    "hitters = hitters.drop(\"Unnamed: 0\", axis=1)\n",
    "\n",
    "# fix categorical columns\n",
    "for col in [\"League\", \"Division\", \"NewLeague\"]:\n",
    "  hitters[col] = hitters[col].astype('category').cat.codes"
   ]
  },
  {
   "cell_type": "markdown",
   "metadata": {},
   "source": [
    "## Problem 3(a)"
   ]
  },
  {
   "cell_type": "code",
   "execution_count": 20,
   "metadata": {},
   "outputs": [
    {
     "name": "stdout",
     "output_type": "stream",
     "text": [
      "<class 'pandas.core.frame.DataFrame'>\n",
      "Int64Index: 263 entries, 1 to 321\n",
      "Data columns (total 20 columns):\n",
      " #   Column     Non-Null Count  Dtype  \n",
      "---  ------     --------------  -----  \n",
      " 0   AtBat      263 non-null    int64  \n",
      " 1   Hits       263 non-null    int64  \n",
      " 2   HmRun      263 non-null    int64  \n",
      " 3   Runs       263 non-null    int64  \n",
      " 4   RBI        263 non-null    int64  \n",
      " 5   Walks      263 non-null    int64  \n",
      " 6   Years      263 non-null    int64  \n",
      " 7   CAtBat     263 non-null    int64  \n",
      " 8   CHits      263 non-null    int64  \n",
      " 9   CHmRun     263 non-null    int64  \n",
      " 10  CRuns      263 non-null    int64  \n",
      " 11  CRBI       263 non-null    int64  \n",
      " 12  CWalks     263 non-null    int64  \n",
      " 13  League     263 non-null    int8   \n",
      " 14  Division   263 non-null    int8   \n",
      " 15  PutOuts    263 non-null    int64  \n",
      " 16  Assists    263 non-null    int64  \n",
      " 17  Errors     263 non-null    int64  \n",
      " 18  Salary     263 non-null    float64\n",
      " 19  NewLeague  263 non-null    int8   \n",
      "dtypes: float64(1), int64(16), int8(3)\n",
      "memory usage: 37.8 KB\n"
     ]
    }
   ],
   "source": [
    "hitters = hitters.dropna()\n",
    "hitters.info()"
   ]
  },
  {
   "cell_type": "code",
   "execution_count": 21,
   "metadata": {},
   "outputs": [
    {
     "data": {
      "text/html": [
       "<div>\n",
       "<style scoped>\n",
       "    .dataframe tbody tr th:only-of-type {\n",
       "        vertical-align: middle;\n",
       "    }\n",
       "\n",
       "    .dataframe tbody tr th {\n",
       "        vertical-align: top;\n",
       "    }\n",
       "\n",
       "    .dataframe thead th {\n",
       "        text-align: right;\n",
       "    }\n",
       "</style>\n",
       "<table border=\"1\" class=\"dataframe\">\n",
       "  <thead>\n",
       "    <tr style=\"text-align: right;\">\n",
       "      <th></th>\n",
       "      <th>AtBat</th>\n",
       "      <th>Hits</th>\n",
       "      <th>HmRun</th>\n",
       "      <th>Runs</th>\n",
       "      <th>RBI</th>\n",
       "      <th>Walks</th>\n",
       "      <th>Years</th>\n",
       "      <th>CAtBat</th>\n",
       "      <th>CHits</th>\n",
       "      <th>CHmRun</th>\n",
       "      <th>CRuns</th>\n",
       "      <th>CRBI</th>\n",
       "      <th>CWalks</th>\n",
       "      <th>League</th>\n",
       "      <th>Division</th>\n",
       "      <th>PutOuts</th>\n",
       "      <th>Assists</th>\n",
       "      <th>Errors</th>\n",
       "      <th>Salary</th>\n",
       "      <th>NewLeague</th>\n",
       "    </tr>\n",
       "  </thead>\n",
       "  <tbody>\n",
       "    <tr>\n",
       "      <th>1</th>\n",
       "      <td>315</td>\n",
       "      <td>81</td>\n",
       "      <td>7</td>\n",
       "      <td>24</td>\n",
       "      <td>38</td>\n",
       "      <td>39</td>\n",
       "      <td>14</td>\n",
       "      <td>3449</td>\n",
       "      <td>835</td>\n",
       "      <td>69</td>\n",
       "      <td>321</td>\n",
       "      <td>414</td>\n",
       "      <td>375</td>\n",
       "      <td>1</td>\n",
       "      <td>1</td>\n",
       "      <td>632</td>\n",
       "      <td>43</td>\n",
       "      <td>10</td>\n",
       "      <td>475.0</td>\n",
       "      <td>1</td>\n",
       "    </tr>\n",
       "    <tr>\n",
       "      <th>2</th>\n",
       "      <td>479</td>\n",
       "      <td>130</td>\n",
       "      <td>18</td>\n",
       "      <td>66</td>\n",
       "      <td>72</td>\n",
       "      <td>76</td>\n",
       "      <td>3</td>\n",
       "      <td>1624</td>\n",
       "      <td>457</td>\n",
       "      <td>63</td>\n",
       "      <td>224</td>\n",
       "      <td>266</td>\n",
       "      <td>263</td>\n",
       "      <td>0</td>\n",
       "      <td>1</td>\n",
       "      <td>880</td>\n",
       "      <td>82</td>\n",
       "      <td>14</td>\n",
       "      <td>480.0</td>\n",
       "      <td>0</td>\n",
       "    </tr>\n",
       "    <tr>\n",
       "      <th>3</th>\n",
       "      <td>496</td>\n",
       "      <td>141</td>\n",
       "      <td>20</td>\n",
       "      <td>65</td>\n",
       "      <td>78</td>\n",
       "      <td>37</td>\n",
       "      <td>11</td>\n",
       "      <td>5628</td>\n",
       "      <td>1575</td>\n",
       "      <td>225</td>\n",
       "      <td>828</td>\n",
       "      <td>838</td>\n",
       "      <td>354</td>\n",
       "      <td>1</td>\n",
       "      <td>0</td>\n",
       "      <td>200</td>\n",
       "      <td>11</td>\n",
       "      <td>3</td>\n",
       "      <td>500.0</td>\n",
       "      <td>1</td>\n",
       "    </tr>\n",
       "    <tr>\n",
       "      <th>4</th>\n",
       "      <td>321</td>\n",
       "      <td>87</td>\n",
       "      <td>10</td>\n",
       "      <td>39</td>\n",
       "      <td>42</td>\n",
       "      <td>30</td>\n",
       "      <td>2</td>\n",
       "      <td>396</td>\n",
       "      <td>101</td>\n",
       "      <td>12</td>\n",
       "      <td>48</td>\n",
       "      <td>46</td>\n",
       "      <td>33</td>\n",
       "      <td>1</td>\n",
       "      <td>0</td>\n",
       "      <td>805</td>\n",
       "      <td>40</td>\n",
       "      <td>4</td>\n",
       "      <td>91.5</td>\n",
       "      <td>1</td>\n",
       "    </tr>\n",
       "    <tr>\n",
       "      <th>5</th>\n",
       "      <td>594</td>\n",
       "      <td>169</td>\n",
       "      <td>4</td>\n",
       "      <td>74</td>\n",
       "      <td>51</td>\n",
       "      <td>35</td>\n",
       "      <td>11</td>\n",
       "      <td>4408</td>\n",
       "      <td>1133</td>\n",
       "      <td>19</td>\n",
       "      <td>501</td>\n",
       "      <td>336</td>\n",
       "      <td>194</td>\n",
       "      <td>0</td>\n",
       "      <td>1</td>\n",
       "      <td>282</td>\n",
       "      <td>421</td>\n",
       "      <td>25</td>\n",
       "      <td>750.0</td>\n",
       "      <td>0</td>\n",
       "    </tr>\n",
       "  </tbody>\n",
       "</table>\n",
       "</div>"
      ],
      "text/plain": [
       "   AtBat  Hits  HmRun  Runs  RBI  Walks  Years  CAtBat  CHits  CHmRun  CRuns  \\\n",
       "1    315    81      7    24   38     39     14    3449    835      69    321   \n",
       "2    479   130     18    66   72     76      3    1624    457      63    224   \n",
       "3    496   141     20    65   78     37     11    5628   1575     225    828   \n",
       "4    321    87     10    39   42     30      2     396    101      12     48   \n",
       "5    594   169      4    74   51     35     11    4408   1133      19    501   \n",
       "\n",
       "   CRBI  CWalks  League  Division  PutOuts  Assists  Errors  Salary  NewLeague  \n",
       "1   414     375       1         1      632       43      10   475.0          1  \n",
       "2   266     263       0         1      880       82      14   480.0          0  \n",
       "3   838     354       1         0      200       11       3   500.0          1  \n",
       "4    46      33       1         0      805       40       4    91.5          1  \n",
       "5   336     194       0         1      282      421      25   750.0          0  "
      ]
     },
     "execution_count": 21,
     "metadata": {},
     "output_type": "execute_result"
    }
   ],
   "source": [
    "hitters.head()"
   ]
  },
  {
   "cell_type": "code",
   "execution_count": 22,
   "metadata": {},
   "outputs": [
    {
     "data": {
      "text/html": [
       "<div>\n",
       "<style scoped>\n",
       "    .dataframe tbody tr th:only-of-type {\n",
       "        vertical-align: middle;\n",
       "    }\n",
       "\n",
       "    .dataframe tbody tr th {\n",
       "        vertical-align: top;\n",
       "    }\n",
       "\n",
       "    .dataframe thead th {\n",
       "        text-align: right;\n",
       "    }\n",
       "</style>\n",
       "<table border=\"1\" class=\"dataframe\">\n",
       "  <thead>\n",
       "    <tr style=\"text-align: right;\">\n",
       "      <th></th>\n",
       "      <th>AtBat</th>\n",
       "      <th>Hits</th>\n",
       "      <th>HmRun</th>\n",
       "      <th>Runs</th>\n",
       "      <th>RBI</th>\n",
       "      <th>Walks</th>\n",
       "      <th>Years</th>\n",
       "      <th>CAtBat</th>\n",
       "      <th>CHits</th>\n",
       "      <th>CHmRun</th>\n",
       "      <th>CRuns</th>\n",
       "      <th>CRBI</th>\n",
       "      <th>CWalks</th>\n",
       "      <th>League</th>\n",
       "      <th>Division</th>\n",
       "      <th>PutOuts</th>\n",
       "      <th>Assists</th>\n",
       "      <th>Errors</th>\n",
       "      <th>Salary</th>\n",
       "      <th>NewLeague</th>\n",
       "    </tr>\n",
       "  </thead>\n",
       "  <tbody>\n",
       "    <tr>\n",
       "      <th>1</th>\n",
       "      <td>315</td>\n",
       "      <td>81</td>\n",
       "      <td>7</td>\n",
       "      <td>24</td>\n",
       "      <td>38</td>\n",
       "      <td>39</td>\n",
       "      <td>14</td>\n",
       "      <td>3449</td>\n",
       "      <td>835</td>\n",
       "      <td>69</td>\n",
       "      <td>321</td>\n",
       "      <td>414</td>\n",
       "      <td>375</td>\n",
       "      <td>1</td>\n",
       "      <td>1</td>\n",
       "      <td>632</td>\n",
       "      <td>43</td>\n",
       "      <td>10</td>\n",
       "      <td>6.163315</td>\n",
       "      <td>1</td>\n",
       "    </tr>\n",
       "    <tr>\n",
       "      <th>2</th>\n",
       "      <td>479</td>\n",
       "      <td>130</td>\n",
       "      <td>18</td>\n",
       "      <td>66</td>\n",
       "      <td>72</td>\n",
       "      <td>76</td>\n",
       "      <td>3</td>\n",
       "      <td>1624</td>\n",
       "      <td>457</td>\n",
       "      <td>63</td>\n",
       "      <td>224</td>\n",
       "      <td>266</td>\n",
       "      <td>263</td>\n",
       "      <td>0</td>\n",
       "      <td>1</td>\n",
       "      <td>880</td>\n",
       "      <td>82</td>\n",
       "      <td>14</td>\n",
       "      <td>6.173786</td>\n",
       "      <td>0</td>\n",
       "    </tr>\n",
       "    <tr>\n",
       "      <th>3</th>\n",
       "      <td>496</td>\n",
       "      <td>141</td>\n",
       "      <td>20</td>\n",
       "      <td>65</td>\n",
       "      <td>78</td>\n",
       "      <td>37</td>\n",
       "      <td>11</td>\n",
       "      <td>5628</td>\n",
       "      <td>1575</td>\n",
       "      <td>225</td>\n",
       "      <td>828</td>\n",
       "      <td>838</td>\n",
       "      <td>354</td>\n",
       "      <td>1</td>\n",
       "      <td>0</td>\n",
       "      <td>200</td>\n",
       "      <td>11</td>\n",
       "      <td>3</td>\n",
       "      <td>6.214608</td>\n",
       "      <td>1</td>\n",
       "    </tr>\n",
       "    <tr>\n",
       "      <th>4</th>\n",
       "      <td>321</td>\n",
       "      <td>87</td>\n",
       "      <td>10</td>\n",
       "      <td>39</td>\n",
       "      <td>42</td>\n",
       "      <td>30</td>\n",
       "      <td>2</td>\n",
       "      <td>396</td>\n",
       "      <td>101</td>\n",
       "      <td>12</td>\n",
       "      <td>48</td>\n",
       "      <td>46</td>\n",
       "      <td>33</td>\n",
       "      <td>1</td>\n",
       "      <td>0</td>\n",
       "      <td>805</td>\n",
       "      <td>40</td>\n",
       "      <td>4</td>\n",
       "      <td>4.516339</td>\n",
       "      <td>1</td>\n",
       "    </tr>\n",
       "    <tr>\n",
       "      <th>5</th>\n",
       "      <td>594</td>\n",
       "      <td>169</td>\n",
       "      <td>4</td>\n",
       "      <td>74</td>\n",
       "      <td>51</td>\n",
       "      <td>35</td>\n",
       "      <td>11</td>\n",
       "      <td>4408</td>\n",
       "      <td>1133</td>\n",
       "      <td>19</td>\n",
       "      <td>501</td>\n",
       "      <td>336</td>\n",
       "      <td>194</td>\n",
       "      <td>0</td>\n",
       "      <td>1</td>\n",
       "      <td>282</td>\n",
       "      <td>421</td>\n",
       "      <td>25</td>\n",
       "      <td>6.620073</td>\n",
       "      <td>0</td>\n",
       "    </tr>\n",
       "  </tbody>\n",
       "</table>\n",
       "</div>"
      ],
      "text/plain": [
       "   AtBat  Hits  HmRun  Runs  RBI  Walks  Years  CAtBat  CHits  CHmRun  CRuns  \\\n",
       "1    315    81      7    24   38     39     14    3449    835      69    321   \n",
       "2    479   130     18    66   72     76      3    1624    457      63    224   \n",
       "3    496   141     20    65   78     37     11    5628   1575     225    828   \n",
       "4    321    87     10    39   42     30      2     396    101      12     48   \n",
       "5    594   169      4    74   51     35     11    4408   1133      19    501   \n",
       "\n",
       "   CRBI  CWalks  League  Division  PutOuts  Assists  Errors    Salary  \\\n",
       "1   414     375       1         1      632       43      10  6.163315   \n",
       "2   266     263       0         1      880       82      14  6.173786   \n",
       "3   838     354       1         0      200       11       3  6.214608   \n",
       "4    46      33       1         0      805       40       4  4.516339   \n",
       "5   336     194       0         1      282      421      25  6.620073   \n",
       "\n",
       "   NewLeague  \n",
       "1          1  \n",
       "2          0  \n",
       "3          1  \n",
       "4          1  \n",
       "5          0  "
      ]
     },
     "execution_count": 22,
     "metadata": {},
     "output_type": "execute_result"
    }
   ],
   "source": [
    "hitters[\"Salary\"] = np.log(hitters[\"Salary\"])\n",
    "hitters.head()"
   ]
  },
  {
   "cell_type": "markdown",
   "metadata": {},
   "source": [
    "## Problem 3(b)"
   ]
  },
  {
   "cell_type": "code",
   "execution_count": 23,
   "metadata": {},
   "outputs": [],
   "source": [
    "X = hitters.drop(\"Salary\", axis=1)\n",
    "y = hitters[\"Salary\"]\n",
    "\n",
    "X_train = X.iloc[:200, :]\n",
    "y_train = y.iloc[:200]\n",
    "X_test  = X.iloc[200:, :]\n",
    "y_test  = y.iloc[200:]"
   ]
  },
  {
   "cell_type": "markdown",
   "metadata": {},
   "source": [
    "## Problem 3(c) & 3(d)"
   ]
  },
  {
   "cell_type": "code",
   "execution_count": 24,
   "metadata": {},
   "outputs": [],
   "source": [
    "from sklearn.ensemble import GradientBoostingRegressor\n",
    "\n",
    "lrs = np.logspace(-4, 0, 17)\n",
    "train_mse_hist = []\n",
    "test_mse_hist  = []\n",
    "\n",
    "for lr in lrs:\n",
    "    \n",
    "    gb_reg = GradientBoostingRegressor(random_state=0, learning_rate=lr, n_estimators=1000, criterion=\"mse\")\n",
    "    gb_reg.fit(X_train, y_train)\n",
    "\n",
    "    test_mse = mean_squared_error(y_test, gb_reg.predict(X_test))\n",
    "    \n",
    "    train_mse_hist.append(gb_reg.train_score_[-1])\n",
    "    test_mse_hist. append(test_mse)"
   ]
  },
  {
   "cell_type": "code",
   "execution_count": 25,
   "metadata": {},
   "outputs": [
    {
     "data": {
      "image/png": "[encoded data removed]",
      "text/plain": [
       "<Figure size 432x288 with 1 Axes>"
      ]
     },
     "metadata": {
      "needs_background": "light"
     },
     "output_type": "display_data"
    }
   ],
   "source": [
    "plt.plot(lrs, train_mse_hist, marker=\"o\", label=\"Training Loss\")\n",
    "plt.plot(lrs, test_mse_hist,  marker=\"o\", label=\"Testing Loss\")\n",
    "plt.xlabel(\"Shrinkage Parameter\")\n",
    "plt.ylabel(\"MSE\")\n",
    "plt.xscale(\"log\")\n",
    "plt.legend()\n",
    "plt.grid()"
   ]
  },
  {
   "cell_type": "markdown",
   "metadata": {},
   "source": [
    "## Problem 3(e)"
   ]
  },
  {
   "cell_type": "code",
   "execution_count": 26,
   "metadata": {},
   "outputs": [
    {
     "name": "stdout",
     "output_type": "stream",
     "text": [
      "gradient boosting test MSE: 0.207\n",
      "linear regression test MSE: 0.492\n"
     ]
    }
   ],
   "source": [
    "from sklearn.linear_model import LinearRegression\n",
    "\n",
    "lin_reg = LinearRegression()\n",
    "lin_reg.fit(X_train, y_train)\n",
    "\n",
    "mse = mean_squared_error(y_test, lin_reg.predict(X_test))\n",
    "\n",
    "print(\"gradient boosting test MSE: %.3f\" % np.min(test_mse_hist))\n",
    "print(\"linear regression test MSE: %.3f\" % mse)"
   ]
  },
  {
   "cell_type": "markdown",
   "metadata": {},
   "source": [
    "## Problem 3(f)"
   ]
  },
  {
   "cell_type": "code",
   "execution_count": 27,
   "metadata": {},
   "outputs": [
    {
     "name": "stdout",
     "output_type": "stream",
     "text": [
      "         CAtBat  |  0.558630\n",
      "          CHits  |  0.095260\n",
      "          CRuns  |  0.053545\n",
      "          AtBat  |  0.049422\n",
      "          Walks  |  0.045620\n",
      "           CRBI  |  0.038976\n",
      "         CWalks  |  0.034677\n",
      "         CHmRun  |  0.029765\n",
      "          Years  |  0.023699\n",
      "           Hits  |  0.022652\n",
      "            RBI  |  0.016421\n",
      "        PutOuts  |  0.011897\n",
      "           Runs  |  0.010749\n",
      "         Errors  |  0.003875\n",
      "        Assists  |  0.002180\n",
      "          HmRun  |  0.001302\n",
      "      NewLeague  |  0.000923\n",
      "         League  |  0.000211\n",
      "       Division  |  0.000196\n",
      "Top 3 features are: CAtBat  CHits  CRuns\n"
     ]
    }
   ],
   "source": [
    "gb_reg = GradientBoostingRegressor(random_state=0, learning_rate=lrs[np.argmin(test_mse_hist)], \n",
    "                                   n_estimators=1000, criterion=\"mse\")\n",
    "gb_reg.fit(X_train, y_train)\n",
    "\n",
    "idxs = np.argsort(gb_reg.feature_importances_)[::-1]\n",
    "\n",
    "for col, imp in zip(X.columns[idxs], gb_reg.feature_importances_[idxs]):\n",
    "    print(\"%15s\" %col, \" |  %3f\" %imp)\n",
    "\n",
    "print(\"Top 3 features are:\", X.columns[idxs][0], \"\", X.columns[idxs][1], \"\", X.columns[idxs][2])"
   ]
  },
  {
   "cell_type": "markdown",
   "metadata": {},
   "source": [
    "## Problem 3(g)"
   ]
  },
  {
   "cell_type": "code",
   "execution_count": 28,
   "metadata": {},
   "outputs": [
    {
     "name": "stdout",
     "output_type": "stream",
     "text": [
      "gradient boosting test MSE: 0.207\n",
      "bagging test MSE:           0.258\n"
     ]
    }
   ],
   "source": [
    "bag_reg = BaggingRegressor(DecisionTreeRegressor(random_state=0), random_state=0)\n",
    "bag_reg.fit(X_train, y_train);\n",
    "\n",
    "mse = mean_squared_error(y_test, bag_reg.predict(X_test))\n",
    "\n",
    "print(\"gradient boosting test MSE: %.3f\" % np.min(test_mse_hist))\n",
    "print(\"bagging test MSE:           %.3f\" % mse)"
   ]
  },
  {
   "cell_type": "markdown",
   "metadata": {},
   "source": [
    "# Problem 4 (Chapter 8, Exercise 11)"
   ]
  },
  {
   "cell_type": "code",
   "execution_count": 29,
   "metadata": {},
   "outputs": [],
   "source": [
    "caravan = pd.read_csv(\"data/Caravan.csv\")"
   ]
  },
  {
   "cell_type": "markdown",
   "metadata": {},
   "source": [
    "## Problem 4(a)"
   ]
  },
  {
   "cell_type": "code",
   "execution_count": 30,
   "metadata": {},
   "outputs": [
    {
     "name": "stdout",
     "output_type": "stream",
     "text": [
      "   MOSTYPE  MAANTHUI  MGEMOMV  MGEMLEEF  MOSHOOFD  MGODRK  MGODPR  MGODOV  \\\n",
      "0       33         1        3         2         8       0       5       1   \n",
      "1       37         1        2         2         8       1       4       1   \n",
      "2       37         1        2         2         8       0       4       2   \n",
      "3        9         1        3         3         3       2       3       2   \n",
      "4       40         1        4         2        10       1       4       1   \n",
      "\n",
      "   MGODGE  MRELGE  ...  APERSONG  AGEZONG  AWAOREG  ABRAND  AZEILPL  APLEZIER  \\\n",
      "0       3       7  ...         0        0        0       1        0         0   \n",
      "1       4       6  ...         0        0        0       1        0         0   \n",
      "2       4       3  ...         0        0        0       1        0         0   \n",
      "3       4       5  ...         0        0        0       1        0         0   \n",
      "4       4       7  ...         0        0        0       1        0         0   \n",
      "\n",
      "   AFIETS  AINBOED  ABYSTAND  Purchase  \n",
      "0       0        0         0        No  \n",
      "1       0        0         0        No  \n",
      "2       0        0         0        No  \n",
      "3       0        0         0        No  \n",
      "4       0        0         0        No  \n",
      "\n",
      "[5 rows x 86 columns]\n"
     ]
    }
   ],
   "source": [
    "print(caravan.head())\n",
    "\n",
    "# fix categorical column\n",
    "enc = OneHotEncoder(categories=[[\"Yes\", \"No\"]], sparse=False)\n",
    "caravan[\"Purchase\"] = enc.fit_transform(caravan[\"Purchase\"].to_numpy().reshape(-1,1))"
   ]
  },
  {
   "cell_type": "code",
   "execution_count": 31,
   "metadata": {},
   "outputs": [],
   "source": [
    "X = caravan.drop(\"Purchase\", axis=1)\n",
    "y = caravan[\"Purchase\"]\n",
    "\n",
    "X_train = X.iloc[:1000, :]\n",
    "y_train = y.iloc[:1000]\n",
    "X_test  = X.iloc[1000:, :]\n",
    "y_test  = y.iloc[1000:]"
   ]
  },
  {
   "cell_type": "markdown",
   "metadata": {},
   "source": [
    "## Problem 4(b)"
   ]
  },
  {
   "cell_type": "code",
   "execution_count": 32,
   "metadata": {},
   "outputs": [
    {
     "name": "stdout",
     "output_type": "stream",
     "text": [
      "First ten features by importance:\n",
      "       PPERSAUT  |  0.074507\n",
      "        MOSTYPE  |  0.065550\n",
      "         ABRAND  |  0.056751\n",
      "         MGODGE  |  0.052928\n",
      "       MKOOPKLA  |  0.047574\n",
      "       MOPLHOOG  |  0.045789\n",
      "       MBERMIDD  |  0.040154\n",
      "         MGODPR  |  0.032920\n",
      "       PPLEZIER  |  0.031407\n",
      "         PBRAND  |  0.031169\n",
      "Top 3 features are: PPERSAUT  MOSTYPE  ABRAND\n"
     ]
    }
   ],
   "source": [
    "from sklearn.ensemble import GradientBoostingClassifier\n",
    "\n",
    "gb_clf = GradientBoostingClassifier(random_state=0, learning_rate=0.01, n_estimators=1000)\n",
    "gb_clf.fit(X_train, y_train)\n",
    "\n",
    "idxs = np.argsort(gb_clf.feature_importances_)[::-1]\n",
    "\n",
    "print(\"First ten features by importance:\")\n",
    "for col, imp in zip(X.columns[idxs][:10], gb_clf.feature_importances_[idxs][:10]):\n",
    "    print(\"%15s\" %col, \" |  %3f\" %imp)\n",
    "    \n",
    "print(\"Top 3 features are:\", X.columns[idxs][0], \"\", X.columns[idxs][1], \"\", X.columns[idxs][2])"
   ]
  },
  {
   "cell_type": "markdown",
   "metadata": {},
   "source": [
    "## Problem 4(c)"
   ]
  },
  {
   "cell_type": "code",
   "execution_count": 33,
   "metadata": {},
   "outputs": [],
   "source": [
    "y_pred = gb_clf.predict_proba(X_test)[:, 1]\n",
    "y_pred = y_pred > 0.2"
   ]
  },
  {
   "cell_type": "code",
   "execution_count": 34,
   "metadata": {},
   "outputs": [
    {
     "name": "stdout",
     "output_type": "stream",
     "text": [
      "[[4336  197]\n",
      " [ 251   38]]\n"
     ]
    }
   ],
   "source": [
    "from sklearn.metrics import confusion_matrix\n",
    "\n",
    "cm = confusion_matrix(y_test, y_pred)\n",
    "print(cm)"
   ]
  },
  {
   "cell_type": "code",
   "execution_count": 35,
   "metadata": {},
   "outputs": [
    {
     "name": "stdout",
     "output_type": "stream",
     "text": [
      "gradient boosting precision: 0.162\n"
     ]
    }
   ],
   "source": [
    "tn, fp, fn, tp = cm.ravel()\n",
    "\n",
    "gb_precision = tp / (tp + fp)\n",
    "\n",
    "print(\"gradient boosting precision: %.3f\" % gb_precision)"
   ]
  },
  {
   "cell_type": "code",
   "execution_count": 36,
   "metadata": {},
   "outputs": [
    {
     "name": "stdout",
     "output_type": "stream",
     "text": [
      "[[4293  240]\n",
      " [ 239   50]]\n"
     ]
    }
   ],
   "source": [
    "from sklearn.linear_model import LogisticRegression\n",
    "\n",
    "log_reg = LogisticRegression(random_state=0, max_iter=1E6)\n",
    "log_reg.fit(X_train, y_train)\n",
    "\n",
    "y_pred = log_reg.predict_proba(X_test)[:, 1]\n",
    "y_pred = y_pred > 0.2\n",
    "\n",
    "cm = confusion_matrix(y_test, y_pred)\n",
    "print(cm)\n",
    "\n",
    "tn, fp, fn, tp = cm.ravel()\n",
    "\n",
    "log_reg_precision = tp / (tp + fp)"
   ]
  },
  {
   "cell_type": "code",
   "execution_count": 37,
   "metadata": {},
   "outputs": [
    {
     "name": "stdout",
     "output_type": "stream",
     "text": [
      "gradient boosting precision:   0.162\n",
      "logistic regression precision: 0.172\n"
     ]
    }
   ],
   "source": [
    "print(\"gradient boosting precision:   %.3f\" % gb_precision)\n",
    "print(\"logistic regression precision: %.3f\" % log_reg_precision)"
   ]
  },
  {
   "cell_type": "markdown",
   "metadata": {},
   "source": [
    "Gradient boosting does slightly better on the specified precision metric."
   ]
  }
 ],
 "metadata": {
  "@webio": {
   "lastCommId": null,
   "lastKernelId": null
  },
  "kernelspec": {
   "display_name": "Python 3",
   "language": "python",
   "name": "python3"
  },
  "language_info": {
   "codemirror_mode": {
    "name": "ipython",
    "version": 3
   },
   "file_extension": ".py",
   "mimetype": "text/x-python",
   "name": "python",
   "nbconvert_exporter": "python",
   "pygments_lexer": "ipython3",
   "version": "3.8.5"
  }
 },
 "nbformat": 4,
 "nbformat_minor": 4
}
