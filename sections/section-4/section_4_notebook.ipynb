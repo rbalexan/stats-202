{
  "nbformat": 4,
  "nbformat_minor": 0,
  "metadata": {
    "colab": {
      "name": "Sample distribution",
      "provenance": [],
      "collapsed_sections": []
    },
    "kernelspec": {
      "name": "python3",
      "display_name": "Python 3"
    },
    "language_info": {
      "name": "python"
    }
  },
  "cells": [
    {
      "cell_type": "code",
      "metadata": {
        "colab": {
          "base_uri": "https://localhost:8080/"
        },
        "id": "qsT2sgbSfY11",
        "outputId": "d7bc41e7-e81d-4850-831d-d0298629c5bf"
      },
      "source": [
        "import numpy as np\n",
        "import pandas as pd\n",
        "from typing import Tuple\n",
        "\n",
        "import statsmodels.api as sm"
      ],
      "execution_count": null,
      "outputs": [
        {
          "output_type": "stream",
          "text": [
            "/usr/local/lib/python3.7/dist-packages/statsmodels/tools/_testing.py:19: FutureWarning: pandas.util.testing is deprecated. Use the functions in the public API at pandas.testing instead.\n",
            "  import pandas.util.testing as tm\n"
          ],
          "name": "stderr"
        }
      ]
    },
    {
      "cell_type": "code",
      "metadata": {
        "id": "6aB39kYzfTAB"
      },
      "source": [
        "def generateData(n: int, betas: Tuple[float, float], seed: int=1) -> np.array:\n",
        "  \"\"\"Generates data according to a linear distribution.\n",
        "\n",
        "  Data is generated according to X ~ N(0, 1), Y ~ N(\\beta_0 + \\beta_1*X, 1).\n",
        "\n",
        "  Args:\n",
        "    n: number of observations.\n",
        "    betas: (\\beta_0, \\beta_1), i.e. the true values of the linear function.\n",
        "    seed: random seed.\n",
        "\n",
        "  Returns:\n",
        "    A numpy array containing the realized values.\n",
        "  \"\"\"\n",
        "  np.random.seed(seed)\n",
        "  X = np.random.normal(size=n)\n",
        "  Y = np.random.normal(betas[0] + betas[1]*X)\n",
        "  P_n = np.stack((X, Y), axis=1)\n",
        "  return pd.DataFrame(P_n, columns=['X', 'Y'])"
      ],
      "execution_count": null,
      "outputs": []
    },
    {
      "cell_type": "code",
      "metadata": {
        "colab": {
          "base_uri": "https://localhost:8080/",
          "height": 359
        },
        "id": "ed6rf70ngJG5",
        "outputId": "31056b0a-9a3b-4523-ff35-3e2f4f3a14f6"
      },
      "source": [
        "P_n = generateData(10, [0, 1])\n",
        "P_n"
      ],
      "execution_count": null,
      "outputs": [
        {
          "output_type": "execute_result",
          "data": {
            "text/html": [
              "<div>\n",
              "<style scoped>\n",
              "    .dataframe tbody tr th:only-of-type {\n",
              "        vertical-align: middle;\n",
              "    }\n",
              "\n",
              "    .dataframe tbody tr th {\n",
              "        vertical-align: top;\n",
              "    }\n",
              "\n",
              "    .dataframe thead th {\n",
              "        text-align: right;\n",
              "    }\n",
              "</style>\n",
              "<table border=\"1\" class=\"dataframe\">\n",
              "  <thead>\n",
              "    <tr style=\"text-align: right;\">\n",
              "      <th></th>\n",
              "      <th>X</th>\n",
              "      <th>Y</th>\n",
              "    </tr>\n",
              "  </thead>\n",
              "  <tbody>\n",
              "    <tr>\n",
              "      <th>0</th>\n",
              "      <td>1.624345</td>\n",
              "      <td>3.086453</td>\n",
              "    </tr>\n",
              "    <tr>\n",
              "      <th>1</th>\n",
              "      <td>-0.611756</td>\n",
              "      <td>-2.671897</td>\n",
              "    </tr>\n",
              "    <tr>\n",
              "      <th>2</th>\n",
              "      <td>-0.528172</td>\n",
              "      <td>-0.850589</td>\n",
              "    </tr>\n",
              "    <tr>\n",
              "      <th>3</th>\n",
              "      <td>-1.072969</td>\n",
              "      <td>-1.457023</td>\n",
              "    </tr>\n",
              "    <tr>\n",
              "      <th>4</th>\n",
              "      <td>0.865408</td>\n",
              "      <td>1.999177</td>\n",
              "    </tr>\n",
              "    <tr>\n",
              "      <th>5</th>\n",
              "      <td>-2.301539</td>\n",
              "      <td>-3.401430</td>\n",
              "    </tr>\n",
              "    <tr>\n",
              "      <th>6</th>\n",
              "      <td>1.744812</td>\n",
              "      <td>1.572384</td>\n",
              "    </tr>\n",
              "    <tr>\n",
              "      <th>7</th>\n",
              "      <td>-0.761207</td>\n",
              "      <td>-1.639065</td>\n",
              "    </tr>\n",
              "    <tr>\n",
              "      <th>8</th>\n",
              "      <td>0.319039</td>\n",
              "      <td>0.361253</td>\n",
              "    </tr>\n",
              "    <tr>\n",
              "      <th>9</th>\n",
              "      <td>-0.249370</td>\n",
              "      <td>0.333445</td>\n",
              "    </tr>\n",
              "  </tbody>\n",
              "</table>\n",
              "</div>"
            ],
            "text/plain": [
              "          X         Y\n",
              "0  1.624345  3.086453\n",
              "1 -0.611756 -2.671897\n",
              "2 -0.528172 -0.850589\n",
              "3 -1.072969 -1.457023\n",
              "4  0.865408  1.999177\n",
              "5 -2.301539 -3.401430\n",
              "6  1.744812  1.572384\n",
              "7 -0.761207 -1.639065\n",
              "8  0.319039  0.361253\n",
              "9 -0.249370  0.333445"
            ]
          },
          "metadata": {
            "tags": []
          },
          "execution_count": 3
        }
      ]
    },
    {
      "cell_type": "code",
      "metadata": {
        "colab": {
          "base_uri": "https://localhost:8080/"
        },
        "id": "DDu_4CUKgY7-",
        "outputId": "f03cede7-9845-4aea-e90a-fd5a4dd07471"
      },
      "source": [
        "# Model 1\n",
        "X = sm.add_constant(P_n['X'])\n",
        "linear_model_1 = sm.OLS(P_n['Y'], X)\n",
        "fitted_model_1 = linear_model_1.fit()\n",
        "print(fitted_model_1.summary())"
      ],
      "execution_count": null,
      "outputs": [
        {
          "output_type": "stream",
          "text": [
            "                            OLS Regression Results                            \n",
            "==============================================================================\n",
            "Dep. Variable:                      Y   R-squared:                       0.857\n",
            "Model:                            OLS   Adj. R-squared:                  0.839\n",
            "Method:                 Least Squares   F-statistic:                     47.89\n",
            "Date:                Fri, 16 Jul 2021   Prob (F-statistic):           0.000122\n",
            "Time:                        23:44:45   Log-Likelihood:                -11.372\n",
            "No. Observations:                  10   AIC:                             26.74\n",
            "Df Residuals:                       8   BIC:                             27.35\n",
            "Df Model:                           1                                         \n",
            "Covariance Type:            nonrobust                                         \n",
            "==============================================================================\n",
            "                 coef    std err          t      P>|t|      [0.025      0.975]\n",
            "------------------------------------------------------------------------------\n",
            "const         -0.1162      0.268     -0.434      0.676      -0.733       0.501\n",
            "X              1.5501      0.224      6.921      0.000       1.034       2.067\n",
            "==============================================================================\n",
            "Omnibus:                        2.704   Durbin-Watson:                   2.037\n",
            "Prob(Omnibus):                  0.259   Jarque-Bera (JB):                1.348\n",
            "Skew:                          -0.889   Prob(JB):                        0.510\n",
            "Kurtosis:                       2.729   Cond. No.                         1.22\n",
            "==============================================================================\n",
            "\n",
            "Warnings:\n",
            "[1] Standard Errors assume that the covariance matrix of the errors is correctly specified.\n"
          ],
          "name": "stdout"
        },
        {
          "output_type": "stream",
          "text": [
            "/usr/local/lib/python3.7/dist-packages/scipy/stats/stats.py:1535: UserWarning: kurtosistest only valid for n>=20 ... continuing anyway, n=10\n",
            "  \"anyway, n=%i\" % int(n))\n"
          ],
          "name": "stderr"
        }
      ]
    },
    {
      "cell_type": "code",
      "metadata": {
        "colab": {
          "base_uri": "https://localhost:8080/"
        },
        "id": "uCSV_t8lgz7Y",
        "outputId": "81eb6737-967d-49b0-ae63-3db657f9c7eb"
      },
      "source": [
        "# Model 2\n",
        "linear_model_2 = sm.OLS(P_n['Y'], P_n['X'])\n",
        "fitted_model_2 = linear_model_2.fit()\n",
        "print(fitted_model_2.summary())"
      ],
      "execution_count": null,
      "outputs": [
        {
          "output_type": "stream",
          "text": [
            "                                 OLS Regression Results                                \n",
            "=======================================================================================\n",
            "Dep. Variable:                      Y   R-squared (uncentered):                   0.856\n",
            "Model:                            OLS   Adj. R-squared (uncentered):              0.840\n",
            "Method:                 Least Squares   F-statistic:                              53.53\n",
            "Date:                Fri, 16 Jul 2021   Prob (F-statistic):                    4.48e-05\n",
            "Time:                        23:46:56   Log-Likelihood:                         -11.488\n",
            "No. Observations:                  10   AIC:                                      24.98\n",
            "Df Residuals:                       9   BIC:                                      25.28\n",
            "Df Model:                           1                                                  \n",
            "Covariance Type:            nonrobust                                                  \n",
            "==============================================================================\n",
            "                 coef    std err          t      P>|t|      [0.025      0.975]\n",
            "------------------------------------------------------------------------------\n",
            "X              1.5580      0.213      7.317      0.000       1.076       2.040\n",
            "==============================================================================\n",
            "Omnibus:                        2.731   Durbin-Watson:                   1.989\n",
            "Prob(Omnibus):                  0.255   Jarque-Bera (JB):                1.374\n",
            "Skew:                          -0.897   Prob(JB):                        0.503\n",
            "Kurtosis:                       2.719   Cond. No.                         1.00\n",
            "==============================================================================\n",
            "\n",
            "Warnings:\n",
            "[1] Standard Errors assume that the covariance matrix of the errors is correctly specified.\n"
          ],
          "name": "stdout"
        },
        {
          "output_type": "stream",
          "text": [
            "/usr/local/lib/python3.7/dist-packages/scipy/stats/stats.py:1535: UserWarning: kurtosistest only valid for n>=20 ... continuing anyway, n=10\n",
            "  \"anyway, n=%i\" % int(n))\n"
          ],
          "name": "stderr"
        }
      ]
    },
    {
      "cell_type": "markdown",
      "metadata": {
        "id": "R63pfguHiKZR"
      },
      "source": [
        "## Evaluating model performance"
      ]
    },
    {
      "cell_type": "code",
      "metadata": {
        "id": "W1teiqpGhply"
      },
      "source": [
        "P_n_test = generateData(1000, [0, 1])"
      ],
      "execution_count": null,
      "outputs": []
    },
    {
      "cell_type": "code",
      "metadata": {
        "id": "eJNnXcqxiRoG"
      },
      "source": [
        "X_test = sm.add_constant(P_n_test['X'])\n",
        "y_hat_1 = fitted_model_1.predict(X_test)\n",
        "mse_1 = ((y_hat_1 - P_n_test['Y'])**2).mean()"
      ],
      "execution_count": null,
      "outputs": []
    },
    {
      "cell_type": "code",
      "metadata": {
        "id": "tmcUAWT4iSDe"
      },
      "source": [
        "y_hat_2 = fitted_model_2.predict(P_n_test['X'])\n",
        "mse_2 = ((y_hat_2 - P_n_test['Y'])**2).mean()"
      ],
      "execution_count": null,
      "outputs": []
    },
    {
      "cell_type": "code",
      "metadata": {
        "colab": {
          "base_uri": "https://localhost:8080/"
        },
        "id": "-c43PLvPiljn",
        "outputId": "6882d5bc-7ad5-4816-da28-e3487f1fb272"
      },
      "source": [
        "print('MSE_1 = %0.3f' % mse_1)\n",
        "print('MSE_2 = %0.3f' % mse_2)"
      ],
      "execution_count": null,
      "outputs": [
        {
          "output_type": "stream",
          "text": [
            "MSE_1 = 1.343\n",
            "MSE_2 = 1.336\n"
          ],
          "name": "stdout"
        }
      ]
    },
    {
      "cell_type": "code",
      "metadata": {
        "id": "fk9OJlg7i9kw"
      },
      "source": [
        ""
      ],
      "execution_count": null,
      "outputs": []
    }
  ]
}