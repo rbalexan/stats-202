{
  "nbformat": 4,
  "nbformat_minor": 0,
  "metadata": {
    "colab": {
      "name": "python_for_data_science_python_basics.ipynb",
      "provenance": [
        {
          "file_id": "1rTtOTAaaLgZSvS2mxs14SsxKsFEJtJ67",
          "timestamp": 1556634534178
        }
      ],
      "collapsed_sections": []
    },
    "kernelspec": {
      "display_name": "Python 2",
      "name": "python2"
    }
  },
  "cells": [
    {
      "cell_type": "markdown",
      "metadata": {
        "colab_type": "text",
        "id": "CvPB7v10uLZs"
      },
      "source": [
        "# Python Basics"
      ]
    },
    {
      "cell_type": "markdown",
      "metadata": {
        "colab_type": "text",
        "id": "zp1UdPrPTXuc"
      },
      "source": [
        "## Getting started"
      ]
    },
    {
      "cell_type": "markdown",
      "metadata": {
        "colab_type": "text",
        "id": "KdQvkEDWTaq9"
      },
      "source": [
        "Open a terminal or a colab"
      ]
    },
    {
      "cell_type": "code",
      "metadata": {
        "colab_type": "code",
        "executionInfo": {
          "elapsed": 504,
          "status": "ok",
          "timestamp": 1556634446502,
          "user": {
            "displayName": "Mansi Arora",
            "photoUrl": "https://lh3.googleusercontent.com/-XstDPPTRBMM/AAAAAAAAAAI/AAAAAAAAAfs/C5M_SeeeciA/s64/photo.jpg",
            "userId": "05191183514562402651"
          },
          "user_tz": 420
        },
        "id": "jBEvNf71TgsN",
        "outputId": "dd5edd73-ca76-4109-d5ea-5f9bb24fad13",
        "colab": {
          "height": 34
        }
      },
      "source": [
        "# Basic calculations\n",
        "0 + 1 + 2 + 3 + 4 + 5"
      ],
      "execution_count": 0,
      "outputs": [
        {
          "output_type": "execute_result",
          "data": {
            "text/plain": [
              "15"
            ]
          },
          "metadata": {
            "tags": []
          },
          "execution_count": 1
        }
      ]
    },
    {
      "cell_type": "code",
      "metadata": {
        "colab_type": "code",
        "executionInfo": {
          "elapsed": 931,
          "status": "ok",
          "timestamp": 1556634448292,
          "user": {
            "displayName": "Mansi Arora",
            "photoUrl": "https://lh3.googleusercontent.com/-XstDPPTRBMM/AAAAAAAAAAI/AAAAAAAAAfs/C5M_SeeeciA/s64/photo.jpg",
            "userId": "05191183514562402651"
          },
          "user_tz": 420
        },
        "id": "FdXwMeNfTsD8",
        "outputId": "49b4d3bd-4743-4322-88c8-a535678ac77a",
        "colab": {
          "height": 52
        }
      },
      "source": [
        "# How to define a variables\n",
        "a = 0 + 1 + 2 + 3 + 4 + 5\n",
        "print a\n",
        "print a + 6 + 7 + 8 + 9 + 10"
      ],
      "execution_count": 0,
      "outputs": [
        {
          "output_type": "stream",
          "text": [
            "15\n",
            "55\n"
          ],
          "name": "stdout"
        }
      ]
    },
    {
      "cell_type": "code",
      "metadata": {
        "colab_type": "code",
        "executionInfo": {
          "elapsed": 404,
          "status": "ok",
          "timestamp": 1556634448775,
          "user": {
            "displayName": "Mansi Arora",
            "photoUrl": "https://lh3.googleusercontent.com/-XstDPPTRBMM/AAAAAAAAAAI/AAAAAAAAAfs/C5M_SeeeciA/s64/photo.jpg",
            "userId": "05191183514562402651"
          },
          "user_tz": 420
        },
        "id": "hFHmx8RRXu70",
        "outputId": "1b91f7a5-e484-4c45-bea9-53ec9e13094e",
        "colab": {
          "height": 34
        }
      },
      "source": [
        "# if statements\n",
        "# Indentation matters\n",
        "a = 0 + 1 + 2 + 3 + 4 + 5\n",
        "if a < 10:\n",
        "  b = a + 6\n",
        "else:\n",
        "  b = a\n",
        "print b "
      ],
      "execution_count": 0,
      "outputs": [
        {
          "output_type": "stream",
          "text": [
            "15\n"
          ],
          "name": "stdout"
        }
      ]
    },
    {
      "cell_type": "code",
      "metadata": {
        "colab_type": "code",
        "executionInfo": {
          "elapsed": 424,
          "status": "ok",
          "timestamp": 1556634449282,
          "user": {
            "displayName": "Mansi Arora",
            "photoUrl": "https://lh3.googleusercontent.com/-XstDPPTRBMM/AAAAAAAAAAI/AAAAAAAAAfs/C5M_SeeeciA/s64/photo.jpg",
            "userId": "05191183514562402651"
          },
          "user_tz": 420
        },
        "id": "NNhLW8PeVwkb",
        "outputId": "7710b295-adbe-4554-a8bb-a3b356a2c839",
        "colab": {
          "height": 34
        }
      },
      "source": [
        "# For loops.  More on this later\n",
        "\n",
        "# for i between 0 and 100\n",
        "a = 0\n",
        "for i in range(101):\n",
        "  a = a + i\n",
        "print a"
      ],
      "execution_count": 0,
      "outputs": [
        {
          "output_type": "stream",
          "text": [
            "5050\n"
          ],
          "name": "stdout"
        }
      ]
    },
    {
      "cell_type": "code",
      "metadata": {
        "colab_type": "code",
        "executionInfo": {
          "elapsed": 399,
          "status": "ok",
          "timestamp": 1556634449751,
          "user": {
            "displayName": "Mansi Arora",
            "photoUrl": "https://lh3.googleusercontent.com/-XstDPPTRBMM/AAAAAAAAAAI/AAAAAAAAAfs/C5M_SeeeciA/s64/photo.jpg",
            "userId": "05191183514562402651"
          },
          "user_tz": 420
        },
        "id": "J4pgSBXh1R-z",
        "outputId": "4353433e-b7c0-4bc2-a792-51abe572b07f",
        "colab": {
          "height": 52
        }
      },
      "source": [
        "# Functions\n",
        "\n",
        "def SumNumbersUpTo(n):\n",
        "  total = 0\n",
        "  for i in range(n + 1):\n",
        "    total += i\n",
        "  return total\n",
        "\n",
        "print SumNumbersUpTo(3) + SumNumbersUpTo(100)\n",
        "print SumNumbersUpTo(1) + SumNumbersUpTo(2)\n",
        "\n"
      ],
      "execution_count": 0,
      "outputs": [
        {
          "output_type": "stream",
          "text": [
            "5056\n",
            "4\n"
          ],
          "name": "stdout"
        }
      ]
    },
    {
      "cell_type": "markdown",
      "metadata": {
        "colab_type": "text",
        "id": "TRU1IgWRvKib"
      },
      "source": [
        "### Indentation matters"
      ]
    },
    {
      "cell_type": "markdown",
      "metadata": {
        "colab_type": "text",
        "id": "DPNlM1sGueFL"
      },
      "source": [
        "Changes in indentation indicate where a block of code (for loop, if statement, function, class, etc. ends).\n",
        "A colon (:) followed by consistent indentation takes the role of curly braces {} in R.   An examples showing how indentation affects what a program does is below "
      ]
    },
    {
      "cell_type": "code",
      "metadata": {
        "colab_type": "code",
        "executionInfo": {
          "elapsed": 404,
          "status": "ok",
          "timestamp": 1556634450254,
          "user": {
            "displayName": "Mansi Arora",
            "photoUrl": "https://lh3.googleusercontent.com/-XstDPPTRBMM/AAAAAAAAAAI/AAAAAAAAAfs/C5M_SeeeciA/s64/photo.jpg",
            "userId": "05191183514562402651"
          },
          "user_tz": 420
        },
        "id": "dxv4XbJ-uFc8",
        "outputId": "25dc4a1f-51b3-41c4-bf6a-9446ac2335c0",
        "colab": {
          "height": 34
        }
      },
      "source": [
        "# Indentation case 1\n",
        "count = 0\n",
        "for i in [1, 2, 3]:\n",
        "  count = count + i\n",
        "print count"
      ],
      "execution_count": 0,
      "outputs": [
        {
          "output_type": "stream",
          "text": [
            "6\n"
          ],
          "name": "stdout"
        }
      ]
    },
    {
      "cell_type": "code",
      "metadata": {
        "colab_type": "code",
        "executionInfo": {
          "elapsed": 461,
          "status": "ok",
          "timestamp": 1556634450779,
          "user": {
            "displayName": "Mansi Arora",
            "photoUrl": "https://lh3.googleusercontent.com/-XstDPPTRBMM/AAAAAAAAAAI/AAAAAAAAAfs/C5M_SeeeciA/s64/photo.jpg",
            "userId": "05191183514562402651"
          },
          "user_tz": 420
        },
        "id": "JXtpicR7K3GM",
        "outputId": "d8e70f43-81de-4e7f-b17e-f222a31b3380",
        "colab": {
          "height": 70
        }
      },
      "source": [
        "# Indentation case 2\n",
        "count = 0\n",
        "for i in [1, 2, 3]:\n",
        "  count = count + i\n",
        "  print count"
      ],
      "execution_count": 0,
      "outputs": [
        {
          "output_type": "stream",
          "text": [
            "1\n",
            "3\n",
            "6\n"
          ],
          "name": "stdout"
        }
      ]
    },
    {
      "cell_type": "markdown",
      "metadata": {
        "colab_type": "text",
        "id": "PDo5gw5L3Io7"
      },
      "source": [
        "## Types and Data structures"
      ]
    },
    {
      "cell_type": "markdown",
      "metadata": {
        "colab_type": "text",
        "id": "5e4BKuzAAHOz"
      },
      "source": [
        "### Common types"
      ]
    },
    {
      "cell_type": "markdown",
      "metadata": {
        "colab_type": "text",
        "id": "AX3rbxAz3Mwg"
      },
      "source": [
        "Integers and bools"
      ]
    },
    {
      "cell_type": "code",
      "metadata": {
        "colab_type": "code",
        "executionInfo": {
          "elapsed": 351,
          "status": "ok",
          "timestamp": 1556634451200,
          "user": {
            "displayName": "Mansi Arora",
            "photoUrl": "https://lh3.googleusercontent.com/-XstDPPTRBMM/AAAAAAAAAAI/AAAAAAAAAfs/C5M_SeeeciA/s64/photo.jpg",
            "userId": "05191183514562402651"
          },
          "user_tz": 420
        },
        "id": "f-F0oXlv3Hkg",
        "outputId": "7a5ea977-0c74-4e3d-d562-828d130bbf12",
        "colab": {
          "height": 34
        }
      },
      "source": [
        "#int\n",
        "a = 5\n",
        "print type(a)"
      ],
      "execution_count": 0,
      "outputs": [
        {
          "output_type": "stream",
          "text": [
            "<type 'int'>\n"
          ],
          "name": "stdout"
        }
      ]
    },
    {
      "cell_type": "code",
      "metadata": {
        "colab_type": "code",
        "executionInfo": {
          "elapsed": 384,
          "status": "ok",
          "timestamp": 1556634451672,
          "user": {
            "displayName": "Mansi Arora",
            "photoUrl": "https://lh3.googleusercontent.com/-XstDPPTRBMM/AAAAAAAAAAI/AAAAAAAAAfs/C5M_SeeeciA/s64/photo.jpg",
            "userId": "05191183514562402651"
          },
          "user_tz": 420
        },
        "id": "rBrFxukA3ZDb",
        "outputId": "606eaa7a-0a60-4cb2-cf26-f8bc39301e86",
        "colab": {
          "height": 34
        }
      },
      "source": [
        "# bool\n",
        "alessthanten = a < 10\n",
        "type(alessthanten)\n",
        "# The if statement above took as input a bool"
      ],
      "execution_count": 0,
      "outputs": [
        {
          "output_type": "execute_result",
          "data": {
            "text/plain": [
              "bool"
            ]
          },
          "metadata": {
            "tags": []
          },
          "execution_count": 9
        }
      ]
    },
    {
      "cell_type": "markdown",
      "metadata": {
        "colab_type": "text",
        "id": "UkzKQOkF1ht8"
      },
      "source": [
        "Strings"
      ]
    },
    {
      "cell_type": "code",
      "metadata": {
        "colab_type": "code",
        "executionInfo": {
          "elapsed": 413,
          "status": "ok",
          "timestamp": 1556634452167,
          "user": {
            "displayName": "Mansi Arora",
            "photoUrl": "https://lh3.googleusercontent.com/-XstDPPTRBMM/AAAAAAAAAAI/AAAAAAAAAfs/C5M_SeeeciA/s64/photo.jpg",
            "userId": "05191183514562402651"
          },
          "user_tz": 420
        },
        "id": "eET-xBWF3icw",
        "outputId": "f1347818-7692-431f-d8ed-8494bdc40c2e",
        "colab": {
          "height": 52
        }
      },
      "source": [
        "helloworld = \"hello world\"\n",
        "print type(helloworld)\n",
        "print type(\"5\")"
      ],
      "execution_count": 0,
      "outputs": [
        {
          "output_type": "stream",
          "text": [
            "<type 'str'>\n",
            "<type 'str'>\n"
          ],
          "name": "stdout"
        }
      ]
    },
    {
      "cell_type": "markdown",
      "metadata": {
        "colab_type": "text",
        "id": "rwJql-qGA5js"
      },
      "source": [
        "Utilities with strings"
      ]
    },
    {
      "cell_type": "code",
      "metadata": {
        "colab_type": "code",
        "executionInfo": {
          "elapsed": 450,
          "status": "ok",
          "timestamp": 1556634452698,
          "user": {
            "displayName": "Mansi Arora",
            "photoUrl": "https://lh3.googleusercontent.com/-XstDPPTRBMM/AAAAAAAAAAI/AAAAAAAAAfs/C5M_SeeeciA/s64/photo.jpg",
            "userId": "05191183514562402651"
          },
          "user_tz": 420
        },
        "id": "2rLYgum7Ar8m",
        "outputId": "f3102d11-8cda-4304-c5c5-133c66c463c0",
        "colab": {
          "height": 87
        }
      },
      "source": [
        "print helloworld[1:5]\n",
        "print len(helloworld)\n",
        "print helloworld + \"...\"\n",
        "print helloworld.replace(' ', '_')\n",
        "# You can also find strings, split strings, etc."
      ],
      "execution_count": 0,
      "outputs": [
        {
          "output_type": "stream",
          "text": [
            "ello\n",
            "11\n",
            "hello world...\n",
            "hello_world\n"
          ],
          "name": "stdout"
        }
      ]
    },
    {
      "cell_type": "markdown",
      "metadata": {
        "colab_type": "text",
        "id": "l-LgkoG8DH3s"
      },
      "source": [
        "Floats"
      ]
    },
    {
      "cell_type": "code",
      "metadata": {
        "colab_type": "code",
        "executionInfo": {
          "elapsed": 531,
          "status": "ok",
          "timestamp": 1556634453306,
          "user": {
            "displayName": "Mansi Arora",
            "photoUrl": "https://lh3.googleusercontent.com/-XstDPPTRBMM/AAAAAAAAAAI/AAAAAAAAAfs/C5M_SeeeciA/s64/photo.jpg",
            "userId": "05191183514562402651"
          },
          "user_tz": 420
        },
        "id": "OhgSLyD130au",
        "outputId": "6103afd1-fb90-4e24-b618-1014e2645613",
        "colab": {
          "height": 34
        }
      },
      "source": [
        "# float\n",
        "a = 5.0\n",
        "type(a)"
      ],
      "execution_count": 0,
      "outputs": [
        {
          "output_type": "execute_result",
          "data": {
            "text/plain": [
              "float"
            ]
          },
          "metadata": {
            "tags": []
          },
          "execution_count": 12
        }
      ]
    },
    {
      "cell_type": "code",
      "metadata": {
        "colab_type": "code",
        "executionInfo": {
          "elapsed": 464,
          "status": "ok",
          "timestamp": 1556634453847,
          "user": {
            "displayName": "Mansi Arora",
            "photoUrl": "https://lh3.googleusercontent.com/-XstDPPTRBMM/AAAAAAAAAAI/AAAAAAAAAfs/C5M_SeeeciA/s64/photo.jpg",
            "userId": "05191183514562402651"
          },
          "user_tz": 420
        },
        "id": "cq-CfJo536Lr",
        "outputId": "105b71a8-06d0-4412-aecc-11a293568014",
        "colab": {
          "height": 52
        }
      },
      "source": [
        "# division is different with integers and floats\n",
        "print 5 / 2\n",
        "print 5.0 / 2.0"
      ],
      "execution_count": 0,
      "outputs": [
        {
          "output_type": "stream",
          "text": [
            "2\n",
            "2.5\n"
          ],
          "name": "stdout"
        }
      ]
    },
    {
      "cell_type": "markdown",
      "metadata": {
        "colab_type": "text",
        "id": "qc5_H5Dl4SzA"
      },
      "source": [
        "### Common data structures"
      ]
    },
    {
      "cell_type": "markdown",
      "metadata": {
        "colab_type": "text",
        "id": "57y-ClVsDOXg"
      },
      "source": [
        "Lists"
      ]
    },
    {
      "cell_type": "code",
      "metadata": {
        "colab_type": "code",
        "executionInfo": {
          "elapsed": 421,
          "status": "ok",
          "timestamp": 1556634454332,
          "user": {
            "displayName": "Mansi Arora",
            "photoUrl": "https://lh3.googleusercontent.com/-XstDPPTRBMM/AAAAAAAAAAI/AAAAAAAAAfs/C5M_SeeeciA/s64/photo.jpg",
            "userId": "05191183514562402651"
          },
          "user_tz": 420
        },
        "id": "xSvoS_xX4WgO",
        "outputId": "3aeb181f-b127-4d07-f21a-ee5cbaf660be",
        "colab": {
          "height": 87
        }
      },
      "source": [
        "# list.  First index of a list is 0\n",
        "a = [1, 6, 7]\n",
        "a.append(8)\n",
        "a[1] = 2\n",
        "print a\n",
        "print a[0]\n",
        "print len(a)\n",
        "\n",
        "type(range(101))"
      ],
      "execution_count": 0,
      "outputs": [
        {
          "output_type": "stream",
          "text": [
            "[1, 2, 7, 8]\n",
            "1\n",
            "4\n"
          ],
          "name": "stdout"
        },
        {
          "output_type": "execute_result",
          "data": {
            "text/plain": [
              "list"
            ]
          },
          "metadata": {
            "tags": []
          },
          "execution_count": 14
        }
      ]
    },
    {
      "cell_type": "code",
      "metadata": {
        "colab_type": "code",
        "executionInfo": {
          "elapsed": 571,
          "status": "ok",
          "timestamp": 1556634481977,
          "user": {
            "displayName": "Mansi Arora",
            "photoUrl": "https://lh3.googleusercontent.com/-XstDPPTRBMM/AAAAAAAAAAI/AAAAAAAAAfs/C5M_SeeeciA/s64/photo.jpg",
            "userId": "05191183514562402651"
          },
          "user_tz": 420
        },
        "id": "N7T-bH5NGt0j",
        "outputId": "f9636ce3-4d2a-44f6-d000-cc21460e9ab9",
        "colab": {
          "height": 34
        }
      },
      "source": [
        "list_a = [1, 2, 3, 4]\n",
        "common_num = [a for a in list_a for b in list_a if a == b]\n",
        "common_num"
      ],
      "execution_count": 0,
      "outputs": [
        {
          "output_type": "execute_result",
          "data": {
            "text/plain": [
              "[1, 2, 3, 4]"
            ]
          },
          "metadata": {
            "tags": []
          },
          "execution_count": 17
        }
      ]
    },
    {
      "cell_type": "markdown",
      "metadata": {
        "colab_type": "text",
        "id": "nOrmCDXGDRy9"
      },
      "source": [
        "Tuples"
      ]
    },
    {
      "cell_type": "code",
      "metadata": {
        "colab_type": "code",
        "executionInfo": {
          "elapsed": 491,
          "status": "error",
          "timestamp": 1556634485942,
          "user": {
            "displayName": "Mansi Arora",
            "photoUrl": "https://lh3.googleusercontent.com/-XstDPPTRBMM/AAAAAAAAAAI/AAAAAAAAAfs/C5M_SeeeciA/s64/photo.jpg",
            "userId": "05191183514562402651"
          },
          "user_tz": 420
        },
        "id": "udgii5SB5k-r",
        "outputId": "4edadbcd-2119-4cbe-db9c-2da6a80f06cf",
        "colab": {
          "height": 221
        }
      },
      "source": [
        "# tuple. Similar to list, but you can't reassign\n",
        "a = (1, 6, 7)\n",
        "print a[0]\n",
        "a[0] = 5"
      ],
      "execution_count": 0,
      "outputs": [
        {
          "output_type": "stream",
          "text": [
            "1\n"
          ],
          "name": "stdout"
        },
        {
          "output_type": "error",
          "ename": "TypeError",
          "evalue": "ignored",
          "traceback": [
            "\u001b[1;31m---------------------------------------------------------------------------\u001b[0m\n\u001b[1;31mTypeError\u001b[0m                                 Traceback (most recent call last)",
            "\u001b[1;32m<ipython-input-18-633531a4077e>\u001b[0m in \u001b[0;36m<module>\u001b[1;34m()\u001b[0m\n\u001b[0;32m      1\u001b[0m \u001b[0ma\u001b[0m \u001b[1;33m=\u001b[0m \u001b[1;33m(\u001b[0m\u001b[1;36m1\u001b[0m\u001b[1;33m,\u001b[0m \u001b[1;36m6\u001b[0m\u001b[1;33m,\u001b[0m \u001b[1;36m7\u001b[0m\u001b[1;33m)\u001b[0m\u001b[1;33m\u001b[0m\u001b[0m\n\u001b[0;32m      2\u001b[0m \u001b[1;32mprint\u001b[0m \u001b[0ma\u001b[0m\u001b[1;33m[\u001b[0m\u001b[1;36m0\u001b[0m\u001b[1;33m]\u001b[0m\u001b[1;33m\u001b[0m\u001b[0m\n\u001b[1;32m----> 3\u001b[1;33m \u001b[0ma\u001b[0m\u001b[1;33m[\u001b[0m\u001b[1;36m0\u001b[0m\u001b[1;33m]\u001b[0m \u001b[1;33m=\u001b[0m \u001b[1;36m5\u001b[0m\u001b[1;33m\u001b[0m\u001b[0m\n\u001b[0m",
            "\u001b[1;31mTypeError\u001b[0m: 'tuple' object does not support item assignment"
          ]
        }
      ]
    },
    {
      "cell_type": "markdown",
      "metadata": {
        "colab_type": "text",
        "id": "pTu04LuNDVe8"
      },
      "source": [
        "Dictionaries"
      ]
    },
    {
      "cell_type": "code",
      "metadata": {
        "colab_type": "code",
        "executionInfo": {
          "elapsed": 460,
          "status": "ok",
          "timestamp": 1556634499562,
          "user": {
            "displayName": "Mansi Arora",
            "photoUrl": "https://lh3.googleusercontent.com/-XstDPPTRBMM/AAAAAAAAAAI/AAAAAAAAAfs/C5M_SeeeciA/s64/photo.jpg",
            "userId": "05191183514562402651"
          },
          "user_tz": 420
        },
        "id": "cRwUePaH7lPv",
        "outputId": "781c722e-bc2b-4e1b-c228-d037121f75d0",
        "colab": {
          "height": 52
        }
      },
      "source": [
        "# dict\n",
        "a = {'hello': 1, 'world': 100}\n",
        "print a[\"world\"]\n",
        "a[\"hello\"] = 6\n",
        "a[\"python\"] = 2\n",
        "print a"
      ],
      "execution_count": 0,
      "outputs": [
        {
          "output_type": "stream",
          "text": [
            "100\n",
            "{'hello': 6, 'world': 100, 'python': 2}\n"
          ],
          "name": "stdout"
        }
      ]
    },
    {
      "cell_type": "markdown",
      "metadata": {
        "colab_type": "text",
        "id": "Drh_aXOL8ZR6"
      },
      "source": [
        "### Example\n",
        "Figure out whether python or R is more popular given (fake) data"
      ]
    },
    {
      "cell_type": "code",
      "metadata": {
        "colab_type": "code",
        "executionInfo": {
          "elapsed": 392,
          "status": "ok",
          "timestamp": 1556634500014,
          "user": {
            "displayName": "Mansi Arora",
            "photoUrl": "https://lh3.googleusercontent.com/-XstDPPTRBMM/AAAAAAAAAAI/AAAAAAAAAfs/C5M_SeeeciA/s64/photo.jpg",
            "userId": "05191183514562402651"
          },
          "user_tz": 420
        },
        "id": "hryfgENy6N-4",
        "outputId": "c38f4e3d-ca6b-4e58-a15f-eff4d089702c",
        "colab": {
          "height": 70
        }
      },
      "source": [
        "# Fake input data.\n",
        "language_count = [\"python\", \"R\", \"python\", \"python\", \"R\"]\n",
        "\n",
        "# Count the number of times each language occurs\n",
        "my_dictionary = {}\n",
        "print type(my_dictionary)\n",
        "for lang in language_count:\n",
        "  if not lang in my_dictionary:\n",
        "    my_dictionary[lang] = 0\n",
        "  my_dictionary[lang] += 1\n",
        "  \n",
        "for l in my_dictionary:\n",
        "  print 'The count for ' + l + ' is ' + str(my_dictionary[l])"
      ],
      "execution_count": 0,
      "outputs": [
        {
          "output_type": "stream",
          "text": [
            "<type 'dict'>\n",
            "The count for R is 2\n",
            "The count for python is 3\n"
          ],
          "name": "stdout"
        }
      ]
    },
    {
      "cell_type": "markdown",
      "metadata": {
        "colab_type": "text",
        "id": "jmGrohTe8_MK"
      },
      "source": [
        "####Defining a class"
      ]
    },
    {
      "cell_type": "code",
      "metadata": {
        "colab_type": "code",
        "executionInfo": {
          "elapsed": 364,
          "status": "ok",
          "timestamp": 1556634500436,
          "user": {
            "displayName": "Mansi Arora",
            "photoUrl": "https://lh3.googleusercontent.com/-XstDPPTRBMM/AAAAAAAAAAI/AAAAAAAAAfs/C5M_SeeeciA/s64/photo.jpg",
            "userId": "05191183514562402651"
          },
          "user_tz": 420
        },
        "id": "V2hyjfba9Hpr",
        "outputId": "e3289267-06a9-4bd1-828e-1e92f57ffd4a",
        "colab": {
          "height": 52
        }
      },
      "source": [
        "class Adder:\n",
        "  def __init__(self,value):\n",
        "    self.value = value\n",
        "\n",
        "  def Add(self, to_add):\n",
        "    self.value += to_add\n",
        "    return self.value\n",
        "\n",
        "a = Adder(1)\n",
        "a.Add(3);\n",
        "result = a.Add(2)\n",
        "print result\n",
        "print type(a)"
      ],
      "execution_count": 0,
      "outputs": [
        {
          "output_type": "stream",
          "text": [
            "6\n",
            "<type 'instance'>\n"
          ],
          "name": "stdout"
        }
      ]
    },
    {
      "cell_type": "markdown",
      "metadata": {
        "colab_type": "text",
        "id": "Vju45Cl_nF6p"
      },
      "source": [
        "## Guided exercise"
      ]
    },
    {
      "cell_type": "markdown",
      "metadata": {
        "colab_type": "text",
        "id": "LSFsWVuloqKx"
      },
      "source": [
        "Given a list of email addresses, count the number of email addresses coming from each service (gmail, hotmail, ...etc.)\n",
        "Assume all email addresses are of the form blah@service.com\n",
        "Consider doing this in a slide"
      ]
    },
    {
      "cell_type": "code",
      "metadata": {
        "colab_type": "code",
        "id": "Of3abrdcnE6Y",
        "colab": {}
      },
      "source": [
        "emails = ['rajiv@gmail.com', 'menjoge@hotmail.com', 'rajiv.menjoge@gmail.com', 'googler@yahoo.com',\n",
        "          'rajiv_menjoge@yahoo.com']"
      ],
      "execution_count": 0,
      "outputs": []
    },
    {
      "cell_type": "markdown",
      "metadata": {
        "colab_type": "text",
        "id": "TWSul1ShpmGc"
      },
      "source": [
        "Steps are:\n",
        "* Write a for loop going through the emails\n",
        "* For each email (string), figure out the service by splitting the string\n",
        "* Use a dictionary to count the services"
      ]
    },
    {
      "cell_type": "code",
      "metadata": {
        "colab_type": "code",
        "executionInfo": {
          "elapsed": 388,
          "status": "ok",
          "timestamp": 1556634501348,
          "user": {
            "displayName": "Mansi Arora",
            "photoUrl": "https://lh3.googleusercontent.com/-XstDPPTRBMM/AAAAAAAAAAI/AAAAAAAAAfs/C5M_SeeeciA/s64/photo.jpg",
            "userId": "05191183514562402651"
          },
          "user_tz": 420
        },
        "id": "8wogI77upknu",
        "outputId": "b12dc514-d9b8-4e02-cb2d-172bd015feed",
        "colab": {
          "height": 52
        }
      },
      "source": [
        "# Start by figure out how to do the splitting by looking at documentation.\n",
        "\n",
        "example = 'rajiv.menjoge@gmail.com'\n",
        "splitat = example.split('@')\n",
        "print splitat\n",
        "\n",
        "splitdot = splitat[1].split('.')\n",
        "print splitdot"
      ],
      "execution_count": 0,
      "outputs": [
        {
          "output_type": "stream",
          "text": [
            "['rajiv.menjoge', 'gmail.com']\n",
            "['gmail', 'com']\n"
          ],
          "name": "stdout"
        }
      ]
    },
    {
      "cell_type": "code",
      "metadata": {
        "colab_type": "code",
        "executionInfo": {
          "elapsed": 375,
          "status": "ok",
          "timestamp": 1556634501776,
          "user": {
            "displayName": "Mansi Arora",
            "photoUrl": "https://lh3.googleusercontent.com/-XstDPPTRBMM/AAAAAAAAAAI/AAAAAAAAAfs/C5M_SeeeciA/s64/photo.jpg",
            "userId": "05191183514562402651"
          },
          "user_tz": 420
        },
        "id": "VcFunKBhr4x2",
        "outputId": "fc26257c-255a-4ca4-c713-c52d4fe9ed04",
        "colab": {
          "height": 34
        }
      },
      "source": [
        "def GetService(address):\n",
        "  example = address\n",
        "  splitat = example.split('@')\n",
        "  splitdot = splitat[1].split('.')\n",
        "  return splitdot[0]\n",
        "\n",
        "result = {}\n",
        "for e in emails:\n",
        "  s = GetService(e)\n",
        "  if not s in result: result[s] = 0\n",
        "  result[s] += 1\n",
        "\n",
        "print result"
      ],
      "execution_count": 0,
      "outputs": [
        {
          "output_type": "stream",
          "text": [
            "{'yahoo': 2, 'hotmail': 1, 'gmail': 2}\n"
          ],
          "name": "stdout"
        }
      ]
    },
    {
      "cell_type": "markdown",
      "metadata": {
        "colab_type": "text",
        "id": "c-DYysDqtfuB"
      },
      "source": [
        "A better way of doing this is regular expressions.  This is outside the scope of the class"
      ]
    },
    {
      "cell_type": "markdown",
      "metadata": {
        "colab_type": "text",
        "id": "xA4tJjRrP7Oy"
      },
      "source": [
        "### Try-Except statements"
      ]
    },
    {
      "cell_type": "code",
      "metadata": {
        "colab_type": "code",
        "executionInfo": {
          "elapsed": 462,
          "status": "error",
          "timestamp": 1556634502309,
          "user": {
            "displayName": "Mansi Arora",
            "photoUrl": "https://lh3.googleusercontent.com/-XstDPPTRBMM/AAAAAAAAAAI/AAAAAAAAAfs/C5M_SeeeciA/s64/photo.jpg",
            "userId": "05191183514562402651"
          },
          "user_tz": 420
        },
        "id": "PsP2TrxFP_0n",
        "outputId": "500470e8-91ad-486c-f47c-1213a478a0cf",
        "colab": {
          "height": 256
        }
      },
      "source": [
        "# Fake input data.\n",
        "language_count = [\"python\", \"R\", \"python\", \"python\", \"R\"]\n",
        "\n",
        "# Count the number of times each language occurs\n",
        "my_dictionary = {}\n",
        "print type(my_dictionary)\n",
        "for lang in language_count:\n",
        "  #if not lang in my_dictionary:\n",
        "  #  my_dictionary[lang] = 0\n",
        "  my_dictionary[lang] += 1\n",
        "  \n",
        "for l in my_dictionary:\n",
        "  print 'The count for ' + l + ' is ' + str(my_dictionary[l])"
      ],
      "execution_count": 0,
      "outputs": [
        {
          "output_type": "stream",
          "text": [
            "<type 'dict'>\n"
          ],
          "name": "stdout"
        },
        {
          "output_type": "error",
          "ename": "KeyError",
          "evalue": "ignored",
          "traceback": [
            "\u001b[1;31m---------------------------------------------------------------------------\u001b[0m\n\u001b[1;31mKeyError\u001b[0m                                  Traceback (most recent call last)",
            "\u001b[1;32m<ipython-input-25-d57b5bc3c8e7>\u001b[0m in \u001b[0;36m<module>\u001b[1;34m()\u001b[0m\n\u001b[0;32m      7\u001b[0m   \u001b[1;31m#if not lang in my_dictionary:\u001b[0m\u001b[1;33m\u001b[0m\u001b[1;33m\u001b[0m\u001b[0m\n\u001b[0;32m      8\u001b[0m   \u001b[1;31m#  my_dictionary[lang] = 0\u001b[0m\u001b[1;33m\u001b[0m\u001b[1;33m\u001b[0m\u001b[0m\n\u001b[1;32m----> 9\u001b[1;33m   \u001b[0mmy_dictionary\u001b[0m\u001b[1;33m[\u001b[0m\u001b[0mlang\u001b[0m\u001b[1;33m]\u001b[0m \u001b[1;33m+=\u001b[0m \u001b[1;36m1\u001b[0m\u001b[1;33m\u001b[0m\u001b[0m\n\u001b[0m\u001b[0;32m     10\u001b[0m \u001b[1;33m\u001b[0m\u001b[0m\n\u001b[0;32m     11\u001b[0m \u001b[1;32mfor\u001b[0m \u001b[0ml\u001b[0m \u001b[1;32min\u001b[0m \u001b[0mmy_dictionary\u001b[0m\u001b[1;33m:\u001b[0m\u001b[1;33m\u001b[0m\u001b[0m\n",
            "\u001b[1;31mKeyError\u001b[0m: 'python'"
          ]
        }
      ]
    },
    {
      "cell_type": "code",
      "metadata": {
        "colab_type": "code",
        "executionInfo": {
          "elapsed": 474,
          "status": "ok",
          "timestamp": 1556634509014,
          "user": {
            "displayName": "Mansi Arora",
            "photoUrl": "https://lh3.googleusercontent.com/-XstDPPTRBMM/AAAAAAAAAAI/AAAAAAAAAfs/C5M_SeeeciA/s64/photo.jpg",
            "userId": "05191183514562402651"
          },
          "user_tz": 420
        },
        "id": "nBdeh0NaQN82",
        "outputId": "87c8683d-b77b-42cb-e874-2759a8f07b86",
        "colab": {
          "height": 70
        }
      },
      "source": [
        "# Count the number of times each language occurs\n",
        "my_dictionary = {}\n",
        "print type(my_dictionary)\n",
        "for lang in language_count:\n",
        "  try:\n",
        "    my_dictionary[lang] += 1\n",
        "  except KeyError:\n",
        "    my_dictionary[lang] = 1\n",
        "  \n",
        "for l in my_dictionary:\n",
        "  print 'The count for ' + l + ' is ' + str(my_dictionary[l])"
      ],
      "execution_count": 0,
      "outputs": [
        {
          "output_type": "stream",
          "text": [
            "<type 'dict'>\n",
            "The count for R is 2\n",
            "The count for python is 3\n"
          ],
          "name": "stdout"
        }
      ]
    }
  ]
}