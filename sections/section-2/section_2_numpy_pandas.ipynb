{
  "nbformat": 4,
  "nbformat_minor": 0,
  "metadata": {
    "colab": {
      "name": "python_for_data_science_numpy_pandas.ipynb",
      "provenance": [
        {
          "file_id": "1cD1koDp43_RThAj0P6HVyMvekRSI-BMo",
          "timestamp": 1556634345168
        }
      ],
      "collapsed_sections": [],
      "last_runtime": {
        "build_target": "//research/colab/notebook:notebook_backend",
        "kind": "private"
      },
      "toc_visible": true
    },
    "kernelspec": {
      "display_name": "Python 2",
      "name": "python2"
    }
  },
  "cells": [
    {
      "cell_type": "markdown",
      "metadata": {
        "colab_type": "text",
        "id": "EN_8n7uNiwFN"
      },
      "source": [
        "#Data manipulation in numpy/pandas"
      ]
    },
    {
      "cell_type": "markdown",
      "metadata": {
        "colab_type": "text",
        "id": "dZl5ql2PloNi"
      },
      "source": [
        "## NumPy"
      ]
    },
    {
      "cell_type": "markdown",
      "metadata": {
        "colab_type": "text",
        "id": "tJz-Ue2ZuxJS"
      },
      "source": [
        "**What is NumPy?**\n",
        "\n",
        "NumPy is the fundamental package for scientific computing in Python. At the core of the NumPy package, is the ndarray object. This encapsulates n-dimensional arrays of homogeneous data types, with many operations being performed in compiled code for performance. \n",
        "\n",
        "<br>\n",
        "\n",
        "**Why NumPy?**\n",
        "\n",
        "NumPy arrays facilitate advanced mathematical and other types of operations on large numbers of data. Typically, such operations are executed more efficiently and with less code than is possible using Python’s built-in sequences.\n",
        "\n",
        "The elements in a NumPy array are all required to be of the same data type."
      ]
    },
    {
      "cell_type": "code",
      "metadata": {
        "colab_type": "code",
        "id": "QAQqapHVlTVn",
        "colab": {}
      },
      "source": [
        "# importing modules\n",
        "import numpy as np"
      ],
      "execution_count": 0,
      "outputs": []
    },
    {
      "cell_type": "markdown",
      "metadata": {
        "colab_type": "text",
        "id": "E8yBE73BnJM4"
      },
      "source": [
        "### Creating np arrays"
      ]
    },
    {
      "cell_type": "markdown",
      "metadata": {
        "colab_type": "text",
        "id": "_2RcDY43tp3Y"
      },
      "source": [
        "1-Dimensional array (vector) - My scores for 5 courses"
      ]
    },
    {
      "cell_type": "code",
      "metadata": {
        "colab_type": "code",
        "executionInfo": {
          "elapsed": 491,
          "status": "ok",
          "timestamp": 1556633871241,
          "user": {
            "displayName": "Mansi Arora",
            "photoUrl": "https://lh3.googleusercontent.com/-XstDPPTRBMM/AAAAAAAAAAI/AAAAAAAAAfs/C5M_SeeeciA/s64/photo.jpg",
            "userId": "05191183514562402651"
          },
          "user_tz": 420
        },
        "id": "2sE37zcAlVo5",
        "outputId": "177d0290-8a3a-4711-ce87-787b22fba971",
        "colab": {
          "height": 70
        }
      },
      "source": [
        "# Create a rank 1 array\n",
        "scores = np.array([90, 95, 93, 88, 76])\n",
        "# print array\n",
        "print(scores)\n",
        "# type of the object\n",
        "print(type(scores))   \n",
        "# shape of the array\n",
        "print(scores.shape)      "
      ],
      "execution_count": 0,
      "outputs": [
        {
          "output_type": "stream",
          "text": [
            "[90 95 93 88 76]\n",
            "<type 'numpy.ndarray'>\n",
            "(5,)\n"
          ],
          "name": "stdout"
        }
      ]
    },
    {
      "cell_type": "markdown",
      "metadata": {
        "colab_type": "text",
        "id": "EhD_RTbdytIh"
      },
      "source": [
        "Accessing and editing the array"
      ]
    },
    {
      "cell_type": "code",
      "metadata": {
        "colab_type": "code",
        "executionInfo": {
          "elapsed": 386,
          "status": "ok",
          "timestamp": 1556633871736,
          "user": {
            "displayName": "Mansi Arora",
            "photoUrl": "https://lh3.googleusercontent.com/-XstDPPTRBMM/AAAAAAAAAAI/AAAAAAAAAfs/C5M_SeeeciA/s64/photo.jpg",
            "userId": "05191183514562402651"
          },
          "user_tz": 420
        },
        "id": "9UbiOpQntiMd",
        "outputId": "369d3c8f-653e-4c26-de10-e301b8515b42",
        "colab": {
          "height": 34
        }
      },
      "source": [
        "# printing scores of 1st course\n",
        "print(scores[0])"
      ],
      "execution_count": 0,
      "outputs": [
        {
          "output_type": "stream",
          "text": [
            "90\n"
          ],
          "name": "stdout"
        }
      ]
    },
    {
      "cell_type": "code",
      "metadata": {
        "colab_type": "code",
        "id": "YRjdump-ti_n",
        "colab": {}
      },
      "source": [
        "# My scores were incorrectly entered, I scored 65 in the 1st course :(\n",
        "scores[0] = 65                  "
      ],
      "execution_count": 0,
      "outputs": []
    },
    {
      "cell_type": "code",
      "metadata": {
        "colab_type": "code",
        "executionInfo": {
          "elapsed": 530,
          "status": "ok",
          "timestamp": 1556633872882,
          "user": {
            "displayName": "Mansi Arora",
            "photoUrl": "https://lh3.googleusercontent.com/-XstDPPTRBMM/AAAAAAAAAAI/AAAAAAAAAfs/C5M_SeeeciA/s64/photo.jpg",
            "userId": "05191183514562402651"
          },
          "user_tz": 420
        },
        "id": "jyBreKAftnHW",
        "outputId": "ce630cb2-47cb-477f-9831-1426223f63d5",
        "colab": {
          "height": 52
        }
      },
      "source": [
        "# printing the array\n",
        "print(scores) \n",
        "print(scores[-1])"
      ],
      "execution_count": 0,
      "outputs": [
        {
          "output_type": "stream",
          "text": [
            "[65 95 93 88 76]\n",
            "76\n"
          ],
          "name": "stdout"
        }
      ]
    },
    {
      "cell_type": "markdown",
      "metadata": {
        "colab_type": "text",
        "id": "T7txqdFOybg0"
      },
      "source": [
        "Some Summary statistics"
      ]
    },
    {
      "cell_type": "code",
      "metadata": {
        "colab_type": "code",
        "executionInfo": {
          "elapsed": 379,
          "status": "ok",
          "timestamp": 1556633873319,
          "user": {
            "displayName": "Mansi Arora",
            "photoUrl": "https://lh3.googleusercontent.com/-XstDPPTRBMM/AAAAAAAAAAI/AAAAAAAAAfs/C5M_SeeeciA/s64/photo.jpg",
            "userId": "05191183514562402651"
          },
          "user_tz": 420
        },
        "id": "GxfZl1jq49T4",
        "outputId": "dc410f19-076e-40b1-e67d-e3c3533d1c9a",
        "colab": {
          "height": 52
        }
      },
      "source": [
        "# What's the mean?\n",
        "print(np.mean(scores))\n",
        "\n",
        "print(scores.mean())\n"
      ],
      "execution_count": 0,
      "outputs": [
        {
          "output_type": "stream",
          "text": [
            "83.4\n",
            "83.4\n"
          ],
          "name": "stdout"
        }
      ]
    },
    {
      "cell_type": "code",
      "metadata": {
        "colab_type": "code",
        "executionInfo": {
          "elapsed": 412,
          "status": "ok",
          "timestamp": 1556633873993,
          "user": {
            "displayName": "Mansi Arora",
            "photoUrl": "https://lh3.googleusercontent.com/-XstDPPTRBMM/AAAAAAAAAAI/AAAAAAAAAfs/C5M_SeeeciA/s64/photo.jpg",
            "userId": "05191183514562402651"
          },
          "user_tz": 420
        },
        "id": "iHnymQKl6MG9",
        "outputId": "50e30757-d993-45f4-cc77-7ef20ccb6085",
        "colab": {
          "height": 52
        }
      },
      "source": [
        "# Max \n",
        "print np.max(scores)\n",
        "# Min\n",
        "print np.min(scores)"
      ],
      "execution_count": 0,
      "outputs": [
        {
          "output_type": "stream",
          "text": [
            "95\n",
            "65\n"
          ],
          "name": "stdout"
        }
      ]
    },
    {
      "cell_type": "markdown",
      "metadata": {
        "colab_type": "text",
        "id": "qPZ2CB28tvdt"
      },
      "source": [
        "2-Dimensional array (Matrix)"
      ]
    },
    {
      "cell_type": "code",
      "metadata": {
        "colab_type": "code",
        "id": "eADzLEPAmw-O",
        "colab": {}
      },
      "source": [
        "# Rank 2 array - Scores of 2 of my friends\n",
        "\n",
        "friends_scores = np.array([[78, 97, 56, 78, 99],\n",
        "                         [84, 75, 96, 94, 86]])  "
      ],
      "execution_count": 0,
      "outputs": []
    },
    {
      "cell_type": "code",
      "metadata": {
        "colab_type": "code",
        "executionInfo": {
          "elapsed": 382,
          "status": "ok",
          "timestamp": 1556633875040,
          "user": {
            "displayName": "Mansi Arora",
            "photoUrl": "https://lh3.googleusercontent.com/-XstDPPTRBMM/AAAAAAAAAAI/AAAAAAAAAfs/C5M_SeeeciA/s64/photo.jpg",
            "userId": "05191183514562402651"
          },
          "user_tz": 420
        },
        "id": "RUOo2ZaTtyhK",
        "outputId": "c494eeaa-651f-46bf-a38b-2df7172fab25",
        "colab": {
          "height": 52
        }
      },
      "source": [
        "# print array\n",
        "print(friends_scores)"
      ],
      "execution_count": 0,
      "outputs": [
        {
          "output_type": "stream",
          "text": [
            "[[78 97 56 78 99]\n",
            " [84 75 96 94 86]]\n"
          ],
          "name": "stdout"
        }
      ]
    },
    {
      "cell_type": "code",
      "metadata": {
        "colab_type": "code",
        "executionInfo": {
          "elapsed": 408,
          "status": "ok",
          "timestamp": 1556633875590,
          "user": {
            "displayName": "Mansi Arora",
            "photoUrl": "https://lh3.googleusercontent.com/-XstDPPTRBMM/AAAAAAAAAAI/AAAAAAAAAfs/C5M_SeeeciA/s64/photo.jpg",
            "userId": "05191183514562402651"
          },
          "user_tz": 420
        },
        "id": "YAupN_h2tzpv",
        "outputId": "9e852f6a-784b-448a-ffb1-5a67a0923e6b",
        "colab": {
          "height": 34
        }
      },
      "source": [
        "# print shape\n",
        "print(friends_scores.shape)   "
      ],
      "execution_count": 0,
      "outputs": [
        {
          "output_type": "stream",
          "text": [
            "(2, 5)\n"
          ],
          "name": "stdout"
        }
      ]
    },
    {
      "cell_type": "code",
      "metadata": {
        "colab_type": "code",
        "executionInfo": {
          "elapsed": 376,
          "status": "ok",
          "timestamp": 1556633876112,
          "user": {
            "displayName": "Mansi Arora",
            "photoUrl": "https://lh3.googleusercontent.com/-XstDPPTRBMM/AAAAAAAAAAI/AAAAAAAAAfs/C5M_SeeeciA/s64/photo.jpg",
            "userId": "05191183514562402651"
          },
          "user_tz": 420
        },
        "id": "paLI4UkXt0hT",
        "outputId": "a01e0018-3aa8-4a42-e7e1-8116d4a20811",
        "colab": {
          "height": 34
        }
      },
      "source": [
        "# How much did my first friend score in the 3rd course?\n",
        "print(friends_scores[0, 2])"
      ],
      "execution_count": 0,
      "outputs": [
        {
          "output_type": "stream",
          "text": [
            "56\n"
          ],
          "name": "stdout"
        }
      ]
    },
    {
      "cell_type": "markdown",
      "metadata": {
        "colab_type": "text",
        "id": "VGW52THrr0IA"
      },
      "source": [
        "### Special values"
      ]
    },
    {
      "cell_type": "code",
      "metadata": {
        "colab_type": "code",
        "executionInfo": {
          "elapsed": 397,
          "status": "ok",
          "timestamp": 1556633876647,
          "user": {
            "displayName": "Mansi Arora",
            "photoUrl": "https://lh3.googleusercontent.com/-XstDPPTRBMM/AAAAAAAAAAI/AAAAAAAAAfs/C5M_SeeeciA/s64/photo.jpg",
            "userId": "05191183514562402651"
          },
          "user_tz": 420
        },
        "id": "tIXkKSnBrzs5",
        "outputId": "fc037849-a63f-46c5-d687-3b99898fae1f",
        "colab": {
          "height": 34
        }
      },
      "source": [
        "# Null values\n",
        "np.nan"
      ],
      "execution_count": 0,
      "outputs": [
        {
          "output_type": "execute_result",
          "data": {
            "text/plain": [
              "nan"
            ]
          },
          "metadata": {
            "tags": []
          },
          "execution_count": 12
        }
      ]
    },
    {
      "cell_type": "code",
      "metadata": {
        "colab_type": "code",
        "executionInfo": {
          "elapsed": 457,
          "status": "ok",
          "timestamp": 1556633877222,
          "user": {
            "displayName": "Mansi Arora",
            "photoUrl": "https://lh3.googleusercontent.com/-XstDPPTRBMM/AAAAAAAAAAI/AAAAAAAAAfs/C5M_SeeeciA/s64/photo.jpg",
            "userId": "05191183514562402651"
          },
          "user_tz": 420
        },
        "id": "pG7Ay2dWr6RH",
        "outputId": "772d38a9-8f13-4c0c-d247-c9cb75ee9eda",
        "colab": {
          "height": 34
        }
      },
      "source": [
        "np.isnan(np.nan)"
      ],
      "execution_count": 0,
      "outputs": [
        {
          "output_type": "execute_result",
          "data": {
            "text/plain": [
              "True"
            ]
          },
          "metadata": {
            "tags": []
          },
          "execution_count": 13
        }
      ]
    },
    {
      "cell_type": "code",
      "metadata": {
        "colab_type": "code",
        "executionInfo": {
          "elapsed": 413,
          "status": "ok",
          "timestamp": 1556633877773,
          "user": {
            "displayName": "Mansi Arora",
            "photoUrl": "https://lh3.googleusercontent.com/-XstDPPTRBMM/AAAAAAAAAAI/AAAAAAAAAfs/C5M_SeeeciA/s64/photo.jpg",
            "userId": "05191183514562402651"
          },
          "user_tz": 420
        },
        "id": "okKfB4MAsE3O",
        "outputId": "38f31292-f405-4e69-d725-c2e50563ad4a",
        "colab": {
          "height": 34
        }
      },
      "source": [
        "# Infinity\n",
        "np.inf"
      ],
      "execution_count": 0,
      "outputs": [
        {
          "output_type": "execute_result",
          "data": {
            "text/plain": [
              "inf"
            ]
          },
          "metadata": {
            "tags": []
          },
          "execution_count": 14
        }
      ]
    },
    {
      "cell_type": "markdown",
      "metadata": {
        "colab_type": "text",
        "id": "UrSQuYIanXBe"
      },
      "source": [
        "### Slicing"
      ]
    },
    {
      "cell_type": "markdown",
      "metadata": {
        "colab_type": "text",
        "id": "_KL0k5bavVPk"
      },
      "source": [
        "#### 1D array"
      ]
    },
    {
      "cell_type": "markdown",
      "metadata": {
        "colab_type": "text",
        "id": "-rWL-ZXe1NBQ"
      },
      "source": [
        "Syntax is [start:end:by]"
      ]
    },
    {
      "cell_type": "code",
      "metadata": {
        "colab_type": "code",
        "executionInfo": {
          "elapsed": 620,
          "status": "ok",
          "timestamp": 1556633878496,
          "user": {
            "displayName": "Mansi Arora",
            "photoUrl": "https://lh3.googleusercontent.com/-XstDPPTRBMM/AAAAAAAAAAI/AAAAAAAAAfs/C5M_SeeeciA/s64/photo.jpg",
            "userId": "05191183514562402651"
          },
          "user_tz": 420
        },
        "id": "zghLwHU7nYFY",
        "outputId": "37b45353-d11e-41e6-b66f-361705718877",
        "colab": {
          "height": 87
        }
      },
      "source": [
        "# Scores of first 3 subjects\n",
        "scores = np.array([90, 95, 93, 88, 76])\n",
        "print scores[:3]  \n",
        "# scores after 3rd subject\n",
        "print scores[3:] \n",
        "# scores of the 2nd and 3rd subject\n",
        "print scores[3:5]\n",
        "# every other score\n",
        "print scores[::2] "
      ],
      "execution_count": 0,
      "outputs": [
        {
          "output_type": "stream",
          "text": [
            "[90 95 93]\n",
            "[88 76]\n",
            "[88 76]\n",
            "[90 93 76]\n"
          ],
          "name": "stdout"
        }
      ]
    },
    {
      "cell_type": "code",
      "metadata": {
        "colab_type": "code",
        "executionInfo": {
          "elapsed": 427,
          "status": "ok",
          "timestamp": 1556633879058,
          "user": {
            "displayName": "Mansi Arora",
            "photoUrl": "https://lh3.googleusercontent.com/-XstDPPTRBMM/AAAAAAAAAAI/AAAAAAAAAfs/C5M_SeeeciA/s64/photo.jpg",
            "userId": "05191183514562402651"
          },
          "user_tz": 420
        },
        "id": "pNVhVlXmufe0",
        "outputId": "09e4535a-7045-4c63-8481-8a0beb28eac9",
        "colab": {
          "height": 34
        }
      },
      "source": [
        "# every other score, starting at index 1\n",
        "scores[1::2]  \n"
      ],
      "execution_count": 0,
      "outputs": [
        {
          "output_type": "execute_result",
          "data": {
            "text/plain": [
              "array([95, 88])"
            ]
          },
          "metadata": {
            "tags": []
          },
          "execution_count": 16
        }
      ]
    },
    {
      "cell_type": "markdown",
      "metadata": {
        "colab_type": "text",
        "id": "p8pReOWC1-WA"
      },
      "source": [
        "Indices can be negative as well"
      ]
    },
    {
      "cell_type": "code",
      "metadata": {
        "colab_type": "code",
        "executionInfo": {
          "elapsed": 414,
          "status": "ok",
          "timestamp": 1556633879627,
          "user": {
            "displayName": "Mansi Arora",
            "photoUrl": "https://lh3.googleusercontent.com/-XstDPPTRBMM/AAAAAAAAAAI/AAAAAAAAAfs/C5M_SeeeciA/s64/photo.jpg",
            "userId": "05191183514562402651"
          },
          "user_tz": 420
        },
        "id": "G2D6azmrugTl",
        "outputId": "eff724c8-e084-4935-d78b-7a9375f9bf95",
        "colab": {
          "height": 87
        }
      },
      "source": [
        "scores = np.array([90, 95, 93, 88, 76])\n",
        "print 'All scores reversed'\n",
        "print scores[::-1]  \n",
        "print 'Reversed every other from index 4'\n",
        "scores[4::-2]  "
      ],
      "execution_count": 0,
      "outputs": [
        {
          "output_type": "stream",
          "text": [
            "All scores reversed\n",
            "[76 88 93 95 90]\n",
            "Reversed every other from index 4\n"
          ],
          "name": "stdout"
        },
        {
          "output_type": "execute_result",
          "data": {
            "text/plain": [
              "array([76, 93, 90])"
            ]
          },
          "metadata": {
            "tags": []
          },
          "execution_count": 17
        }
      ]
    },
    {
      "cell_type": "code",
      "metadata": {
        "colab_type": "code",
        "executionInfo": {
          "elapsed": 378,
          "status": "ok",
          "timestamp": 1556633880198,
          "user": {
            "displayName": "Mansi Arora",
            "photoUrl": "https://lh3.googleusercontent.com/-XstDPPTRBMM/AAAAAAAAAAI/AAAAAAAAAfs/C5M_SeeeciA/s64/photo.jpg",
            "userId": "05191183514562402651"
          },
          "user_tz": 420
        },
        "id": "uIXipms9uhFC",
        "outputId": "64ac131e-5c8a-431b-8834-ee0205830730",
        "colab": {
          "height": 34
        }
      },
      "source": [
        "# Second to last element and forward\n",
        "scores[-2:]"
      ],
      "execution_count": 0,
      "outputs": [
        {
          "output_type": "execute_result",
          "data": {
            "text/plain": [
              "array([88, 76])"
            ]
          },
          "metadata": {
            "tags": []
          },
          "execution_count": 18
        }
      ]
    },
    {
      "cell_type": "markdown",
      "metadata": {
        "colab_type": "text",
        "id": "e3mnikLd35wj"
      },
      "source": [
        "You can modify the original vector via slicing"
      ]
    },
    {
      "cell_type": "code",
      "metadata": {
        "colab_type": "code",
        "executionInfo": {
          "elapsed": 652,
          "status": "ok",
          "timestamp": 1556633881016,
          "user": {
            "displayName": "Mansi Arora",
            "photoUrl": "https://lh3.googleusercontent.com/-XstDPPTRBMM/AAAAAAAAAAI/AAAAAAAAAfs/C5M_SeeeciA/s64/photo.jpg",
            "userId": "05191183514562402651"
          },
          "user_tz": 420
        },
        "id": "qOQCQdz24Jl3",
        "outputId": "73aaa8ea-c186-4dee-e803-8a90b9b5517b",
        "colab": {
          "height": 34
        }
      },
      "source": [
        "scores = np.array([90, 95, 93, 88, 76])\n",
        "scores[-2:] = [0,0]\n",
        "print scores"
      ],
      "execution_count": 0,
      "outputs": [
        {
          "output_type": "stream",
          "text": [
            "[90 95 93  0  0]\n"
          ],
          "name": "stdout"
        }
      ]
    },
    {
      "cell_type": "markdown",
      "metadata": {
        "colab_type": "text",
        "id": "VoQOv0kBvXIj"
      },
      "source": [
        "#### 2D array"
      ]
    },
    {
      "cell_type": "markdown",
      "metadata": {
        "colab_type": "text",
        "id": "gx0UCEe94l4h"
      },
      "source": [
        "Slicing syntax is similar to 1D case, but now you have multiple dimensions to play with"
      ]
    },
    {
      "cell_type": "code",
      "metadata": {
        "colab_type": "code",
        "executionInfo": {
          "elapsed": 438,
          "status": "ok",
          "timestamp": 1556633881560,
          "user": {
            "displayName": "Mansi Arora",
            "photoUrl": "https://lh3.googleusercontent.com/-XstDPPTRBMM/AAAAAAAAAAI/AAAAAAAAAfs/C5M_SeeeciA/s64/photo.jpg",
            "userId": "05191183514562402651"
          },
          "user_tz": 420
        },
        "id": "6Ig35VY_vX_1",
        "outputId": "4acb7e90-54d5-4359-ea18-3545c76ead5e",
        "colab": {
          "height": 194
        }
      },
      "source": [
        "x = np.random.randint(10, size=(3, 4))  # Two-dimensional array\n",
        "print x\n",
        "print 'two rows, three columns'\n",
        "print x[:2, :3]\n",
        "print 'all rows, every other column'\n",
        "print x[:3, ::2]  \n"
      ],
      "execution_count": 0,
      "outputs": [
        {
          "output_type": "stream",
          "text": [
            "[[9 7 2 5]\n",
            " [9 0 2 7]\n",
            " [9 9 1 5]]\n",
            "two rows, three columns\n",
            "[[9 7 2]\n",
            " [9 0 2]]\n",
            "all rows, every other column\n",
            "[[9 2]\n",
            " [9 2]\n",
            " [9 1]]\n"
          ],
          "name": "stdout"
        }
      ]
    },
    {
      "cell_type": "markdown",
      "metadata": {
        "colab_type": "text",
        "id": "lSC7SI9T5UE8"
      },
      "source": [
        "Example using negative indexing"
      ]
    },
    {
      "cell_type": "code",
      "metadata": {
        "colab_type": "code",
        "executionInfo": {
          "elapsed": 385,
          "status": "ok",
          "timestamp": 1556633882047,
          "user": {
            "displayName": "Mansi Arora",
            "photoUrl": "https://lh3.googleusercontent.com/-XstDPPTRBMM/AAAAAAAAAAI/AAAAAAAAAfs/C5M_SeeeciA/s64/photo.jpg",
            "userId": "05191183514562402651"
          },
          "user_tz": 420
        },
        "id": "MQbinR6MvgR7",
        "outputId": "8bd44022-b3d7-4d00-d984-74cb2d26a61e",
        "colab": {
          "height": 141
        }
      },
      "source": [
        "print x\n",
        "print 'Reversed together'\n",
        "print x[::-1, ::-1]\n"
      ],
      "execution_count": 0,
      "outputs": [
        {
          "output_type": "stream",
          "text": [
            "[[9 7 2 5]\n",
            " [9 0 2 7]\n",
            " [9 9 1 5]]\n",
            "Reversed together\n",
            "[[5 1 9 9]\n",
            " [7 2 0 9]\n",
            " [5 2 7 9]]\n"
          ],
          "name": "stdout"
        }
      ]
    },
    {
      "cell_type": "markdown",
      "metadata": {
        "colab_type": "text",
        "id": "yTShjypP6EdE"
      },
      "source": [
        "Accessing rows and columns"
      ]
    },
    {
      "cell_type": "code",
      "metadata": {
        "colab_type": "code",
        "executionInfo": {
          "elapsed": 401,
          "status": "ok",
          "timestamp": 1556633882589,
          "user": {
            "displayName": "Mansi Arora",
            "photoUrl": "https://lh3.googleusercontent.com/-XstDPPTRBMM/AAAAAAAAAAI/AAAAAAAAAfs/C5M_SeeeciA/s64/photo.jpg",
            "userId": "05191183514562402651"
          },
          "user_tz": 420
        },
        "id": "2AVLA6H1vjSw",
        "outputId": "322d6c87-7a04-4c97-e86b-964bd5224278",
        "colab": {
          "height": 176
        }
      },
      "source": [
        "print x\n",
        "print 'First column of x2'\n",
        "print x[:, 0] \n",
        "print 'First row of x2'\n",
        "print(x[0, :])\n",
        "print 'Another way'\n",
        "print(x[0])"
      ],
      "execution_count": 0,
      "outputs": [
        {
          "output_type": "stream",
          "text": [
            "[[9 7 2 5]\n",
            " [9 0 2 7]\n",
            " [9 9 1 5]]\n",
            "First column of x2\n",
            "[9 9 9]\n",
            "First row of x2\n",
            "[9 7 2 5]\n",
            "Another way\n",
            "[9 7 2 5]\n"
          ],
          "name": "stdout"
        }
      ]
    },
    {
      "cell_type": "markdown",
      "metadata": {
        "colab_type": "text",
        "id": "YDhKYARd7IHp"
      },
      "source": [
        "### Matrix/Vector Operations"
      ]
    },
    {
      "cell_type": "markdown",
      "metadata": {
        "colab_type": "text",
        "id": "bb2FuG1c8NXZ"
      },
      "source": [
        "Dot product:\n",
        "`np.dot(a, b)` where a and b are ndarrays"
      ]
    },
    {
      "cell_type": "code",
      "metadata": {
        "colab_type": "code",
        "executionInfo": {
          "elapsed": 401,
          "status": "ok",
          "timestamp": 1556633883140,
          "user": {
            "displayName": "Mansi Arora",
            "photoUrl": "https://lh3.googleusercontent.com/-XstDPPTRBMM/AAAAAAAAAAI/AAAAAAAAAfs/C5M_SeeeciA/s64/photo.jpg",
            "userId": "05191183514562402651"
          },
          "user_tz": 420
        },
        "id": "zpW8jgbh7r1h",
        "outputId": "78a194db-f55a-4e4a-f7a0-b77248356587",
        "colab": {
          "height": 34
        }
      },
      "source": [
        "# Scores of 2 of my friends on 5 tests\n",
        "scores = np.array([90, 95, 93, 88, 76])\n",
        "# Mean score\n",
        "print np.dot(scores,\n",
        "             np.array([0.2, 0.2, 0.2, 0.2, 0.2]))"
      ],
      "execution_count": 0,
      "outputs": [
        {
          "output_type": "stream",
          "text": [
            "88.4\n"
          ],
          "name": "stdout"
        }
      ]
    },
    {
      "cell_type": "markdown",
      "metadata": {
        "colab_type": "text",
        "id": "nzEnIa059D4F"
      },
      "source": [
        "Matrix multiplication: `np.matmul(a, b)`"
      ]
    },
    {
      "cell_type": "code",
      "metadata": {
        "colab_type": "code",
        "executionInfo": {
          "elapsed": 431,
          "status": "ok",
          "timestamp": 1556633883728,
          "user": {
            "displayName": "Mansi Arora",
            "photoUrl": "https://lh3.googleusercontent.com/-XstDPPTRBMM/AAAAAAAAAAI/AAAAAAAAAfs/C5M_SeeeciA/s64/photo.jpg",
            "userId": "05191183514562402651"
          },
          "user_tz": 420
        },
        "id": "2vcJIaSt8hrX",
        "outputId": "eb2be520-45d7-4957-ae5a-c305480dde9d",
        "colab": {
          "height": 34
        }
      },
      "source": [
        "friends_scores = np.array([[78, 97, 56, 78, 99],\n",
        "                         [84, 75, 96, 94, 86]]) \n",
        "# Average scores per test\n",
        "print np.matmul(np.array([0.5, 0.5]), friends_scores)\n"
      ],
      "execution_count": 0,
      "outputs": [
        {
          "output_type": "stream",
          "text": [
            "[ 81.   86.   76.   86.   92.5]\n"
          ],
          "name": "stdout"
        }
      ]
    },
    {
      "cell_type": "markdown",
      "metadata": {
        "colab_type": "text",
        "id": "I50B8gVa-LTL"
      },
      "source": [
        "Element-wise operations"
      ]
    },
    {
      "cell_type": "code",
      "metadata": {
        "colab_type": "code",
        "executionInfo": {
          "elapsed": 417,
          "status": "ok",
          "timestamp": 1556633884288,
          "user": {
            "displayName": "Mansi Arora",
            "photoUrl": "https://lh3.googleusercontent.com/-XstDPPTRBMM/AAAAAAAAAAI/AAAAAAAAAfs/C5M_SeeeciA/s64/photo.jpg",
            "userId": "05191183514562402651"
          },
          "user_tz": 420
        },
        "id": "tgYDVzIc-a8R",
        "outputId": "80a2b853-70eb-4e55-8141-51054e4e2a9f",
        "colab": {
          "height": 52
        }
      },
      "source": [
        "# Another way of computing average scores per test\n",
        "friends_scores = np.array([[78, 97, 56, 78, 99],\n",
        "                         [84, 75, 96, 94, 86]])\n",
        "# Average scores per test\n",
        "print (friends_scores[0, :] + friends_scores[1, :]) / (\n",
        "    np.array([2., 2., 2., 2., 2.]))\n",
        "\n",
        "# It turns out the following also works because of broadcasting\n",
        "# (covered next)\n",
        "print (friends_scores[0, :] + friends_scores[1, :]) / 2.\n",
        "\n"
      ],
      "execution_count": 0,
      "outputs": [
        {
          "output_type": "stream",
          "text": [
            "[ 81.   86.   76.   86.   92.5]\n",
            "[ 81.   86.   76.   86.   92.5]\n"
          ],
          "name": "stdout"
        }
      ]
    },
    {
      "cell_type": "markdown",
      "metadata": {
        "colab_type": "text",
        "id": "dKLJa49xndF0"
      },
      "source": [
        "### Broadcasting"
      ]
    },
    {
      "cell_type": "markdown",
      "metadata": {
        "colab_type": "text",
        "id": "p0h78rmA123q"
      },
      "source": [
        "* If the dimensions of two arrays are dissimilar, element-to-element operations are not possible. \n",
        "* Operations on arrays of non-similar shapes is still possible in NumPy, because of the broadcasting capability.\n",
        "* The smaller array is broadcast to the size of the larger array so that they have compatible shapes."
      ]
    },
    {
      "cell_type": "markdown",
      "metadata": {
        "colab_type": "text",
        "id": "bs02tNRb0lTj"
      },
      "source": [
        "Example: Let's count calories in foods using a macro-nutrient breakdown. Roughly put, the caloric parts of food are made of fats , protein (4 calories per gram) and carbs (4 calories per gram).  So if we list some foods (our data), and for each food list its macro-nutrient breakdown (parameters), we can then multiply each nutrient by its caloric value (apply scaling) to compute the caloric breakdown of each food item."
      ]
    },
    {
      "cell_type": "markdown",
      "metadata": {
        "colab_type": "text",
        "id": "wZAGcDdDBgLm"
      },
      "source": [
        "* Example: \n",
        " * We have Grams for each food broken down by fat, protein, and carbs\n",
        "  * We have Calories per gram broken down by fat, protein, and carbs\n",
        "  * We want Calories for each food broken down by fat, protein, carbs\n"
      ]
    },
    {
      "cell_type": "code",
      "metadata": {
        "colab_type": "code",
        "executionInfo": {
          "elapsed": 499,
          "status": "ok",
          "timestamp": 1556633884927,
          "user": {
            "displayName": "Mansi Arora",
            "photoUrl": "https://lh3.googleusercontent.com/-XstDPPTRBMM/AAAAAAAAAAI/AAAAAAAAAfs/C5M_SeeeciA/s64/photo.jpg",
            "userId": "05191183514562402651"
          },
          "user_tz": 420
        },
        "id": "YZ_OYY81nfoV",
        "outputId": "fa2ea081-cf97-41ce-81b2-16b09f395420",
        "colab": {
          "height": 87
        }
      },
      "source": [
        "# Grams for each food broken down by fat, protein, and carbs\n",
        "grams_in_foods = np.array([\n",
        "  [0.3, 2.5, 3.5],  # Brocolli contains 0.3g fat, 2.5g protein and 3.5g carbs\n",
        "  [2.9, 27.5, 0],   # Chicken breast contains 2.9g fat, 27.5g protein and 0g carbs\n",
        "  [0.4, 1.3, 23.9], # and so on..\n",
        "  [14.4, 6, 2.3]])\n",
        "# Calories per gram broken down by fat, protein, and carbs\n",
        "cal_per_gram = np.array([9, 4, 4])\n",
        "# Calories for each food broken down by fat, protein, carbs\n",
        "calories_in_foods = grams_in_foods * cal_per_gram\n",
        "print calories_in_foods"
      ],
      "execution_count": 0,
      "outputs": [
        {
          "output_type": "stream",
          "text": [
            "[[   2.7   10.    14. ]\n",
            " [  26.1  110.     0. ]\n",
            " [   3.6    5.2   95.6]\n",
            " [ 129.6   24.     9.2]]\n"
          ],
          "name": "stdout"
        }
      ]
    },
    {
      "cell_type": "markdown",
      "metadata": {
        "colab_type": "text",
        "id": "T7RZhtzu1oxU"
      },
      "source": [
        "Implementation using element-wise multiplication without broadcasting"
      ]
    },
    {
      "cell_type": "code",
      "metadata": {
        "colab_type": "code",
        "executionInfo": {
          "elapsed": 562,
          "status": "ok",
          "timestamp": 1556633885599,
          "user": {
            "displayName": "Mansi Arora",
            "photoUrl": "https://lh3.googleusercontent.com/-XstDPPTRBMM/AAAAAAAAAAI/AAAAAAAAAfs/C5M_SeeeciA/s64/photo.jpg",
            "userId": "05191183514562402651"
          },
          "user_tz": 420
        },
        "id": "R8HqNr-a1VbN",
        "outputId": "665917d4-c4bd-41e0-ec8e-48d321b982ed",
        "colab": {
          "height": 87
        }
      },
      "source": [
        "# Create a new array filled with zeros, of the same shape as macros.\n",
        "result = np.zeros_like(grams_in_foods)\n",
        "\n",
        "# Now multiply each row of macros by cal_per_macro. In Numpy, `*` is\n",
        "# element-wise multiplication between two arrays.\n",
        "for i in xrange(grams_in_foods.shape[0]):\n",
        "  result[i, :] = grams_in_foods[i, :] * cal_per_gram\n",
        "\n",
        "result"
      ],
      "execution_count": 0,
      "outputs": [
        {
          "output_type": "execute_result",
          "data": {
            "text/plain": [
              "array([[   2.7,   10. ,   14. ],\n",
              "       [  26.1,  110. ,    0. ],\n",
              "       [   3.6,    5.2,   95.6],\n",
              "       [ 129.6,   24. ,    9.2]])"
            ]
          },
          "metadata": {
            "tags": []
          },
          "execution_count": 27
        }
      ]
    },
    {
      "cell_type": "markdown",
      "metadata": {
        "colab_type": "text",
        "id": "cOUPKf6ane4Q"
      },
      "source": [
        "### Basic operations"
      ]
    },
    {
      "cell_type": "code",
      "metadata": {
        "colab_type": "code",
        "executionInfo": {
          "elapsed": 437,
          "status": "ok",
          "timestamp": 1556633886169,
          "user": {
            "displayName": "Mansi Arora",
            "photoUrl": "https://lh3.googleusercontent.com/-XstDPPTRBMM/AAAAAAAAAAI/AAAAAAAAAfs/C5M_SeeeciA/s64/photo.jpg",
            "userId": "05191183514562402651"
          },
          "user_tz": 420
        },
        "id": "IG9CFIJjqvMH",
        "outputId": "4f14649c-6649-4b3b-83d6-31c105ed672a",
        "colab": {
          "height": 70
        }
      },
      "source": [
        "# vstack, hstack\n",
        "friends_scores = np.array([[78, 97, 56, 78, 99],\n",
        "                         [84, 75, 96, 94, 86]])  \n",
        "scores = np.array([90, 95, 93, 88, 76])\n",
        "np.vstack([scores, friends_scores])"
      ],
      "execution_count": 0,
      "outputs": [
        {
          "output_type": "execute_result",
          "data": {
            "text/plain": [
              "array([[90, 95, 93, 88, 76],\n",
              "       [78, 97, 56, 78, 99],\n",
              "       [84, 75, 96, 94, 86]])"
            ]
          },
          "metadata": {
            "tags": []
          },
          "execution_count": 28
        }
      ]
    },
    {
      "cell_type": "code",
      "metadata": {
        "colab_type": "code",
        "executionInfo": {
          "elapsed": 409,
          "status": "ok",
          "timestamp": 1556633886672,
          "user": {
            "displayName": "Mansi Arora",
            "photoUrl": "https://lh3.googleusercontent.com/-XstDPPTRBMM/AAAAAAAAAAI/AAAAAAAAAfs/C5M_SeeeciA/s64/photo.jpg",
            "userId": "05191183514562402651"
          },
          "user_tz": 420
        },
        "id": "FZaHE75l60Hd",
        "outputId": "9ec1e94c-1a34-4181-9837-947fb97ead00",
        "colab": {
          "height": 105
        }
      },
      "source": [
        "# transpose\n",
        "friends_scores.T"
      ],
      "execution_count": 0,
      "outputs": [
        {
          "output_type": "execute_result",
          "data": {
            "text/plain": [
              "array([[78, 84],\n",
              "       [97, 75],\n",
              "       [56, 96],\n",
              "       [78, 94],\n",
              "       [99, 86]])"
            ]
          },
          "metadata": {
            "tags": []
          },
          "execution_count": 29
        }
      ]
    },
    {
      "cell_type": "code",
      "metadata": {
        "colab_type": "code",
        "executionInfo": {
          "elapsed": 965,
          "status": "error",
          "timestamp": 1556633887736,
          "user": {
            "displayName": "Mansi Arora",
            "photoUrl": "https://lh3.googleusercontent.com/-XstDPPTRBMM/AAAAAAAAAAI/AAAAAAAAAfs/C5M_SeeeciA/s64/photo.jpg",
            "userId": "05191183514562402651"
          },
          "user_tz": 420
        },
        "id": "uNIDeo2j6wGH",
        "outputId": "f9ba6144-6b50-4c19-88c9-6828a203ccfe",
        "colab": {
          "height": 167
        }
      },
      "source": [
        "# concatenate - throws an error, can you guess why?\n",
        "np.concatenate((scores, friends_scores))"
      ],
      "execution_count": 0,
      "outputs": [
        {
          "output_type": "error",
          "ename": "ValueError",
          "evalue": "ignored",
          "traceback": [
            "\u001b[1;31m---------------------------------------------------------------------------\u001b[0m\n\u001b[1;31mValueError\u001b[0m                                Traceback (most recent call last)",
            "\u001b[1;32m<ipython-input-30-edb1b732b957>\u001b[0m in \u001b[0;36m<module>\u001b[1;34m()\u001b[0m\n\u001b[1;32m----> 1\u001b[1;33m \u001b[0mnp\u001b[0m\u001b[1;33m.\u001b[0m\u001b[0mconcatenate\u001b[0m\u001b[1;33m(\u001b[0m\u001b[1;33m(\u001b[0m\u001b[0mscores\u001b[0m\u001b[1;33m,\u001b[0m \u001b[0mfriends_scores\u001b[0m\u001b[1;33m)\u001b[0m\u001b[1;33m)\u001b[0m\u001b[1;33m\u001b[0m\u001b[0m\n\u001b[0m",
            "\u001b[1;31mValueError\u001b[0m: all the input arrays must have same number of dimensions"
          ]
        }
      ]
    },
    {
      "cell_type": "code",
      "metadata": {
        "colab_type": "code",
        "executionInfo": {
          "elapsed": 401,
          "status": "ok",
          "timestamp": 1556633945865,
          "user": {
            "displayName": "Mansi Arora",
            "photoUrl": "https://lh3.googleusercontent.com/-XstDPPTRBMM/AAAAAAAAAAI/AAAAAAAAAfs/C5M_SeeeciA/s64/photo.jpg",
            "userId": "05191183514562402651"
          },
          "user_tz": 420
        },
        "id": "hNfYsqcF7GS4",
        "outputId": "d69d566d-ce5e-411d-fda2-61db385e62b5",
        "colab": {
          "height": 34
        }
      },
      "source": [
        "np.concatenate((scores, friends_scores[0], friends_scores[1]))"
      ],
      "execution_count": 0,
      "outputs": [
        {
          "output_type": "execute_result",
          "data": {
            "text/plain": [
              "array([90, 95, 93, 88, 76, 78, 97, 56, 78, 99, 84, 75, 96, 94, 86])"
            ]
          },
          "metadata": {
            "tags": []
          },
          "execution_count": 32
        }
      ]
    },
    {
      "cell_type": "code",
      "metadata": {
        "colab_type": "code",
        "executionInfo": {
          "elapsed": 546,
          "status": "ok",
          "timestamp": 1556633946537,
          "user": {
            "displayName": "Mansi Arora",
            "photoUrl": "https://lh3.googleusercontent.com/-XstDPPTRBMM/AAAAAAAAAAI/AAAAAAAAAfs/C5M_SeeeciA/s64/photo.jpg",
            "userId": "05191183514562402651"
          },
          "user_tz": 420
        },
        "id": "6XGfUyM42BBV",
        "outputId": "e790bb2d-f382-4bd2-ad93-e487c2816ff5",
        "colab": {
          "height": 176
        }
      },
      "source": [
        "print 'Create matrix of ones'\n",
        "print np.ones((4,5))\n",
        "print 'Create matrix of zeros'\n",
        "print np.zeros((3, 2))"
      ],
      "execution_count": 0,
      "outputs": [
        {
          "output_type": "stream",
          "text": [
            "Create matrix of ones\n",
            "[[ 1.  1.  1.  1.  1.]\n",
            " [ 1.  1.  1.  1.  1.]\n",
            " [ 1.  1.  1.  1.  1.]\n",
            " [ 1.  1.  1.  1.  1.]]\n",
            "Create matrix of zeros\n",
            "[[ 0.  0.]\n",
            " [ 0.  0.]\n",
            " [ 0.  0.]]\n"
          ],
          "name": "stdout"
        }
      ]
    },
    {
      "cell_type": "markdown",
      "metadata": {
        "colab_type": "text",
        "id": "eoNI1VbS2mW_"
      },
      "source": [
        "### Exercise"
      ]
    },
    {
      "cell_type": "markdown",
      "metadata": {
        "colab_type": "text",
        "id": "Bki_cvLEIuOi"
      },
      "source": [
        "Find the ordinary least squares solution for the beta coefficients manually using the closed-form formula and write this as a function:\n",
        "\n",
        "inv(X^TX) X^Ty"
      ]
    },
    {
      "cell_type": "code",
      "metadata": {
        "colab_type": "code",
        "id": "gihDIzyKMWY-",
        "colab": {}
      },
      "source": [
        "import numpy as np\n",
        "y = np.array([1, 2, 3, 4, 5, 6, 7, 8]).T\n",
        "x = np.array([[1, 1], [2, 1], [3, 1], [3, 1], [3, 1],\n",
        "             [6, 1], [6, 2], [7, 1]])"
      ],
      "execution_count": 0,
      "outputs": []
    },
    {
      "cell_type": "code",
      "metadata": {
        "colab_type": "code",
        "id": "3L8b9gZtNRht",
        "colab": {}
      },
      "source": [
        "def FindLinearRegressionCoefficients(x, y):\n",
        "  betas = np.matmul(np.linalg.inv(np.matmul(x.T, x)),\n",
        "                    np.matmul(x.T, y))\n",
        "  return betas"
      ],
      "execution_count": 0,
      "outputs": []
    },
    {
      "cell_type": "code",
      "metadata": {
        "colab_type": "code",
        "executionInfo": {
          "elapsed": 510,
          "status": "ok",
          "timestamp": 1556633948155,
          "user": {
            "displayName": "Mansi Arora",
            "photoUrl": "https://lh3.googleusercontent.com/-XstDPPTRBMM/AAAAAAAAAAI/AAAAAAAAAfs/C5M_SeeeciA/s64/photo.jpg",
            "userId": "05191183514562402651"
          },
          "user_tz": 420
        },
        "id": "mzVThOwZNvkW",
        "outputId": "afb65f1a-f995-4dbb-83f6-042e8ff8c80d",
        "colab": {
          "height": 34
        }
      },
      "source": [
        "FindLinearRegressionCoefficients(x, y)"
      ],
      "execution_count": 0,
      "outputs": [
        {
          "output_type": "execute_result",
          "data": {
            "text/plain": [
              "array([ 1.06369427,  0.33121019])"
            ]
          },
          "metadata": {
            "tags": []
          },
          "execution_count": 36
        }
      ]
    },
    {
      "cell_type": "code",
      "metadata": {
        "colab_type": "code",
        "executionInfo": {
          "elapsed": 476,
          "status": "ok",
          "timestamp": 1556634186670,
          "user": {
            "displayName": "Mansi Arora",
            "photoUrl": "https://lh3.googleusercontent.com/-XstDPPTRBMM/AAAAAAAAAAI/AAAAAAAAAfs/C5M_SeeeciA/s64/photo.jpg",
            "userId": "05191183514562402651"
          },
          "user_tz": 420
        },
        "id": "OpZ62TEeOIj3",
        "outputId": "c92b3466-de69-43f9-e3e1-2bb1628a1aa7",
        "colab": {
          "height": 34
        }
      },
      "source": [
        "FindLinearRegressionCoefficients(np.array([[8,1], [1,1], [1,1]]),\n",
        "                                 np.array([9, 2, 4]).T)"
      ],
      "execution_count": 0,
      "outputs": [
        {
          "output_type": "execute_result",
          "data": {
            "text/plain": [
              "array([ 0.85714286,  2.14285714])"
            ]
          },
          "metadata": {
            "tags": []
          },
          "execution_count": 98
        }
      ]
    },
    {
      "cell_type": "code",
      "metadata": {
        "colab_type": "code",
        "id": "jz54nVlDOXWQ",
        "colab": {}
      },
      "source": [
        "def FindLinearRegressionCoefficients(x, y):\n",
        "  try:\n",
        "    betas = np.matmul(np.linalg.inv(np.matmul(x.T, x)),\n",
        "                      np.matmul(x.T, y))\n",
        "  except np.linalg.LinAlgError:\n",
        "    betas = [np.nan, np.nan]\n",
        "  return betas"
      ],
      "execution_count": 0,
      "outputs": []
    },
    {
      "cell_type": "markdown",
      "metadata": {
        "colab_type": "text",
        "id": "8t8oArhp2D0u"
      },
      "source": [
        "## Pandas"
      ]
    },
    {
      "cell_type": "code",
      "metadata": {
        "colab_type": "code",
        "id": "w2j9jEYY2FZP",
        "colab": {}
      },
      "source": [
        "import pandas as pd\n",
        "import numpy as np"
      ],
      "execution_count": 0,
      "outputs": []
    },
    {
      "cell_type": "markdown",
      "metadata": {
        "colab_type": "text",
        "id": "3ss8mXCvooxD"
      },
      "source": [
        "**Core components of pandas: Series and DataFrames**: \n",
        "\n",
        "The primary two components of pandas are the Series and DataFrame. A Series is essentially a column, and a DataFrame is a multi-dimensional table made up of a collection of Series."
      ]
    },
    {
      "cell_type": "markdown",
      "metadata": {
        "colab_type": "text",
        "id": "X777OhHALAIl"
      },
      "source": [
        "### Reading from a csv"
      ]
    },
    {
      "cell_type": "code",
      "metadata": {
        "colab_type": "code",
        "id": "jMkU_CT4L4Ls",
        "colab": {}
      },
      "source": [
        "from google3.pyglib import gfile\n",
        "df = pd.read_csv(gfile.GFile(\"/cns/vq-d/home/menjoge/coauthor/example.csv\"))"
      ],
      "execution_count": 0,
      "outputs": []
    },
    {
      "cell_type": "code",
      "metadata": {
        "colab_type": "code",
        "executionInfo": {
          "elapsed": 402,
          "status": "ok",
          "timestamp": 1556634008299,
          "user": {
            "displayName": "Mansi Arora",
            "photoUrl": "https://lh3.googleusercontent.com/-XstDPPTRBMM/AAAAAAAAAAI/AAAAAAAAAfs/C5M_SeeeciA/s64/photo.jpg",
            "userId": "05191183514562402651"
          },
          "user_tz": 420
        },
        "id": "mxX4aEY2MR0P",
        "outputId": "bce85031-58ef-47c4-edd0-4d783875233c",
        "colab": {
          "height": 197
        }
      },
      "source": [
        "df.head()"
      ],
      "execution_count": 0,
      "outputs": [
        {
          "output_type": "execute_result",
          "data": {
            "text/html": [
              "<div>\n",
              "<style scoped>\n",
              "    .dataframe tbody tr th:only-of-type {\n",
              "        vertical-align: middle;\n",
              "    }\n",
              "\n",
              "    .dataframe tbody tr th {\n",
              "        vertical-align: top;\n",
              "    }\n",
              "\n",
              "    .dataframe thead th {\n",
              "        text-align: right;\n",
              "    }\n",
              "</style>\n",
              "<table border=\"1\" class=\"dataframe\">\n",
              "  <thead>\n",
              "    <tr style=\"text-align: right;\">\n",
              "      <th></th>\n",
              "      <th>Email</th>\n",
              "      <th>PreferredLanguage</th>\n",
              "    </tr>\n",
              "  </thead>\n",
              "  <tbody>\n",
              "    <tr>\n",
              "      <th>0</th>\n",
              "      <td>rajiv.menjoge@gmail.com</td>\n",
              "      <td>python</td>\n",
              "    </tr>\n",
              "    <tr>\n",
              "      <th>1</th>\n",
              "      <td>rajiv@yahoo.com</td>\n",
              "      <td>Python</td>\n",
              "    </tr>\n",
              "    <tr>\n",
              "      <th>2</th>\n",
              "      <td>somegoogler@gmail.com</td>\n",
              "      <td>R</td>\n",
              "    </tr>\n",
              "    <tr>\n",
              "      <th>3</th>\n",
              "      <td>menjoge@hotmail.com</td>\n",
              "      <td>C++</td>\n",
              "    </tr>\n",
              "    <tr>\n",
              "      <th>4</th>\n",
              "      <td>rajiv@alum.somecollege.org</td>\n",
              "      <td>R</td>\n",
              "    </tr>\n",
              "  </tbody>\n",
              "</table>\n",
              "</div>"
            ],
            "text/plain": [
              "                        Email PreferredLanguage\n",
              "0     rajiv.menjoge@gmail.com            python\n",
              "1             rajiv@yahoo.com            Python\n",
              "2       somegoogler@gmail.com                 R\n",
              "3         menjoge@hotmail.com               C++\n",
              "4  rajiv@alum.somecollege.org                 R"
            ]
          },
          "metadata": {
            "tags": []
          },
          "execution_count": 41
        }
      ]
    },
    {
      "cell_type": "markdown",
      "metadata": {
        "colab_type": "text",
        "id": "l3fHh8nbMtkw"
      },
      "source": [
        "### Converting pandas to ndarray"
      ]
    },
    {
      "cell_type": "code",
      "metadata": {
        "colab_type": "code",
        "executionInfo": {
          "elapsed": 417,
          "status": "ok",
          "timestamp": 1556634008808,
          "user": {
            "displayName": "Mansi Arora",
            "photoUrl": "https://lh3.googleusercontent.com/-XstDPPTRBMM/AAAAAAAAAAI/AAAAAAAAAfs/C5M_SeeeciA/s64/photo.jpg",
            "userId": "05191183514562402651"
          },
          "user_tz": 420
        },
        "id": "X2nGiS1NM1Yl",
        "outputId": "b08cf0e0-49e0-46de-8e3a-13833b228032",
        "colab": {
          "height": 318
        }
      },
      "source": [
        "print 'Full df'\n",
        "print df.values\n",
        "print 'One column'\n",
        "emails = df['Email'].values\n",
        "print emails\n",
        "multicolumn = df[['Email', 'PreferredLanguage']].values\n",
        "print 'Multicolumn'\n",
        "print multicolumn"
      ],
      "execution_count": 0,
      "outputs": [
        {
          "output_type": "stream",
          "text": [
            "Full df\n",
            "[['rajiv.menjoge@gmail.com' 'python']\n",
            " ['rajiv@yahoo.com' 'Python']\n",
            " ['somegoogler@gmail.com' 'R']\n",
            " ['menjoge@hotmail.com' 'C++']\n",
            " ['rajiv@alum.somecollege.org' 'R']\n",
            " ['menjoge@something.com' 'Python']]\n",
            "One column\n",
            "['rajiv.menjoge@gmail.com' 'rajiv@yahoo.com' 'somegoogler@gmail.com'\n",
            " 'menjoge@hotmail.com' 'rajiv@alum.somecollege.org' 'menjoge@something.com']\n",
            "Multicolumn\n",
            "[['rajiv.menjoge@gmail.com' 'python']\n",
            " ['rajiv@yahoo.com' 'Python']\n",
            " ['somegoogler@gmail.com' 'R']\n",
            " ['menjoge@hotmail.com' 'C++']\n",
            " ['rajiv@alum.somecollege.org' 'R']\n",
            " ['menjoge@something.com' 'Python']]\n"
          ],
          "name": "stdout"
        }
      ]
    },
    {
      "cell_type": "markdown",
      "metadata": {
        "colab_type": "text",
        "id": "Sv-QV5C8Nf5E"
      },
      "source": [
        "### Reshaping"
      ]
    },
    {
      "cell_type": "code",
      "metadata": {
        "colab_type": "code",
        "executionInfo": {
          "elapsed": 380,
          "status": "ok",
          "timestamp": 1556634009283,
          "user": {
            "displayName": "Mansi Arora",
            "photoUrl": "https://lh3.googleusercontent.com/-XstDPPTRBMM/AAAAAAAAAAI/AAAAAAAAAfs/C5M_SeeeciA/s64/photo.jpg",
            "userId": "05191183514562402651"
          },
          "user_tz": 420
        },
        "id": "VVGFZ3P3NlsR",
        "outputId": "a9a54b55-0faf-4e7f-d833-371747034ce6",
        "colab": {
          "height": 52
        }
      },
      "source": [
        "emails = df['Email'].values\n",
        "print emails.shape\n",
        "emails = np.reshape(emails, (6,1))\n",
        "print emails.shape"
      ],
      "execution_count": 0,
      "outputs": [
        {
          "output_type": "stream",
          "text": [
            "(6,)\n",
            "(6, 1)\n"
          ],
          "name": "stdout"
        }
      ]
    },
    {
      "cell_type": "markdown",
      "metadata": {
        "colab_type": "text",
        "id": "WlrCiwM1rga2"
      },
      "source": [
        "### Other ways of creating dataframes"
      ]
    },
    {
      "cell_type": "code",
      "metadata": {
        "colab_type": "code",
        "executionInfo": {
          "elapsed": 387,
          "status": "ok",
          "timestamp": 1556634009775,
          "user": {
            "displayName": "Mansi Arora",
            "photoUrl": "https://lh3.googleusercontent.com/-XstDPPTRBMM/AAAAAAAAAAI/AAAAAAAAAfs/C5M_SeeeciA/s64/photo.jpg",
            "userId": "05191183514562402651"
          },
          "user_tz": 420
        },
        "id": "bZafLjMeDCMv",
        "outputId": "28eeb442-76fa-4e8f-a73b-e7ba257cb366",
        "colab": {
          "height": 141
        }
      },
      "source": [
        "# Creating a Series by passing a list of values, letting pandas create a default integer index:\n",
        "\n",
        "s = pd.Series([1, 3, 5, np.nan, 6, 8])\n",
        "s"
      ],
      "execution_count": 0,
      "outputs": [
        {
          "output_type": "execute_result",
          "data": {
            "text/plain": [
              "0    1.0\n",
              "1    3.0\n",
              "2    5.0\n",
              "3    NaN\n",
              "4    6.0\n",
              "5    8.0\n",
              "dtype: float64"
            ]
          },
          "metadata": {
            "tags": []
          },
          "execution_count": 44
        }
      ]
    },
    {
      "cell_type": "code",
      "metadata": {
        "colab_type": "code",
        "executionInfo": {
          "elapsed": 379,
          "status": "ok",
          "timestamp": 1556634010289,
          "user": {
            "displayName": "Mansi Arora",
            "photoUrl": "https://lh3.googleusercontent.com/-XstDPPTRBMM/AAAAAAAAAAI/AAAAAAAAAfs/C5M_SeeeciA/s64/photo.jpg",
            "userId": "05191183514562402651"
          },
          "user_tz": 420
        },
        "id": "eVpPUFk7sIoo",
        "outputId": "036862da-edab-4025-c63b-d328e844e266",
        "colab": {
          "height": 227
        }
      },
      "source": [
        "# Creating a DataFrame by passing a NumPy array, with a datetime index and labeled columns:\n",
        "\n",
        "dates = pd.date_range('20130101', periods=6)\n",
        "df = pd.DataFrame(np.random.randn(6, 4), index=dates, columns=list('ABCD'))\n",
        "df"
      ],
      "execution_count": 0,
      "outputs": [
        {
          "output_type": "execute_result",
          "data": {
            "text/html": [
              "<div>\n",
              "<style scoped>\n",
              "    .dataframe tbody tr th:only-of-type {\n",
              "        vertical-align: middle;\n",
              "    }\n",
              "\n",
              "    .dataframe tbody tr th {\n",
              "        vertical-align: top;\n",
              "    }\n",
              "\n",
              "    .dataframe thead th {\n",
              "        text-align: right;\n",
              "    }\n",
              "</style>\n",
              "<table border=\"1\" class=\"dataframe\">\n",
              "  <thead>\n",
              "    <tr style=\"text-align: right;\">\n",
              "      <th></th>\n",
              "      <th>A</th>\n",
              "      <th>B</th>\n",
              "      <th>C</th>\n",
              "      <th>D</th>\n",
              "    </tr>\n",
              "  </thead>\n",
              "  <tbody>\n",
              "    <tr>\n",
              "      <th>2013-01-01</th>\n",
              "      <td>0.557141</td>\n",
              "      <td>-0.321189</td>\n",
              "      <td>-0.582426</td>\n",
              "      <td>0.675692</td>\n",
              "    </tr>\n",
              "    <tr>\n",
              "      <th>2013-01-02</th>\n",
              "      <td>-0.653942</td>\n",
              "      <td>0.545239</td>\n",
              "      <td>-1.204528</td>\n",
              "      <td>-0.582420</td>\n",
              "    </tr>\n",
              "    <tr>\n",
              "      <th>2013-01-03</th>\n",
              "      <td>-0.860447</td>\n",
              "      <td>1.121019</td>\n",
              "      <td>0.920419</td>\n",
              "      <td>1.304150</td>\n",
              "    </tr>\n",
              "    <tr>\n",
              "      <th>2013-01-04</th>\n",
              "      <td>1.131651</td>\n",
              "      <td>0.098611</td>\n",
              "      <td>0.453361</td>\n",
              "      <td>0.602169</td>\n",
              "    </tr>\n",
              "    <tr>\n",
              "      <th>2013-01-05</th>\n",
              "      <td>-0.098668</td>\n",
              "      <td>0.816264</td>\n",
              "      <td>0.140257</td>\n",
              "      <td>-0.400172</td>\n",
              "    </tr>\n",
              "    <tr>\n",
              "      <th>2013-01-06</th>\n",
              "      <td>-0.458456</td>\n",
              "      <td>-1.356843</td>\n",
              "      <td>0.665047</td>\n",
              "      <td>1.386279</td>\n",
              "    </tr>\n",
              "  </tbody>\n",
              "</table>\n",
              "</div>"
            ],
            "text/plain": [
              "                   A         B         C         D\n",
              "2013-01-01  0.557141 -0.321189 -0.582426  0.675692\n",
              "2013-01-02 -0.653942  0.545239 -1.204528 -0.582420\n",
              "2013-01-03 -0.860447  1.121019  0.920419  1.304150\n",
              "2013-01-04  1.131651  0.098611  0.453361  0.602169\n",
              "2013-01-05 -0.098668  0.816264  0.140257 -0.400172\n",
              "2013-01-06 -0.458456 -1.356843  0.665047  1.386279"
            ]
          },
          "metadata": {
            "tags": []
          },
          "execution_count": 45
        }
      ]
    },
    {
      "cell_type": "code",
      "metadata": {
        "colab_type": "code",
        "executionInfo": {
          "elapsed": 389,
          "status": "ok",
          "timestamp": 1556634010787,
          "user": {
            "displayName": "Mansi Arora",
            "photoUrl": "https://lh3.googleusercontent.com/-XstDPPTRBMM/AAAAAAAAAAI/AAAAAAAAAfs/C5M_SeeeciA/s64/photo.jpg",
            "userId": "05191183514562402651"
          },
          "user_tz": 420
        },
        "id": "w0Soc0olsNry",
        "outputId": "b1781a2c-6257-44f3-83c9-d0c207fe24fc",
        "colab": {
          "height": 167
        }
      },
      "source": [
        "# Creating a DataFrame by passing a dict of objects that can be converted to series-like.\n",
        "\n",
        "df2 = pd.DataFrame({'A': 1.,\n",
        "                    'B': pd.Timestamp('20130102'),\n",
        "                    'C': pd.Series(1, index=list(range(4)), dtype='float32'),\n",
        "                    'D': np.array([3] * 4, dtype='int32'),\n",
        "                    'E': pd.Categorical([\"test\", \"train\", \"test\", \"train\"]),\n",
        "                    'F': 'foo'})\n",
        "df2"
      ],
      "execution_count": 0,
      "outputs": [
        {
          "output_type": "execute_result",
          "data": {
            "text/html": [
              "<div>\n",
              "<style scoped>\n",
              "    .dataframe tbody tr th:only-of-type {\n",
              "        vertical-align: middle;\n",
              "    }\n",
              "\n",
              "    .dataframe tbody tr th {\n",
              "        vertical-align: top;\n",
              "    }\n",
              "\n",
              "    .dataframe thead th {\n",
              "        text-align: right;\n",
              "    }\n",
              "</style>\n",
              "<table border=\"1\" class=\"dataframe\">\n",
              "  <thead>\n",
              "    <tr style=\"text-align: right;\">\n",
              "      <th></th>\n",
              "      <th>A</th>\n",
              "      <th>B</th>\n",
              "      <th>C</th>\n",
              "      <th>D</th>\n",
              "      <th>E</th>\n",
              "      <th>F</th>\n",
              "    </tr>\n",
              "  </thead>\n",
              "  <tbody>\n",
              "    <tr>\n",
              "      <th>0</th>\n",
              "      <td>1.0</td>\n",
              "      <td>2013-01-02</td>\n",
              "      <td>1.0</td>\n",
              "      <td>3</td>\n",
              "      <td>test</td>\n",
              "      <td>foo</td>\n",
              "    </tr>\n",
              "    <tr>\n",
              "      <th>1</th>\n",
              "      <td>1.0</td>\n",
              "      <td>2013-01-02</td>\n",
              "      <td>1.0</td>\n",
              "      <td>3</td>\n",
              "      <td>train</td>\n",
              "      <td>foo</td>\n",
              "    </tr>\n",
              "    <tr>\n",
              "      <th>2</th>\n",
              "      <td>1.0</td>\n",
              "      <td>2013-01-02</td>\n",
              "      <td>1.0</td>\n",
              "      <td>3</td>\n",
              "      <td>test</td>\n",
              "      <td>foo</td>\n",
              "    </tr>\n",
              "    <tr>\n",
              "      <th>3</th>\n",
              "      <td>1.0</td>\n",
              "      <td>2013-01-02</td>\n",
              "      <td>1.0</td>\n",
              "      <td>3</td>\n",
              "      <td>train</td>\n",
              "      <td>foo</td>\n",
              "    </tr>\n",
              "  </tbody>\n",
              "</table>\n",
              "</div>"
            ],
            "text/plain": [
              "     A          B    C  D      E    F\n",
              "0  1.0 2013-01-02  1.0  3   test  foo\n",
              "1  1.0 2013-01-02  1.0  3  train  foo\n",
              "2  1.0 2013-01-02  1.0  3   test  foo\n",
              "3  1.0 2013-01-02  1.0  3  train  foo"
            ]
          },
          "metadata": {
            "tags": []
          },
          "execution_count": 46
        }
      ]
    },
    {
      "cell_type": "code",
      "metadata": {
        "colab_type": "code",
        "executionInfo": {
          "elapsed": 476,
          "status": "ok",
          "timestamp": 1556634011371,
          "user": {
            "displayName": "Mansi Arora",
            "photoUrl": "https://lh3.googleusercontent.com/-XstDPPTRBMM/AAAAAAAAAAI/AAAAAAAAAfs/C5M_SeeeciA/s64/photo.jpg",
            "userId": "05191183514562402651"
          },
          "user_tz": 420
        },
        "id": "yB6cx7B8shTB",
        "outputId": "5e41a857-6838-4b9e-c1d6-eef225c2f8dc",
        "colab": {
          "height": 141
        }
      },
      "source": [
        "# The columns of the resulting DataFrame have different dtypes.\n",
        " df2.dtypes"
      ],
      "execution_count": 0,
      "outputs": [
        {
          "output_type": "execute_result",
          "data": {
            "text/plain": [
              "A           float64\n",
              "B    datetime64[ns]\n",
              "C           float32\n",
              "D             int32\n",
              "E          category\n",
              "F            object\n",
              "dtype: object"
            ]
          },
          "metadata": {
            "tags": []
          },
          "execution_count": 47
        }
      ]
    },
    {
      "cell_type": "code",
      "metadata": {
        "colab_type": "code",
        "id": "ZmDwiT27u3WI",
        "colab": {}
      },
      "source": [
        "# Creating a DataFrame by loading a csv/json"
      ],
      "execution_count": 0,
      "outputs": []
    },
    {
      "cell_type": "code",
      "metadata": {
        "colab_type": "code",
        "id": "pa14r6BXu6NY",
        "colab": {}
      },
      "source": [
        "# Writing a csv/json"
      ],
      "execution_count": 0,
      "outputs": []
    },
    {
      "cell_type": "markdown",
      "metadata": {
        "colab_type": "text",
        "id": "yJVTBZq8snJO"
      },
      "source": [
        "### Viewing data"
      ]
    },
    {
      "cell_type": "code",
      "metadata": {
        "colab_type": "code",
        "executionInfo": {
          "elapsed": 438,
          "status": "ok",
          "timestamp": 1556634012835,
          "user": {
            "displayName": "Mansi Arora",
            "photoUrl": "https://lh3.googleusercontent.com/-XstDPPTRBMM/AAAAAAAAAAI/AAAAAAAAAfs/C5M_SeeeciA/s64/photo.jpg",
            "userId": "05191183514562402651"
          },
          "user_tz": 420
        },
        "id": "yb_o7o6hso_U",
        "outputId": "a255bdeb-8193-4b81-b79d-f833fea8bc96",
        "colab": {
          "height": 167
        }
      },
      "source": [
        "df.head(4) # default is 5"
      ],
      "execution_count": 0,
      "outputs": [
        {
          "output_type": "execute_result",
          "data": {
            "text/html": [
              "<div>\n",
              "<style scoped>\n",
              "    .dataframe tbody tr th:only-of-type {\n",
              "        vertical-align: middle;\n",
              "    }\n",
              "\n",
              "    .dataframe tbody tr th {\n",
              "        vertical-align: top;\n",
              "    }\n",
              "\n",
              "    .dataframe thead th {\n",
              "        text-align: right;\n",
              "    }\n",
              "</style>\n",
              "<table border=\"1\" class=\"dataframe\">\n",
              "  <thead>\n",
              "    <tr style=\"text-align: right;\">\n",
              "      <th></th>\n",
              "      <th>A</th>\n",
              "      <th>B</th>\n",
              "      <th>C</th>\n",
              "      <th>D</th>\n",
              "    </tr>\n",
              "  </thead>\n",
              "  <tbody>\n",
              "    <tr>\n",
              "      <th>2013-01-01</th>\n",
              "      <td>0.557141</td>\n",
              "      <td>-0.321189</td>\n",
              "      <td>-0.582426</td>\n",
              "      <td>0.675692</td>\n",
              "    </tr>\n",
              "    <tr>\n",
              "      <th>2013-01-02</th>\n",
              "      <td>-0.653942</td>\n",
              "      <td>0.545239</td>\n",
              "      <td>-1.204528</td>\n",
              "      <td>-0.582420</td>\n",
              "    </tr>\n",
              "    <tr>\n",
              "      <th>2013-01-03</th>\n",
              "      <td>-0.860447</td>\n",
              "      <td>1.121019</td>\n",
              "      <td>0.920419</td>\n",
              "      <td>1.304150</td>\n",
              "    </tr>\n",
              "    <tr>\n",
              "      <th>2013-01-04</th>\n",
              "      <td>1.131651</td>\n",
              "      <td>0.098611</td>\n",
              "      <td>0.453361</td>\n",
              "      <td>0.602169</td>\n",
              "    </tr>\n",
              "  </tbody>\n",
              "</table>\n",
              "</div>"
            ],
            "text/plain": [
              "                   A         B         C         D\n",
              "2013-01-01  0.557141 -0.321189 -0.582426  0.675692\n",
              "2013-01-02 -0.653942  0.545239 -1.204528 -0.582420\n",
              "2013-01-03 -0.860447  1.121019  0.920419  1.304150\n",
              "2013-01-04  1.131651  0.098611  0.453361  0.602169"
            ]
          },
          "metadata": {
            "tags": []
          },
          "execution_count": 50
        }
      ]
    },
    {
      "cell_type": "code",
      "metadata": {
        "colab_type": "code",
        "executionInfo": {
          "elapsed": 429,
          "status": "ok",
          "timestamp": 1556634013345,
          "user": {
            "displayName": "Mansi Arora",
            "photoUrl": "https://lh3.googleusercontent.com/-XstDPPTRBMM/AAAAAAAAAAI/AAAAAAAAAfs/C5M_SeeeciA/s64/photo.jpg",
            "userId": "05191183514562402651"
          },
          "user_tz": 420
        },
        "id": "MHZTwClTsqpU",
        "outputId": "e249d950-52cb-4468-fde8-8d7ddb1c0404",
        "colab": {
          "height": 137
        }
      },
      "source": [
        "df.tail(3)"
      ],
      "execution_count": 0,
      "outputs": [
        {
          "output_type": "execute_result",
          "data": {
            "text/html": [
              "<div>\n",
              "<style scoped>\n",
              "    .dataframe tbody tr th:only-of-type {\n",
              "        vertical-align: middle;\n",
              "    }\n",
              "\n",
              "    .dataframe tbody tr th {\n",
              "        vertical-align: top;\n",
              "    }\n",
              "\n",
              "    .dataframe thead th {\n",
              "        text-align: right;\n",
              "    }\n",
              "</style>\n",
              "<table border=\"1\" class=\"dataframe\">\n",
              "  <thead>\n",
              "    <tr style=\"text-align: right;\">\n",
              "      <th></th>\n",
              "      <th>A</th>\n",
              "      <th>B</th>\n",
              "      <th>C</th>\n",
              "      <th>D</th>\n",
              "    </tr>\n",
              "  </thead>\n",
              "  <tbody>\n",
              "    <tr>\n",
              "      <th>2013-01-04</th>\n",
              "      <td>1.131651</td>\n",
              "      <td>0.098611</td>\n",
              "      <td>0.453361</td>\n",
              "      <td>0.602169</td>\n",
              "    </tr>\n",
              "    <tr>\n",
              "      <th>2013-01-05</th>\n",
              "      <td>-0.098668</td>\n",
              "      <td>0.816264</td>\n",
              "      <td>0.140257</td>\n",
              "      <td>-0.400172</td>\n",
              "    </tr>\n",
              "    <tr>\n",
              "      <th>2013-01-06</th>\n",
              "      <td>-0.458456</td>\n",
              "      <td>-1.356843</td>\n",
              "      <td>0.665047</td>\n",
              "      <td>1.386279</td>\n",
              "    </tr>\n",
              "  </tbody>\n",
              "</table>\n",
              "</div>"
            ],
            "text/plain": [
              "                   A         B         C         D\n",
              "2013-01-04  1.131651  0.098611  0.453361  0.602169\n",
              "2013-01-05 -0.098668  0.816264  0.140257 -0.400172\n",
              "2013-01-06 -0.458456 -1.356843  0.665047  1.386279"
            ]
          },
          "metadata": {
            "tags": []
          },
          "execution_count": 51
        }
      ]
    },
    {
      "cell_type": "code",
      "metadata": {
        "colab_type": "code",
        "executionInfo": {
          "elapsed": 412,
          "status": "ok",
          "timestamp": 1556634013864,
          "user": {
            "displayName": "Mansi Arora",
            "photoUrl": "https://lh3.googleusercontent.com/-XstDPPTRBMM/AAAAAAAAAAI/AAAAAAAAAfs/C5M_SeeeciA/s64/photo.jpg",
            "userId": "05191183514562402651"
          },
          "user_tz": 420
        },
        "id": "Qxtxcf5eszFX",
        "outputId": "75b4d61f-21b1-4639-eb25-e3671bdca960",
        "colab": {
          "height": 194
        }
      },
      "source": [
        "df.info()"
      ],
      "execution_count": 0,
      "outputs": [
        {
          "output_type": "stream",
          "text": [
            "<class 'pandas.core.frame.DataFrame'>\n",
            "DatetimeIndex: 6 entries, 2013-01-01 to 2013-01-06\n",
            "Freq: D\n",
            "Data columns (total 4 columns):\n",
            "A    6 non-null float64\n",
            "B    6 non-null float64\n",
            "C    6 non-null float64\n",
            "D    6 non-null float64\n",
            "dtypes: float64(4)\n",
            "memory usage: 240.0 bytes\n"
          ],
          "name": "stdout"
        }
      ]
    },
    {
      "cell_type": "code",
      "metadata": {
        "colab_type": "code",
        "executionInfo": {
          "elapsed": 481,
          "status": "ok",
          "timestamp": 1556634014501,
          "user": {
            "displayName": "Mansi Arora",
            "photoUrl": "https://lh3.googleusercontent.com/-XstDPPTRBMM/AAAAAAAAAAI/AAAAAAAAAfs/C5M_SeeeciA/s64/photo.jpg",
            "userId": "05191183514562402651"
          },
          "user_tz": 420
        },
        "id": "82y3dgfQs0M7",
        "outputId": "8eaa39e9-d176-4c0e-a1ba-39085152fc63",
        "colab": {
          "height": 287
        }
      },
      "source": [
        "df.describe()"
      ],
      "execution_count": 0,
      "outputs": [
        {
          "output_type": "execute_result",
          "data": {
            "text/html": [
              "<div>\n",
              "<style scoped>\n",
              "    .dataframe tbody tr th:only-of-type {\n",
              "        vertical-align: middle;\n",
              "    }\n",
              "\n",
              "    .dataframe tbody tr th {\n",
              "        vertical-align: top;\n",
              "    }\n",
              "\n",
              "    .dataframe thead th {\n",
              "        text-align: right;\n",
              "    }\n",
              "</style>\n",
              "<table border=\"1\" class=\"dataframe\">\n",
              "  <thead>\n",
              "    <tr style=\"text-align: right;\">\n",
              "      <th></th>\n",
              "      <th>A</th>\n",
              "      <th>B</th>\n",
              "      <th>C</th>\n",
              "      <th>D</th>\n",
              "    </tr>\n",
              "  </thead>\n",
              "  <tbody>\n",
              "    <tr>\n",
              "      <th>count</th>\n",
              "      <td>6.000000</td>\n",
              "      <td>6.000000</td>\n",
              "      <td>6.000000</td>\n",
              "      <td>6.000000</td>\n",
              "    </tr>\n",
              "    <tr>\n",
              "      <th>mean</th>\n",
              "      <td>-0.063787</td>\n",
              "      <td>0.150517</td>\n",
              "      <td>0.065355</td>\n",
              "      <td>0.497616</td>\n",
              "    </tr>\n",
              "    <tr>\n",
              "      <th>std</th>\n",
              "      <td>0.768707</td>\n",
              "      <td>0.898692</td>\n",
              "      <td>0.809833</td>\n",
              "      <td>0.831308</td>\n",
              "    </tr>\n",
              "    <tr>\n",
              "      <th>min</th>\n",
              "      <td>-0.860447</td>\n",
              "      <td>-1.356843</td>\n",
              "      <td>-1.204528</td>\n",
              "      <td>-0.582420</td>\n",
              "    </tr>\n",
              "    <tr>\n",
              "      <th>25%</th>\n",
              "      <td>-0.605071</td>\n",
              "      <td>-0.216239</td>\n",
              "      <td>-0.401755</td>\n",
              "      <td>-0.149587</td>\n",
              "    </tr>\n",
              "    <tr>\n",
              "      <th>50%</th>\n",
              "      <td>-0.278562</td>\n",
              "      <td>0.321925</td>\n",
              "      <td>0.296809</td>\n",
              "      <td>0.638930</td>\n",
              "    </tr>\n",
              "    <tr>\n",
              "      <th>75%</th>\n",
              "      <td>0.393189</td>\n",
              "      <td>0.748507</td>\n",
              "      <td>0.612125</td>\n",
              "      <td>1.147036</td>\n",
              "    </tr>\n",
              "    <tr>\n",
              "      <th>max</th>\n",
              "      <td>1.131651</td>\n",
              "      <td>1.121019</td>\n",
              "      <td>0.920419</td>\n",
              "      <td>1.386279</td>\n",
              "    </tr>\n",
              "  </tbody>\n",
              "</table>\n",
              "</div>"
            ],
            "text/plain": [
              "              A         B         C         D\n",
              "count  6.000000  6.000000  6.000000  6.000000\n",
              "mean  -0.063787  0.150517  0.065355  0.497616\n",
              "std    0.768707  0.898692  0.809833  0.831308\n",
              "min   -0.860447 -1.356843 -1.204528 -0.582420\n",
              "25%   -0.605071 -0.216239 -0.401755 -0.149587\n",
              "50%   -0.278562  0.321925  0.296809  0.638930\n",
              "75%    0.393189  0.748507  0.612125  1.147036\n",
              "max    1.131651  1.121019  0.920419  1.386279"
            ]
          },
          "metadata": {
            "tags": []
          },
          "execution_count": 53
        }
      ]
    },
    {
      "cell_type": "code",
      "metadata": {
        "colab_type": "code",
        "executionInfo": {
          "elapsed": 376,
          "status": "ok",
          "timestamp": 1556634014983,
          "user": {
            "displayName": "Mansi Arora",
            "photoUrl": "https://lh3.googleusercontent.com/-XstDPPTRBMM/AAAAAAAAAAI/AAAAAAAAAfs/C5M_SeeeciA/s64/photo.jpg",
            "userId": "05191183514562402651"
          },
          "user_tz": 420
        },
        "id": "ePyJyPLNuy3Q",
        "outputId": "3688a289-59a1-4e11-9897-b56640a60eb2",
        "colab": {
          "height": 34
        }
      },
      "source": [
        "df.shape"
      ],
      "execution_count": 0,
      "outputs": [
        {
          "output_type": "execute_result",
          "data": {
            "text/plain": [
              "(6, 4)"
            ]
          },
          "metadata": {
            "tags": []
          },
          "execution_count": 54
        }
      ]
    },
    {
      "cell_type": "code",
      "metadata": {
        "colab_type": "code",
        "executionInfo": {
          "elapsed": 366,
          "status": "ok",
          "timestamp": 1556634015490,
          "user": {
            "displayName": "Mansi Arora",
            "photoUrl": "https://lh3.googleusercontent.com/-XstDPPTRBMM/AAAAAAAAAAI/AAAAAAAAAfs/C5M_SeeeciA/s64/photo.jpg",
            "userId": "05191183514562402651"
          },
          "user_tz": 420
        },
        "id": "LcSVRq5ts1OU",
        "outputId": "b02b53a6-b9ff-46e1-97d9-32781759e58a",
        "colab": {
          "height": 34
        }
      },
      "source": [
        "df.columns.values"
      ],
      "execution_count": 0,
      "outputs": [
        {
          "output_type": "execute_result",
          "data": {
            "text/plain": [
              "array(['A', 'B', 'C', 'D'], dtype=object)"
            ]
          },
          "metadata": {
            "tags": []
          },
          "execution_count": 55
        }
      ]
    },
    {
      "cell_type": "markdown",
      "metadata": {
        "colab_type": "text",
        "id": "_7bp3E4Ys-nf"
      },
      "source": [
        "### Slicing"
      ]
    },
    {
      "cell_type": "code",
      "metadata": {
        "colab_type": "code",
        "executionInfo": {
          "elapsed": 366,
          "status": "ok",
          "timestamp": 1556634015975,
          "user": {
            "displayName": "Mansi Arora",
            "photoUrl": "https://lh3.googleusercontent.com/-XstDPPTRBMM/AAAAAAAAAAI/AAAAAAAAAfs/C5M_SeeeciA/s64/photo.jpg",
            "userId": "05191183514562402651"
          },
          "user_tz": 420
        },
        "id": "exsdOZ-RtUAM",
        "outputId": "d327ccba-cf04-4428-e9e6-ad82b8afa672",
        "colab": {
          "height": 141
        }
      },
      "source": [
        "# Selecting a single column, which yields a Series, equivalent to df.A:\n",
        "df['A']"
      ],
      "execution_count": 0,
      "outputs": [
        {
          "output_type": "execute_result",
          "data": {
            "text/plain": [
              "2013-01-01    0.557141\n",
              "2013-01-02   -0.653942\n",
              "2013-01-03   -0.860447\n",
              "2013-01-04    1.131651\n",
              "2013-01-05   -0.098668\n",
              "2013-01-06   -0.458456\n",
              "Freq: D, Name: A, dtype: float64"
            ]
          },
          "metadata": {
            "tags": []
          },
          "execution_count": 56
        }
      ]
    },
    {
      "cell_type": "code",
      "metadata": {
        "colab_type": "code",
        "executionInfo": {
          "elapsed": 471,
          "status": "ok",
          "timestamp": 1556634016563,
          "user": {
            "displayName": "Mansi Arora",
            "photoUrl": "https://lh3.googleusercontent.com/-XstDPPTRBMM/AAAAAAAAAAI/AAAAAAAAAfs/C5M_SeeeciA/s64/photo.jpg",
            "userId": "05191183514562402651"
          },
          "user_tz": 420
        },
        "id": "PQvd0GqftXW7",
        "outputId": "520cc276-e4d3-4f7f-b30b-3917478109e9",
        "colab": {
          "height": 137
        }
      },
      "source": [
        "# Selecting via [], which slices the rows.\n",
        "df[0:3]"
      ],
      "execution_count": 0,
      "outputs": [
        {
          "output_type": "execute_result",
          "data": {
            "text/html": [
              "<div>\n",
              "<style scoped>\n",
              "    .dataframe tbody tr th:only-of-type {\n",
              "        vertical-align: middle;\n",
              "    }\n",
              "\n",
              "    .dataframe tbody tr th {\n",
              "        vertical-align: top;\n",
              "    }\n",
              "\n",
              "    .dataframe thead th {\n",
              "        text-align: right;\n",
              "    }\n",
              "</style>\n",
              "<table border=\"1\" class=\"dataframe\">\n",
              "  <thead>\n",
              "    <tr style=\"text-align: right;\">\n",
              "      <th></th>\n",
              "      <th>A</th>\n",
              "      <th>B</th>\n",
              "      <th>C</th>\n",
              "      <th>D</th>\n",
              "    </tr>\n",
              "  </thead>\n",
              "  <tbody>\n",
              "    <tr>\n",
              "      <th>2013-01-01</th>\n",
              "      <td>0.557141</td>\n",
              "      <td>-0.321189</td>\n",
              "      <td>-0.582426</td>\n",
              "      <td>0.675692</td>\n",
              "    </tr>\n",
              "    <tr>\n",
              "      <th>2013-01-02</th>\n",
              "      <td>-0.653942</td>\n",
              "      <td>0.545239</td>\n",
              "      <td>-1.204528</td>\n",
              "      <td>-0.582420</td>\n",
              "    </tr>\n",
              "    <tr>\n",
              "      <th>2013-01-03</th>\n",
              "      <td>-0.860447</td>\n",
              "      <td>1.121019</td>\n",
              "      <td>0.920419</td>\n",
              "      <td>1.304150</td>\n",
              "    </tr>\n",
              "  </tbody>\n",
              "</table>\n",
              "</div>"
            ],
            "text/plain": [
              "                   A         B         C         D\n",
              "2013-01-01  0.557141 -0.321189 -0.582426  0.675692\n",
              "2013-01-02 -0.653942  0.545239 -1.204528 -0.582420\n",
              "2013-01-03 -0.860447  1.121019  0.920419  1.304150"
            ]
          },
          "metadata": {
            "tags": []
          },
          "execution_count": 57
        }
      ]
    },
    {
      "cell_type": "code",
      "metadata": {
        "colab_type": "code",
        "executionInfo": {
          "elapsed": 344,
          "status": "ok",
          "timestamp": 1556634017020,
          "user": {
            "displayName": "Mansi Arora",
            "photoUrl": "https://lh3.googleusercontent.com/-XstDPPTRBMM/AAAAAAAAAAI/AAAAAAAAAfs/C5M_SeeeciA/s64/photo.jpg",
            "userId": "05191183514562402651"
          },
          "user_tz": 420
        },
        "id": "Oqb-vG3dpyWW",
        "outputId": "d96decc6-7b5b-4f24-d893-48506a907a7e",
        "colab": {
          "height": 105
        }
      },
      "source": [
        "# For getting a cross section using a label:\n",
        "df.loc['2013-01-01']"
      ],
      "execution_count": 0,
      "outputs": [
        {
          "output_type": "execute_result",
          "data": {
            "text/plain": [
              "A    0.557141\n",
              "B   -0.321189\n",
              "C   -0.582426\n",
              "D    0.675692\n",
              "Name: 2013-01-01 00:00:00, dtype: float64"
            ]
          },
          "metadata": {
            "tags": []
          },
          "execution_count": 58
        }
      ]
    },
    {
      "cell_type": "code",
      "metadata": {
        "colab_type": "code",
        "executionInfo": {
          "elapsed": 369,
          "status": "ok",
          "timestamp": 1556634017475,
          "user": {
            "displayName": "Mansi Arora",
            "photoUrl": "https://lh3.googleusercontent.com/-XstDPPTRBMM/AAAAAAAAAAI/AAAAAAAAAfs/C5M_SeeeciA/s64/photo.jpg",
            "userId": "05191183514562402651"
          },
          "user_tz": 420
        },
        "id": "crEuZfNytch2",
        "outputId": "f255812a-9bf2-48f3-8145-622c9ff6e292",
        "colab": {
          "height": 227
        }
      },
      "source": [
        "# Selecting on a multi-axis by label:\n",
        "df.loc[:, ['A', 'B']]"
      ],
      "execution_count": 0,
      "outputs": [
        {
          "output_type": "execute_result",
          "data": {
            "text/html": [
              "<div>\n",
              "<style scoped>\n",
              "    .dataframe tbody tr th:only-of-type {\n",
              "        vertical-align: middle;\n",
              "    }\n",
              "\n",
              "    .dataframe tbody tr th {\n",
              "        vertical-align: top;\n",
              "    }\n",
              "\n",
              "    .dataframe thead th {\n",
              "        text-align: right;\n",
              "    }\n",
              "</style>\n",
              "<table border=\"1\" class=\"dataframe\">\n",
              "  <thead>\n",
              "    <tr style=\"text-align: right;\">\n",
              "      <th></th>\n",
              "      <th>A</th>\n",
              "      <th>B</th>\n",
              "    </tr>\n",
              "  </thead>\n",
              "  <tbody>\n",
              "    <tr>\n",
              "      <th>2013-01-01</th>\n",
              "      <td>0.557141</td>\n",
              "      <td>-0.321189</td>\n",
              "    </tr>\n",
              "    <tr>\n",
              "      <th>2013-01-02</th>\n",
              "      <td>-0.653942</td>\n",
              "      <td>0.545239</td>\n",
              "    </tr>\n",
              "    <tr>\n",
              "      <th>2013-01-03</th>\n",
              "      <td>-0.860447</td>\n",
              "      <td>1.121019</td>\n",
              "    </tr>\n",
              "    <tr>\n",
              "      <th>2013-01-04</th>\n",
              "      <td>1.131651</td>\n",
              "      <td>0.098611</td>\n",
              "    </tr>\n",
              "    <tr>\n",
              "      <th>2013-01-05</th>\n",
              "      <td>-0.098668</td>\n",
              "      <td>0.816264</td>\n",
              "    </tr>\n",
              "    <tr>\n",
              "      <th>2013-01-06</th>\n",
              "      <td>-0.458456</td>\n",
              "      <td>-1.356843</td>\n",
              "    </tr>\n",
              "  </tbody>\n",
              "</table>\n",
              "</div>"
            ],
            "text/plain": [
              "                   A         B\n",
              "2013-01-01  0.557141 -0.321189\n",
              "2013-01-02 -0.653942  0.545239\n",
              "2013-01-03 -0.860447  1.121019\n",
              "2013-01-04  1.131651  0.098611\n",
              "2013-01-05 -0.098668  0.816264\n",
              "2013-01-06 -0.458456 -1.356843"
            ]
          },
          "metadata": {
            "tags": []
          },
          "execution_count": 59
        }
      ]
    },
    {
      "cell_type": "code",
      "metadata": {
        "colab_type": "code",
        "executionInfo": {
          "elapsed": 457,
          "status": "ok",
          "timestamp": 1556634018053,
          "user": {
            "displayName": "Mansi Arora",
            "photoUrl": "https://lh3.googleusercontent.com/-XstDPPTRBMM/AAAAAAAAAAI/AAAAAAAAAfs/C5M_SeeeciA/s64/photo.jpg",
            "userId": "05191183514562402651"
          },
          "user_tz": 420
        },
        "id": "jlSMExSvtM-Q",
        "outputId": "6dae2b2b-eb60-42de-83fb-09d889db0647",
        "colab": {
          "height": 105
        }
      },
      "source": [
        "# Select via the position of the passed integers:\n",
        "df.iloc[0]"
      ],
      "execution_count": 0,
      "outputs": [
        {
          "output_type": "execute_result",
          "data": {
            "text/plain": [
              "A    0.557141\n",
              "B   -0.321189\n",
              "C   -0.582426\n",
              "D    0.675692\n",
              "Name: 2013-01-01 00:00:00, dtype: float64"
            ]
          },
          "metadata": {
            "tags": []
          },
          "execution_count": 60
        }
      ]
    },
    {
      "cell_type": "code",
      "metadata": {
        "colab_type": "code",
        "executionInfo": {
          "elapsed": 361,
          "status": "ok",
          "timestamp": 1556634018483,
          "user": {
            "displayName": "Mansi Arora",
            "photoUrl": "https://lh3.googleusercontent.com/-XstDPPTRBMM/AAAAAAAAAAI/AAAAAAAAAfs/C5M_SeeeciA/s64/photo.jpg",
            "userId": "05191183514562402651"
          },
          "user_tz": 420
        },
        "id": "usb9106gtt7B",
        "outputId": "258a66c8-ccf2-424c-a8b7-82c423782792",
        "colab": {
          "height": 137
        }
      },
      "source": [
        "# By lists of integer position locations, similar to the numpy/python style:\n",
        "df.iloc[[1, 2, 4], [0, 2]]"
      ],
      "execution_count": 0,
      "outputs": [
        {
          "output_type": "execute_result",
          "data": {
            "text/html": [
              "<div>\n",
              "<style scoped>\n",
              "    .dataframe tbody tr th:only-of-type {\n",
              "        vertical-align: middle;\n",
              "    }\n",
              "\n",
              "    .dataframe tbody tr th {\n",
              "        vertical-align: top;\n",
              "    }\n",
              "\n",
              "    .dataframe thead th {\n",
              "        text-align: right;\n",
              "    }\n",
              "</style>\n",
              "<table border=\"1\" class=\"dataframe\">\n",
              "  <thead>\n",
              "    <tr style=\"text-align: right;\">\n",
              "      <th></th>\n",
              "      <th>A</th>\n",
              "      <th>C</th>\n",
              "    </tr>\n",
              "  </thead>\n",
              "  <tbody>\n",
              "    <tr>\n",
              "      <th>2013-01-02</th>\n",
              "      <td>-0.653942</td>\n",
              "      <td>-1.204528</td>\n",
              "    </tr>\n",
              "    <tr>\n",
              "      <th>2013-01-03</th>\n",
              "      <td>-0.860447</td>\n",
              "      <td>0.920419</td>\n",
              "    </tr>\n",
              "    <tr>\n",
              "      <th>2013-01-05</th>\n",
              "      <td>-0.098668</td>\n",
              "      <td>0.140257</td>\n",
              "    </tr>\n",
              "  </tbody>\n",
              "</table>\n",
              "</div>"
            ],
            "text/plain": [
              "                   A         C\n",
              "2013-01-02 -0.653942 -1.204528\n",
              "2013-01-03 -0.860447  0.920419\n",
              "2013-01-05 -0.098668  0.140257"
            ]
          },
          "metadata": {
            "tags": []
          },
          "execution_count": 61
        }
      ]
    },
    {
      "cell_type": "code",
      "metadata": {
        "colab_type": "code",
        "executionInfo": {
          "elapsed": 776,
          "status": "ok",
          "timestamp": 1556634019367,
          "user": {
            "displayName": "Mansi Arora",
            "photoUrl": "https://lh3.googleusercontent.com/-XstDPPTRBMM/AAAAAAAAAAI/AAAAAAAAAfs/C5M_SeeeciA/s64/photo.jpg",
            "userId": "05191183514562402651"
          },
          "user_tz": 420
        },
        "id": "tcLsLFzltvcz",
        "outputId": "4595e5cb-e237-44dd-acd3-34b60872887f",
        "colab": {
          "height": 227
        }
      },
      "source": [
        "# For slicing columns explicitly:\n",
        "df.iloc[:, 1:3]\n"
      ],
      "execution_count": 0,
      "outputs": [
        {
          "output_type": "execute_result",
          "data": {
            "text/html": [
              "<div>\n",
              "<style scoped>\n",
              "    .dataframe tbody tr th:only-of-type {\n",
              "        vertical-align: middle;\n",
              "    }\n",
              "\n",
              "    .dataframe tbody tr th {\n",
              "        vertical-align: top;\n",
              "    }\n",
              "\n",
              "    .dataframe thead th {\n",
              "        text-align: right;\n",
              "    }\n",
              "</style>\n",
              "<table border=\"1\" class=\"dataframe\">\n",
              "  <thead>\n",
              "    <tr style=\"text-align: right;\">\n",
              "      <th></th>\n",
              "      <th>B</th>\n",
              "      <th>C</th>\n",
              "    </tr>\n",
              "  </thead>\n",
              "  <tbody>\n",
              "    <tr>\n",
              "      <th>2013-01-01</th>\n",
              "      <td>-0.321189</td>\n",
              "      <td>-0.582426</td>\n",
              "    </tr>\n",
              "    <tr>\n",
              "      <th>2013-01-02</th>\n",
              "      <td>0.545239</td>\n",
              "      <td>-1.204528</td>\n",
              "    </tr>\n",
              "    <tr>\n",
              "      <th>2013-01-03</th>\n",
              "      <td>1.121019</td>\n",
              "      <td>0.920419</td>\n",
              "    </tr>\n",
              "    <tr>\n",
              "      <th>2013-01-04</th>\n",
              "      <td>0.098611</td>\n",
              "      <td>0.453361</td>\n",
              "    </tr>\n",
              "    <tr>\n",
              "      <th>2013-01-05</th>\n",
              "      <td>0.816264</td>\n",
              "      <td>0.140257</td>\n",
              "    </tr>\n",
              "    <tr>\n",
              "      <th>2013-01-06</th>\n",
              "      <td>-1.356843</td>\n",
              "      <td>0.665047</td>\n",
              "    </tr>\n",
              "  </tbody>\n",
              "</table>\n",
              "</div>"
            ],
            "text/plain": [
              "                   B         C\n",
              "2013-01-01 -0.321189 -0.582426\n",
              "2013-01-02  0.545239 -1.204528\n",
              "2013-01-03  1.121019  0.920419\n",
              "2013-01-04  0.098611  0.453361\n",
              "2013-01-05  0.816264  0.140257\n",
              "2013-01-06 -1.356843  0.665047"
            ]
          },
          "metadata": {
            "tags": []
          },
          "execution_count": 62
        }
      ]
    },
    {
      "cell_type": "code",
      "metadata": {
        "colab_type": "code",
        "executionInfo": {
          "elapsed": 410,
          "status": "ok",
          "timestamp": 1556634019856,
          "user": {
            "displayName": "Mansi Arora",
            "photoUrl": "https://lh3.googleusercontent.com/-XstDPPTRBMM/AAAAAAAAAAI/AAAAAAAAAfs/C5M_SeeeciA/s64/photo.jpg",
            "userId": "05191183514562402651"
          },
          "user_tz": 420
        },
        "id": "NKh02PRQty_o",
        "outputId": "995f91ba-52e2-4e39-c5a4-9a6d5617b08a",
        "colab": {
          "height": 107
        }
      },
      "source": [
        "# Boolean indexing\n",
        "# Using a single column’s values to select data.\n",
        "\n",
        "df[df.A > 0]"
      ],
      "execution_count": 0,
      "outputs": [
        {
          "output_type": "execute_result",
          "data": {
            "text/html": [
              "<div>\n",
              "<style scoped>\n",
              "    .dataframe tbody tr th:only-of-type {\n",
              "        vertical-align: middle;\n",
              "    }\n",
              "\n",
              "    .dataframe tbody tr th {\n",
              "        vertical-align: top;\n",
              "    }\n",
              "\n",
              "    .dataframe thead th {\n",
              "        text-align: right;\n",
              "    }\n",
              "</style>\n",
              "<table border=\"1\" class=\"dataframe\">\n",
              "  <thead>\n",
              "    <tr style=\"text-align: right;\">\n",
              "      <th></th>\n",
              "      <th>A</th>\n",
              "      <th>B</th>\n",
              "      <th>C</th>\n",
              "      <th>D</th>\n",
              "    </tr>\n",
              "  </thead>\n",
              "  <tbody>\n",
              "    <tr>\n",
              "      <th>2013-01-01</th>\n",
              "      <td>0.557141</td>\n",
              "      <td>-0.321189</td>\n",
              "      <td>-0.582426</td>\n",
              "      <td>0.675692</td>\n",
              "    </tr>\n",
              "    <tr>\n",
              "      <th>2013-01-04</th>\n",
              "      <td>1.131651</td>\n",
              "      <td>0.098611</td>\n",
              "      <td>0.453361</td>\n",
              "      <td>0.602169</td>\n",
              "    </tr>\n",
              "  </tbody>\n",
              "</table>\n",
              "</div>"
            ],
            "text/plain": [
              "                   A         B         C         D\n",
              "2013-01-01  0.557141 -0.321189 -0.582426  0.675692\n",
              "2013-01-04  1.131651  0.098611  0.453361  0.602169"
            ]
          },
          "metadata": {
            "tags": []
          },
          "execution_count": 63
        }
      ]
    },
    {
      "cell_type": "code",
      "metadata": {
        "colab_type": "code",
        "executionInfo": {
          "elapsed": 495,
          "status": "ok",
          "timestamp": 1556634020481,
          "user": {
            "displayName": "Mansi Arora",
            "photoUrl": "https://lh3.googleusercontent.com/-XstDPPTRBMM/AAAAAAAAAAI/AAAAAAAAAfs/C5M_SeeeciA/s64/photo.jpg",
            "userId": "05191183514562402651"
          },
          "user_tz": 420
        },
        "id": "q4NvWiNVt4qZ",
        "outputId": "f304c6ec-2953-401c-f5df-f464ca2b4a17",
        "colab": {
          "height": 227
        }
      },
      "source": [
        "# Selecting values from a DataFrame where a boolean condition is met.\n",
        "\n",
        "df[df > 0]"
      ],
      "execution_count": 0,
      "outputs": [
        {
          "output_type": "execute_result",
          "data": {
            "text/html": [
              "<div>\n",
              "<style scoped>\n",
              "    .dataframe tbody tr th:only-of-type {\n",
              "        vertical-align: middle;\n",
              "    }\n",
              "\n",
              "    .dataframe tbody tr th {\n",
              "        vertical-align: top;\n",
              "    }\n",
              "\n",
              "    .dataframe thead th {\n",
              "        text-align: right;\n",
              "    }\n",
              "</style>\n",
              "<table border=\"1\" class=\"dataframe\">\n",
              "  <thead>\n",
              "    <tr style=\"text-align: right;\">\n",
              "      <th></th>\n",
              "      <th>A</th>\n",
              "      <th>B</th>\n",
              "      <th>C</th>\n",
              "      <th>D</th>\n",
              "    </tr>\n",
              "  </thead>\n",
              "  <tbody>\n",
              "    <tr>\n",
              "      <th>2013-01-01</th>\n",
              "      <td>0.557141</td>\n",
              "      <td>NaN</td>\n",
              "      <td>NaN</td>\n",
              "      <td>0.675692</td>\n",
              "    </tr>\n",
              "    <tr>\n",
              "      <th>2013-01-02</th>\n",
              "      <td>NaN</td>\n",
              "      <td>0.545239</td>\n",
              "      <td>NaN</td>\n",
              "      <td>NaN</td>\n",
              "    </tr>\n",
              "    <tr>\n",
              "      <th>2013-01-03</th>\n",
              "      <td>NaN</td>\n",
              "      <td>1.121019</td>\n",
              "      <td>0.920419</td>\n",
              "      <td>1.304150</td>\n",
              "    </tr>\n",
              "    <tr>\n",
              "      <th>2013-01-04</th>\n",
              "      <td>1.131651</td>\n",
              "      <td>0.098611</td>\n",
              "      <td>0.453361</td>\n",
              "      <td>0.602169</td>\n",
              "    </tr>\n",
              "    <tr>\n",
              "      <th>2013-01-05</th>\n",
              "      <td>NaN</td>\n",
              "      <td>0.816264</td>\n",
              "      <td>0.140257</td>\n",
              "      <td>NaN</td>\n",
              "    </tr>\n",
              "    <tr>\n",
              "      <th>2013-01-06</th>\n",
              "      <td>NaN</td>\n",
              "      <td>NaN</td>\n",
              "      <td>0.665047</td>\n",
              "      <td>1.386279</td>\n",
              "    </tr>\n",
              "  </tbody>\n",
              "</table>\n",
              "</div>"
            ],
            "text/plain": [
              "                   A         B         C         D\n",
              "2013-01-01  0.557141       NaN       NaN  0.675692\n",
              "2013-01-02       NaN  0.545239       NaN       NaN\n",
              "2013-01-03       NaN  1.121019  0.920419  1.304150\n",
              "2013-01-04  1.131651  0.098611  0.453361  0.602169\n",
              "2013-01-05       NaN  0.816264  0.140257       NaN\n",
              "2013-01-06       NaN       NaN  0.665047  1.386279"
            ]
          },
          "metadata": {
            "tags": []
          },
          "execution_count": 64
        }
      ]
    },
    {
      "cell_type": "code",
      "metadata": {
        "colab_type": "code",
        "executionInfo": {
          "elapsed": 434,
          "status": "ok",
          "timestamp": 1556634021034,
          "user": {
            "displayName": "Mansi Arora",
            "photoUrl": "https://lh3.googleusercontent.com/-XstDPPTRBMM/AAAAAAAAAAI/AAAAAAAAAfs/C5M_SeeeciA/s64/photo.jpg",
            "userId": "05191183514562402651"
          },
          "user_tz": 420
        },
        "id": "BXIKHqXlt8K1",
        "outputId": "428ab8c0-8452-44bd-f736-78e35083f89a",
        "colab": {
          "height": 227
        }
      },
      "source": [
        "# Using the isin() method for filtering:\n",
        "\n",
        "df2 = df.copy()\n",
        "df2['E'] = ['one', 'one', 'two', 'three', 'four', 'three']\n",
        "df2"
      ],
      "execution_count": 0,
      "outputs": [
        {
          "output_type": "execute_result",
          "data": {
            "text/html": [
              "<div>\n",
              "<style scoped>\n",
              "    .dataframe tbody tr th:only-of-type {\n",
              "        vertical-align: middle;\n",
              "    }\n",
              "\n",
              "    .dataframe tbody tr th {\n",
              "        vertical-align: top;\n",
              "    }\n",
              "\n",
              "    .dataframe thead th {\n",
              "        text-align: right;\n",
              "    }\n",
              "</style>\n",
              "<table border=\"1\" class=\"dataframe\">\n",
              "  <thead>\n",
              "    <tr style=\"text-align: right;\">\n",
              "      <th></th>\n",
              "      <th>A</th>\n",
              "      <th>B</th>\n",
              "      <th>C</th>\n",
              "      <th>D</th>\n",
              "      <th>E</th>\n",
              "    </tr>\n",
              "  </thead>\n",
              "  <tbody>\n",
              "    <tr>\n",
              "      <th>2013-01-01</th>\n",
              "      <td>0.557141</td>\n",
              "      <td>-0.321189</td>\n",
              "      <td>-0.582426</td>\n",
              "      <td>0.675692</td>\n",
              "      <td>one</td>\n",
              "    </tr>\n",
              "    <tr>\n",
              "      <th>2013-01-02</th>\n",
              "      <td>-0.653942</td>\n",
              "      <td>0.545239</td>\n",
              "      <td>-1.204528</td>\n",
              "      <td>-0.582420</td>\n",
              "      <td>one</td>\n",
              "    </tr>\n",
              "    <tr>\n",
              "      <th>2013-01-03</th>\n",
              "      <td>-0.860447</td>\n",
              "      <td>1.121019</td>\n",
              "      <td>0.920419</td>\n",
              "      <td>1.304150</td>\n",
              "      <td>two</td>\n",
              "    </tr>\n",
              "    <tr>\n",
              "      <th>2013-01-04</th>\n",
              "      <td>1.131651</td>\n",
              "      <td>0.098611</td>\n",
              "      <td>0.453361</td>\n",
              "      <td>0.602169</td>\n",
              "      <td>three</td>\n",
              "    </tr>\n",
              "    <tr>\n",
              "      <th>2013-01-05</th>\n",
              "      <td>-0.098668</td>\n",
              "      <td>0.816264</td>\n",
              "      <td>0.140257</td>\n",
              "      <td>-0.400172</td>\n",
              "      <td>four</td>\n",
              "    </tr>\n",
              "    <tr>\n",
              "      <th>2013-01-06</th>\n",
              "      <td>-0.458456</td>\n",
              "      <td>-1.356843</td>\n",
              "      <td>0.665047</td>\n",
              "      <td>1.386279</td>\n",
              "      <td>three</td>\n",
              "    </tr>\n",
              "  </tbody>\n",
              "</table>\n",
              "</div>"
            ],
            "text/plain": [
              "                   A         B         C         D      E\n",
              "2013-01-01  0.557141 -0.321189 -0.582426  0.675692    one\n",
              "2013-01-02 -0.653942  0.545239 -1.204528 -0.582420    one\n",
              "2013-01-03 -0.860447  1.121019  0.920419  1.304150    two\n",
              "2013-01-04  1.131651  0.098611  0.453361  0.602169  three\n",
              "2013-01-05 -0.098668  0.816264  0.140257 -0.400172   four\n",
              "2013-01-06 -0.458456 -1.356843  0.665047  1.386279  three"
            ]
          },
          "metadata": {
            "tags": []
          },
          "execution_count": 65
        }
      ]
    },
    {
      "cell_type": "code",
      "metadata": {
        "colab_type": "code",
        "executionInfo": {
          "elapsed": 420,
          "status": "ok",
          "timestamp": 1556634021577,
          "user": {
            "displayName": "Mansi Arora",
            "photoUrl": "https://lh3.googleusercontent.com/-XstDPPTRBMM/AAAAAAAAAAI/AAAAAAAAAfs/C5M_SeeeciA/s64/photo.jpg",
            "userId": "05191183514562402651"
          },
          "user_tz": 420
        },
        "id": "8uh_rDwzt8Nb",
        "outputId": "870f90ca-5d4c-47d2-fb78-fa740f6fc088",
        "colab": {
          "height": 107
        }
      },
      "source": [
        "df2[df2['E'].isin(['two', 'four'])]"
      ],
      "execution_count": 0,
      "outputs": [
        {
          "output_type": "execute_result",
          "data": {
            "text/html": [
              "<div>\n",
              "<style scoped>\n",
              "    .dataframe tbody tr th:only-of-type {\n",
              "        vertical-align: middle;\n",
              "    }\n",
              "\n",
              "    .dataframe tbody tr th {\n",
              "        vertical-align: top;\n",
              "    }\n",
              "\n",
              "    .dataframe thead th {\n",
              "        text-align: right;\n",
              "    }\n",
              "</style>\n",
              "<table border=\"1\" class=\"dataframe\">\n",
              "  <thead>\n",
              "    <tr style=\"text-align: right;\">\n",
              "      <th></th>\n",
              "      <th>A</th>\n",
              "      <th>B</th>\n",
              "      <th>C</th>\n",
              "      <th>D</th>\n",
              "      <th>E</th>\n",
              "    </tr>\n",
              "  </thead>\n",
              "  <tbody>\n",
              "    <tr>\n",
              "      <th>2013-01-03</th>\n",
              "      <td>-0.860447</td>\n",
              "      <td>1.121019</td>\n",
              "      <td>0.920419</td>\n",
              "      <td>1.304150</td>\n",
              "      <td>two</td>\n",
              "    </tr>\n",
              "    <tr>\n",
              "      <th>2013-01-05</th>\n",
              "      <td>-0.098668</td>\n",
              "      <td>0.816264</td>\n",
              "      <td>0.140257</td>\n",
              "      <td>-0.400172</td>\n",
              "      <td>four</td>\n",
              "    </tr>\n",
              "  </tbody>\n",
              "</table>\n",
              "</div>"
            ],
            "text/plain": [
              "                   A         B         C         D     E\n",
              "2013-01-03 -0.860447  1.121019  0.920419  1.304150   two\n",
              "2013-01-05 -0.098668  0.816264  0.140257 -0.400172  four"
            ]
          },
          "metadata": {
            "tags": []
          },
          "execution_count": 66
        }
      ]
    },
    {
      "cell_type": "markdown",
      "metadata": {
        "colab_type": "text",
        "id": "RM3jnA_kuKzq"
      },
      "source": [
        "### Setting values"
      ]
    },
    {
      "cell_type": "code",
      "metadata": {
        "colab_type": "code",
        "id": "tPOfrn2AukxA",
        "colab": {}
      },
      "source": [
        "# dropping a column\n",
        "df2 = df2.drop(\"E\", axis=1)"
      ],
      "execution_count": 0,
      "outputs": []
    },
    {
      "cell_type": "code",
      "metadata": {
        "colab_type": "code",
        "id": "bRg4s7V-t8Pr",
        "colab": {}
      },
      "source": [
        "df.loc[:, 'D'] = np.array([5] * len(df))"
      ],
      "execution_count": 0,
      "outputs": []
    },
    {
      "cell_type": "code",
      "metadata": {
        "colab_type": "code",
        "executionInfo": {
          "elapsed": 374,
          "status": "ok",
          "timestamp": 1556634023171,
          "user": {
            "displayName": "Mansi Arora",
            "photoUrl": "https://lh3.googleusercontent.com/-XstDPPTRBMM/AAAAAAAAAAI/AAAAAAAAAfs/C5M_SeeeciA/s64/photo.jpg",
            "userId": "05191183514562402651"
          },
          "user_tz": 420
        },
        "id": "--oVudU8t8SX",
        "outputId": "d7f65a4c-4bca-4e33-8b4a-30114660e0db",
        "colab": {
          "height": 227
        }
      },
      "source": [
        "df2[df2 > 0] = df2\n",
        "df2"
      ],
      "execution_count": 0,
      "outputs": [
        {
          "output_type": "execute_result",
          "data": {
            "text/html": [
              "<div>\n",
              "<style scoped>\n",
              "    .dataframe tbody tr th:only-of-type {\n",
              "        vertical-align: middle;\n",
              "    }\n",
              "\n",
              "    .dataframe tbody tr th {\n",
              "        vertical-align: top;\n",
              "    }\n",
              "\n",
              "    .dataframe thead th {\n",
              "        text-align: right;\n",
              "    }\n",
              "</style>\n",
              "<table border=\"1\" class=\"dataframe\">\n",
              "  <thead>\n",
              "    <tr style=\"text-align: right;\">\n",
              "      <th></th>\n",
              "      <th>A</th>\n",
              "      <th>B</th>\n",
              "      <th>C</th>\n",
              "      <th>D</th>\n",
              "    </tr>\n",
              "  </thead>\n",
              "  <tbody>\n",
              "    <tr>\n",
              "      <th>2013-01-01</th>\n",
              "      <td>0.557141</td>\n",
              "      <td>-0.321189</td>\n",
              "      <td>-0.582426</td>\n",
              "      <td>0.675692</td>\n",
              "    </tr>\n",
              "    <tr>\n",
              "      <th>2013-01-02</th>\n",
              "      <td>-0.653942</td>\n",
              "      <td>0.545239</td>\n",
              "      <td>-1.204528</td>\n",
              "      <td>-0.582420</td>\n",
              "    </tr>\n",
              "    <tr>\n",
              "      <th>2013-01-03</th>\n",
              "      <td>-0.860447</td>\n",
              "      <td>1.121019</td>\n",
              "      <td>0.920419</td>\n",
              "      <td>1.304150</td>\n",
              "    </tr>\n",
              "    <tr>\n",
              "      <th>2013-01-04</th>\n",
              "      <td>1.131651</td>\n",
              "      <td>0.098611</td>\n",
              "      <td>0.453361</td>\n",
              "      <td>0.602169</td>\n",
              "    </tr>\n",
              "    <tr>\n",
              "      <th>2013-01-05</th>\n",
              "      <td>-0.098668</td>\n",
              "      <td>0.816264</td>\n",
              "      <td>0.140257</td>\n",
              "      <td>-0.400172</td>\n",
              "    </tr>\n",
              "    <tr>\n",
              "      <th>2013-01-06</th>\n",
              "      <td>-0.458456</td>\n",
              "      <td>-1.356843</td>\n",
              "      <td>0.665047</td>\n",
              "      <td>1.386279</td>\n",
              "    </tr>\n",
              "  </tbody>\n",
              "</table>\n",
              "</div>"
            ],
            "text/plain": [
              "                   A         B         C         D\n",
              "2013-01-01  0.557141 -0.321189 -0.582426  0.675692\n",
              "2013-01-02 -0.653942  0.545239 -1.204528 -0.582420\n",
              "2013-01-03 -0.860447  1.121019  0.920419  1.304150\n",
              "2013-01-04  1.131651  0.098611  0.453361  0.602169\n",
              "2013-01-05 -0.098668  0.816264  0.140257 -0.400172\n",
              "2013-01-06 -0.458456 -1.356843  0.665047  1.386279"
            ]
          },
          "metadata": {
            "tags": []
          },
          "execution_count": 69
        }
      ]
    },
    {
      "cell_type": "markdown",
      "metadata": {
        "colab_type": "text",
        "id": "1dvmE8lXvFtS"
      },
      "source": [
        "### Missing values"
      ]
    },
    {
      "cell_type": "code",
      "metadata": {
        "colab_type": "code",
        "executionInfo": {
          "elapsed": 362,
          "status": "ok",
          "timestamp": 1556634023708,
          "user": {
            "displayName": "Mansi Arora",
            "photoUrl": "https://lh3.googleusercontent.com/-XstDPPTRBMM/AAAAAAAAAAI/AAAAAAAAAfs/C5M_SeeeciA/s64/photo.jpg",
            "userId": "05191183514562402651"
          },
          "user_tz": 420
        },
        "id": "RLHi6sw8vuUt",
        "outputId": "7ee83629-ae72-4f4a-857f-981daf9adc33",
        "colab": {
          "height": 167
        }
      },
      "source": [
        "df1 = df.reindex(index=dates[0:4], columns=list(df.columns) + ['E'])\n",
        "df1.loc[dates[0]:dates[1], 'E'] = 1\n",
        "df1"
      ],
      "execution_count": 0,
      "outputs": [
        {
          "output_type": "execute_result",
          "data": {
            "text/html": [
              "<div>\n",
              "<style scoped>\n",
              "    .dataframe tbody tr th:only-of-type {\n",
              "        vertical-align: middle;\n",
              "    }\n",
              "\n",
              "    .dataframe tbody tr th {\n",
              "        vertical-align: top;\n",
              "    }\n",
              "\n",
              "    .dataframe thead th {\n",
              "        text-align: right;\n",
              "    }\n",
              "</style>\n",
              "<table border=\"1\" class=\"dataframe\">\n",
              "  <thead>\n",
              "    <tr style=\"text-align: right;\">\n",
              "      <th></th>\n",
              "      <th>A</th>\n",
              "      <th>B</th>\n",
              "      <th>C</th>\n",
              "      <th>D</th>\n",
              "      <th>E</th>\n",
              "    </tr>\n",
              "  </thead>\n",
              "  <tbody>\n",
              "    <tr>\n",
              "      <th>2013-01-01</th>\n",
              "      <td>0.557141</td>\n",
              "      <td>-0.321189</td>\n",
              "      <td>-0.582426</td>\n",
              "      <td>5</td>\n",
              "      <td>1.0</td>\n",
              "    </tr>\n",
              "    <tr>\n",
              "      <th>2013-01-02</th>\n",
              "      <td>-0.653942</td>\n",
              "      <td>0.545239</td>\n",
              "      <td>-1.204528</td>\n",
              "      <td>5</td>\n",
              "      <td>1.0</td>\n",
              "    </tr>\n",
              "    <tr>\n",
              "      <th>2013-01-03</th>\n",
              "      <td>-0.860447</td>\n",
              "      <td>1.121019</td>\n",
              "      <td>0.920419</td>\n",
              "      <td>5</td>\n",
              "      <td>NaN</td>\n",
              "    </tr>\n",
              "    <tr>\n",
              "      <th>2013-01-04</th>\n",
              "      <td>1.131651</td>\n",
              "      <td>0.098611</td>\n",
              "      <td>0.453361</td>\n",
              "      <td>5</td>\n",
              "      <td>NaN</td>\n",
              "    </tr>\n",
              "  </tbody>\n",
              "</table>\n",
              "</div>"
            ],
            "text/plain": [
              "                   A         B         C  D    E\n",
              "2013-01-01  0.557141 -0.321189 -0.582426  5  1.0\n",
              "2013-01-02 -0.653942  0.545239 -1.204528  5  1.0\n",
              "2013-01-03 -0.860447  1.121019  0.920419  5  NaN\n",
              "2013-01-04  1.131651  0.098611  0.453361  5  NaN"
            ]
          },
          "metadata": {
            "tags": []
          },
          "execution_count": 70
        }
      ]
    },
    {
      "cell_type": "code",
      "metadata": {
        "colab_type": "code",
        "executionInfo": {
          "elapsed": 367,
          "status": "ok",
          "timestamp": 1556634024189,
          "user": {
            "displayName": "Mansi Arora",
            "photoUrl": "https://lh3.googleusercontent.com/-XstDPPTRBMM/AAAAAAAAAAI/AAAAAAAAAfs/C5M_SeeeciA/s64/photo.jpg",
            "userId": "05191183514562402651"
          },
          "user_tz": 420
        },
        "id": "OHFgDtUevHL5",
        "outputId": "c6369b27-e8e1-4c00-8868-6c16db02bb19",
        "colab": {
          "height": 107
        }
      },
      "source": [
        "# To drop any rows that have missing data\n",
        "df1.dropna(how='any')"
      ],
      "execution_count": 0,
      "outputs": [
        {
          "output_type": "execute_result",
          "data": {
            "text/html": [
              "<div>\n",
              "<style scoped>\n",
              "    .dataframe tbody tr th:only-of-type {\n",
              "        vertical-align: middle;\n",
              "    }\n",
              "\n",
              "    .dataframe tbody tr th {\n",
              "        vertical-align: top;\n",
              "    }\n",
              "\n",
              "    .dataframe thead th {\n",
              "        text-align: right;\n",
              "    }\n",
              "</style>\n",
              "<table border=\"1\" class=\"dataframe\">\n",
              "  <thead>\n",
              "    <tr style=\"text-align: right;\">\n",
              "      <th></th>\n",
              "      <th>A</th>\n",
              "      <th>B</th>\n",
              "      <th>C</th>\n",
              "      <th>D</th>\n",
              "      <th>E</th>\n",
              "    </tr>\n",
              "  </thead>\n",
              "  <tbody>\n",
              "    <tr>\n",
              "      <th>2013-01-01</th>\n",
              "      <td>0.557141</td>\n",
              "      <td>-0.321189</td>\n",
              "      <td>-0.582426</td>\n",
              "      <td>5</td>\n",
              "      <td>1.0</td>\n",
              "    </tr>\n",
              "    <tr>\n",
              "      <th>2013-01-02</th>\n",
              "      <td>-0.653942</td>\n",
              "      <td>0.545239</td>\n",
              "      <td>-1.204528</td>\n",
              "      <td>5</td>\n",
              "      <td>1.0</td>\n",
              "    </tr>\n",
              "  </tbody>\n",
              "</table>\n",
              "</div>"
            ],
            "text/plain": [
              "                   A         B         C  D    E\n",
              "2013-01-01  0.557141 -0.321189 -0.582426  5  1.0\n",
              "2013-01-02 -0.653942  0.545239 -1.204528  5  1.0"
            ]
          },
          "metadata": {
            "tags": []
          },
          "execution_count": 71
        }
      ]
    },
    {
      "cell_type": "code",
      "metadata": {
        "colab_type": "code",
        "executionInfo": {
          "elapsed": 657,
          "status": "ok",
          "timestamp": 1556634024944,
          "user": {
            "displayName": "Mansi Arora",
            "photoUrl": "https://lh3.googleusercontent.com/-XstDPPTRBMM/AAAAAAAAAAI/AAAAAAAAAfs/C5M_SeeeciA/s64/photo.jpg",
            "userId": "05191183514562402651"
          },
          "user_tz": 420
        },
        "id": "EVk3QAmYv586",
        "outputId": "774c9623-53fe-4deb-8a48-513ffe1a266d",
        "colab": {
          "height": 167
        }
      },
      "source": [
        "# Filling missing data.\n",
        "df1.fillna(value=5)"
      ],
      "execution_count": 0,
      "outputs": [
        {
          "output_type": "execute_result",
          "data": {
            "text/html": [
              "<div>\n",
              "<style scoped>\n",
              "    .dataframe tbody tr th:only-of-type {\n",
              "        vertical-align: middle;\n",
              "    }\n",
              "\n",
              "    .dataframe tbody tr th {\n",
              "        vertical-align: top;\n",
              "    }\n",
              "\n",
              "    .dataframe thead th {\n",
              "        text-align: right;\n",
              "    }\n",
              "</style>\n",
              "<table border=\"1\" class=\"dataframe\">\n",
              "  <thead>\n",
              "    <tr style=\"text-align: right;\">\n",
              "      <th></th>\n",
              "      <th>A</th>\n",
              "      <th>B</th>\n",
              "      <th>C</th>\n",
              "      <th>D</th>\n",
              "      <th>E</th>\n",
              "    </tr>\n",
              "  </thead>\n",
              "  <tbody>\n",
              "    <tr>\n",
              "      <th>2013-01-01</th>\n",
              "      <td>0.557141</td>\n",
              "      <td>-0.321189</td>\n",
              "      <td>-0.582426</td>\n",
              "      <td>5</td>\n",
              "      <td>1.0</td>\n",
              "    </tr>\n",
              "    <tr>\n",
              "      <th>2013-01-02</th>\n",
              "      <td>-0.653942</td>\n",
              "      <td>0.545239</td>\n",
              "      <td>-1.204528</td>\n",
              "      <td>5</td>\n",
              "      <td>1.0</td>\n",
              "    </tr>\n",
              "    <tr>\n",
              "      <th>2013-01-03</th>\n",
              "      <td>-0.860447</td>\n",
              "      <td>1.121019</td>\n",
              "      <td>0.920419</td>\n",
              "      <td>5</td>\n",
              "      <td>5.0</td>\n",
              "    </tr>\n",
              "    <tr>\n",
              "      <th>2013-01-04</th>\n",
              "      <td>1.131651</td>\n",
              "      <td>0.098611</td>\n",
              "      <td>0.453361</td>\n",
              "      <td>5</td>\n",
              "      <td>5.0</td>\n",
              "    </tr>\n",
              "  </tbody>\n",
              "</table>\n",
              "</div>"
            ],
            "text/plain": [
              "                   A         B         C  D    E\n",
              "2013-01-01  0.557141 -0.321189 -0.582426  5  1.0\n",
              "2013-01-02 -0.653942  0.545239 -1.204528  5  1.0\n",
              "2013-01-03 -0.860447  1.121019  0.920419  5  5.0\n",
              "2013-01-04  1.131651  0.098611  0.453361  5  5.0"
            ]
          },
          "metadata": {
            "tags": []
          },
          "execution_count": 72
        }
      ]
    },
    {
      "cell_type": "code",
      "metadata": {
        "colab_type": "code",
        "executionInfo": {
          "elapsed": 416,
          "status": "ok",
          "timestamp": 1556634025436,
          "user": {
            "displayName": "Mansi Arora",
            "photoUrl": "https://lh3.googleusercontent.com/-XstDPPTRBMM/AAAAAAAAAAI/AAAAAAAAAfs/C5M_SeeeciA/s64/photo.jpg",
            "userId": "05191183514562402651"
          },
          "user_tz": 420
        },
        "id": "KMbgPzigv80y",
        "outputId": "b256cd50-d7d1-408d-eead-941dce601b26",
        "colab": {
          "height": 167
        }
      },
      "source": [
        "# To get the boolean mask where values are nan.\n",
        "\n",
        "pd.isna(df1)"
      ],
      "execution_count": 0,
      "outputs": [
        {
          "output_type": "execute_result",
          "data": {
            "text/html": [
              "<div>\n",
              "<style scoped>\n",
              "    .dataframe tbody tr th:only-of-type {\n",
              "        vertical-align: middle;\n",
              "    }\n",
              "\n",
              "    .dataframe tbody tr th {\n",
              "        vertical-align: top;\n",
              "    }\n",
              "\n",
              "    .dataframe thead th {\n",
              "        text-align: right;\n",
              "    }\n",
              "</style>\n",
              "<table border=\"1\" class=\"dataframe\">\n",
              "  <thead>\n",
              "    <tr style=\"text-align: right;\">\n",
              "      <th></th>\n",
              "      <th>A</th>\n",
              "      <th>B</th>\n",
              "      <th>C</th>\n",
              "      <th>D</th>\n",
              "      <th>E</th>\n",
              "    </tr>\n",
              "  </thead>\n",
              "  <tbody>\n",
              "    <tr>\n",
              "      <th>2013-01-01</th>\n",
              "      <td>False</td>\n",
              "      <td>False</td>\n",
              "      <td>False</td>\n",
              "      <td>False</td>\n",
              "      <td>False</td>\n",
              "    </tr>\n",
              "    <tr>\n",
              "      <th>2013-01-02</th>\n",
              "      <td>False</td>\n",
              "      <td>False</td>\n",
              "      <td>False</td>\n",
              "      <td>False</td>\n",
              "      <td>False</td>\n",
              "    </tr>\n",
              "    <tr>\n",
              "      <th>2013-01-03</th>\n",
              "      <td>False</td>\n",
              "      <td>False</td>\n",
              "      <td>False</td>\n",
              "      <td>False</td>\n",
              "      <td>True</td>\n",
              "    </tr>\n",
              "    <tr>\n",
              "      <th>2013-01-04</th>\n",
              "      <td>False</td>\n",
              "      <td>False</td>\n",
              "      <td>False</td>\n",
              "      <td>False</td>\n",
              "      <td>True</td>\n",
              "    </tr>\n",
              "  </tbody>\n",
              "</table>\n",
              "</div>"
            ],
            "text/plain": [
              "                A      B      C      D      E\n",
              "2013-01-01  False  False  False  False  False\n",
              "2013-01-02  False  False  False  False  False\n",
              "2013-01-03  False  False  False  False   True\n",
              "2013-01-04  False  False  False  False   True"
            ]
          },
          "metadata": {
            "tags": []
          },
          "execution_count": 73
        }
      ]
    },
    {
      "cell_type": "markdown",
      "metadata": {
        "colab_type": "text",
        "id": "oIu0eqLwwF1C"
      },
      "source": [
        "### Apply and Lambda functions"
      ]
    },
    {
      "cell_type": "code",
      "metadata": {
        "colab_type": "code",
        "executionInfo": {
          "elapsed": 355,
          "status": "ok",
          "timestamp": 1556634025946,
          "user": {
            "displayName": "Mansi Arora",
            "photoUrl": "https://lh3.googleusercontent.com/-XstDPPTRBMM/AAAAAAAAAAI/AAAAAAAAAfs/C5M_SeeeciA/s64/photo.jpg",
            "userId": "05191183514562402651"
          },
          "user_tz": 420
        },
        "id": "7zLkQ6KLv3A0",
        "outputId": "bd4eb8c8-517a-4897-bff0-e8e5b1c6b4da",
        "colab": {
          "height": 227
        }
      },
      "source": [
        "# To get the boolean mask where values are nan.\n",
        "df.apply(np.cumsum)"
      ],
      "execution_count": 0,
      "outputs": [
        {
          "output_type": "execute_result",
          "data": {
            "text/html": [
              "<div>\n",
              "<style scoped>\n",
              "    .dataframe tbody tr th:only-of-type {\n",
              "        vertical-align: middle;\n",
              "    }\n",
              "\n",
              "    .dataframe tbody tr th {\n",
              "        vertical-align: top;\n",
              "    }\n",
              "\n",
              "    .dataframe thead th {\n",
              "        text-align: right;\n",
              "    }\n",
              "</style>\n",
              "<table border=\"1\" class=\"dataframe\">\n",
              "  <thead>\n",
              "    <tr style=\"text-align: right;\">\n",
              "      <th></th>\n",
              "      <th>A</th>\n",
              "      <th>B</th>\n",
              "      <th>C</th>\n",
              "      <th>D</th>\n",
              "    </tr>\n",
              "  </thead>\n",
              "  <tbody>\n",
              "    <tr>\n",
              "      <th>2013-01-01</th>\n",
              "      <td>0.557141</td>\n",
              "      <td>-0.321189</td>\n",
              "      <td>-0.582426</td>\n",
              "      <td>5</td>\n",
              "    </tr>\n",
              "    <tr>\n",
              "      <th>2013-01-02</th>\n",
              "      <td>-0.096801</td>\n",
              "      <td>0.224049</td>\n",
              "      <td>-1.786953</td>\n",
              "      <td>10</td>\n",
              "    </tr>\n",
              "    <tr>\n",
              "      <th>2013-01-03</th>\n",
              "      <td>-0.957248</td>\n",
              "      <td>1.345068</td>\n",
              "      <td>-0.866534</td>\n",
              "      <td>15</td>\n",
              "    </tr>\n",
              "    <tr>\n",
              "      <th>2013-01-04</th>\n",
              "      <td>0.174403</td>\n",
              "      <td>1.443680</td>\n",
              "      <td>-0.413174</td>\n",
              "      <td>20</td>\n",
              "    </tr>\n",
              "    <tr>\n",
              "      <th>2013-01-05</th>\n",
              "      <td>0.075735</td>\n",
              "      <td>2.259944</td>\n",
              "      <td>-0.272917</td>\n",
              "      <td>25</td>\n",
              "    </tr>\n",
              "    <tr>\n",
              "      <th>2013-01-06</th>\n",
              "      <td>-0.382721</td>\n",
              "      <td>0.903101</td>\n",
              "      <td>0.392130</td>\n",
              "      <td>30</td>\n",
              "    </tr>\n",
              "  </tbody>\n",
              "</table>\n",
              "</div>"
            ],
            "text/plain": [
              "                   A         B         C   D\n",
              "2013-01-01  0.557141 -0.321189 -0.582426   5\n",
              "2013-01-02 -0.096801  0.224049 -1.786953  10\n",
              "2013-01-03 -0.957248  1.345068 -0.866534  15\n",
              "2013-01-04  0.174403  1.443680 -0.413174  20\n",
              "2013-01-05  0.075735  2.259944 -0.272917  25\n",
              "2013-01-06 -0.382721  0.903101  0.392130  30"
            ]
          },
          "metadata": {
            "tags": []
          },
          "execution_count": 74
        }
      ]
    },
    {
      "cell_type": "code",
      "metadata": {
        "colab_type": "code",
        "executionInfo": {
          "elapsed": 436,
          "status": "ok",
          "timestamp": 1556634026477,
          "user": {
            "displayName": "Mansi Arora",
            "photoUrl": "https://lh3.googleusercontent.com/-XstDPPTRBMM/AAAAAAAAAAI/AAAAAAAAAfs/C5M_SeeeciA/s64/photo.jpg",
            "userId": "05191183514562402651"
          },
          "user_tz": 420
        },
        "id": "yoD9pPuJwMQL",
        "outputId": "e49e2060-0d63-404f-c188-8fd20c331807",
        "colab": {
          "height": 105
        }
      },
      "source": [
        "df.apply(lambda x: x.max() - x.min())"
      ],
      "execution_count": 0,
      "outputs": [
        {
          "output_type": "execute_result",
          "data": {
            "text/plain": [
              "A    1.992098\n",
              "B    2.477862\n",
              "C    2.124946\n",
              "D    0.000000\n",
              "dtype: float64"
            ]
          },
          "metadata": {
            "tags": []
          },
          "execution_count": 75
        }
      ]
    },
    {
      "cell_type": "markdown",
      "metadata": {
        "colab_type": "text",
        "id": "MDSc6lk-qTu5"
      },
      "source": [
        "### Merge/Concat/Join"
      ]
    },
    {
      "cell_type": "markdown",
      "metadata": {
        "colab_type": "text",
        "id": "znsizJPcxqNf"
      },
      "source": [
        "Concatenate"
      ]
    },
    {
      "cell_type": "code",
      "metadata": {
        "colab_type": "code",
        "executionInfo": {
          "elapsed": 367,
          "status": "ok",
          "timestamp": 1556634026941,
          "user": {
            "displayName": "Mansi Arora",
            "photoUrl": "https://lh3.googleusercontent.com/-XstDPPTRBMM/AAAAAAAAAAI/AAAAAAAAAfs/C5M_SeeeciA/s64/photo.jpg",
            "userId": "05191183514562402651"
          },
          "user_tz": 420
        },
        "id": "a03ddcFOxNEG",
        "outputId": "80fa609b-1e80-4e7b-8de1-9f1a7c025b1b",
        "colab": {
          "height": 347
        }
      },
      "source": [
        "# Concatenating pandas objects together with concat():\n",
        "\n",
        "df = pd.DataFrame(np.random.randn(10, 4))\n",
        "\n",
        "# break it into pieces\n",
        "pieces = [df[:3], df[3:7], df[7:]]\n",
        "\n",
        "pd.concat(pieces)"
      ],
      "execution_count": 0,
      "outputs": [
        {
          "output_type": "execute_result",
          "data": {
            "text/html": [
              "<div>\n",
              "<style scoped>\n",
              "    .dataframe tbody tr th:only-of-type {\n",
              "        vertical-align: middle;\n",
              "    }\n",
              "\n",
              "    .dataframe tbody tr th {\n",
              "        vertical-align: top;\n",
              "    }\n",
              "\n",
              "    .dataframe thead th {\n",
              "        text-align: right;\n",
              "    }\n",
              "</style>\n",
              "<table border=\"1\" class=\"dataframe\">\n",
              "  <thead>\n",
              "    <tr style=\"text-align: right;\">\n",
              "      <th></th>\n",
              "      <th>0</th>\n",
              "      <th>1</th>\n",
              "      <th>2</th>\n",
              "      <th>3</th>\n",
              "    </tr>\n",
              "  </thead>\n",
              "  <tbody>\n",
              "    <tr>\n",
              "      <th>0</th>\n",
              "      <td>0.319253</td>\n",
              "      <td>0.128411</td>\n",
              "      <td>-0.790986</td>\n",
              "      <td>-1.281175</td>\n",
              "    </tr>\n",
              "    <tr>\n",
              "      <th>1</th>\n",
              "      <td>-0.462498</td>\n",
              "      <td>0.083240</td>\n",
              "      <td>0.815860</td>\n",
              "      <td>-0.411954</td>\n",
              "    </tr>\n",
              "    <tr>\n",
              "      <th>2</th>\n",
              "      <td>-0.014330</td>\n",
              "      <td>-2.086874</td>\n",
              "      <td>-1.254683</td>\n",
              "      <td>1.693431</td>\n",
              "    </tr>\n",
              "    <tr>\n",
              "      <th>3</th>\n",
              "      <td>-1.150157</td>\n",
              "      <td>0.745004</td>\n",
              "      <td>-1.091509</td>\n",
              "      <td>-1.160350</td>\n",
              "    </tr>\n",
              "    <tr>\n",
              "      <th>4</th>\n",
              "      <td>-0.245200</td>\n",
              "      <td>-1.020127</td>\n",
              "      <td>0.004363</td>\n",
              "      <td>-2.704868</td>\n",
              "    </tr>\n",
              "    <tr>\n",
              "      <th>5</th>\n",
              "      <td>0.803590</td>\n",
              "      <td>-0.654982</td>\n",
              "      <td>0.436075</td>\n",
              "      <td>-0.241804</td>\n",
              "    </tr>\n",
              "    <tr>\n",
              "      <th>6</th>\n",
              "      <td>1.809310</td>\n",
              "      <td>-0.489750</td>\n",
              "      <td>1.105466</td>\n",
              "      <td>0.377052</td>\n",
              "    </tr>\n",
              "    <tr>\n",
              "      <th>7</th>\n",
              "      <td>-0.166986</td>\n",
              "      <td>-1.024829</td>\n",
              "      <td>0.637974</td>\n",
              "      <td>-0.188694</td>\n",
              "    </tr>\n",
              "    <tr>\n",
              "      <th>8</th>\n",
              "      <td>1.446345</td>\n",
              "      <td>-1.148157</td>\n",
              "      <td>0.186696</td>\n",
              "      <td>-0.061227</td>\n",
              "    </tr>\n",
              "    <tr>\n",
              "      <th>9</th>\n",
              "      <td>0.474694</td>\n",
              "      <td>0.562775</td>\n",
              "      <td>-0.136885</td>\n",
              "      <td>0.027299</td>\n",
              "    </tr>\n",
              "  </tbody>\n",
              "</table>\n",
              "</div>"
            ],
            "text/plain": [
              "          0         1         2         3\n",
              "0  0.319253  0.128411 -0.790986 -1.281175\n",
              "1 -0.462498  0.083240  0.815860 -0.411954\n",
              "2 -0.014330 -2.086874 -1.254683  1.693431\n",
              "3 -1.150157  0.745004 -1.091509 -1.160350\n",
              "4 -0.245200 -1.020127  0.004363 -2.704868\n",
              "5  0.803590 -0.654982  0.436075 -0.241804\n",
              "6  1.809310 -0.489750  1.105466  0.377052\n",
              "7 -0.166986 -1.024829  0.637974 -0.188694\n",
              "8  1.446345 -1.148157  0.186696 -0.061227\n",
              "9  0.474694  0.562775 -0.136885  0.027299"
            ]
          },
          "metadata": {
            "tags": []
          },
          "execution_count": 76
        }
      ]
    },
    {
      "cell_type": "markdown",
      "metadata": {
        "colab_type": "text",
        "id": "YkkXx5Yaxuho"
      },
      "source": [
        "Joins"
      ]
    },
    {
      "cell_type": "code",
      "metadata": {
        "colab_type": "code",
        "id": "gEe7WZgyqntc",
        "colab": {}
      },
      "source": [
        "# SQL style merges. See the Database style joining section.\n",
        "\n",
        "left = pd.DataFrame({'key': ['foo', 'foo'], 'lval': [1, 2]})\n",
        "\n",
        "right = pd.DataFrame({'key': ['foo', 'foo'], 'rval': [4, 5]})"
      ],
      "execution_count": 0,
      "outputs": []
    },
    {
      "cell_type": "code",
      "metadata": {
        "colab_type": "code",
        "executionInfo": {
          "elapsed": 386,
          "status": "ok",
          "timestamp": 1556634027869,
          "user": {
            "displayName": "Mansi Arora",
            "photoUrl": "https://lh3.googleusercontent.com/-XstDPPTRBMM/AAAAAAAAAAI/AAAAAAAAAfs/C5M_SeeeciA/s64/photo.jpg",
            "userId": "05191183514562402651"
          },
          "user_tz": 420
        },
        "id": "9PgqM19pxhDX",
        "outputId": "afafd7c9-7766-4a5d-c53b-5307ccd13833",
        "colab": {
          "height": 107
        }
      },
      "source": [
        "left"
      ],
      "execution_count": 0,
      "outputs": [
        {
          "output_type": "execute_result",
          "data": {
            "text/html": [
              "<div>\n",
              "<style scoped>\n",
              "    .dataframe tbody tr th:only-of-type {\n",
              "        vertical-align: middle;\n",
              "    }\n",
              "\n",
              "    .dataframe tbody tr th {\n",
              "        vertical-align: top;\n",
              "    }\n",
              "\n",
              "    .dataframe thead th {\n",
              "        text-align: right;\n",
              "    }\n",
              "</style>\n",
              "<table border=\"1\" class=\"dataframe\">\n",
              "  <thead>\n",
              "    <tr style=\"text-align: right;\">\n",
              "      <th></th>\n",
              "      <th>key</th>\n",
              "      <th>lval</th>\n",
              "    </tr>\n",
              "  </thead>\n",
              "  <tbody>\n",
              "    <tr>\n",
              "      <th>0</th>\n",
              "      <td>foo</td>\n",
              "      <td>1</td>\n",
              "    </tr>\n",
              "    <tr>\n",
              "      <th>1</th>\n",
              "      <td>foo</td>\n",
              "      <td>2</td>\n",
              "    </tr>\n",
              "  </tbody>\n",
              "</table>\n",
              "</div>"
            ],
            "text/plain": [
              "   key  lval\n",
              "0  foo     1\n",
              "1  foo     2"
            ]
          },
          "metadata": {
            "tags": []
          },
          "execution_count": 78
        }
      ]
    },
    {
      "cell_type": "code",
      "metadata": {
        "colab_type": "code",
        "executionInfo": {
          "elapsed": 752,
          "status": "ok",
          "timestamp": 1556634028707,
          "user": {
            "displayName": "Mansi Arora",
            "photoUrl": "https://lh3.googleusercontent.com/-XstDPPTRBMM/AAAAAAAAAAI/AAAAAAAAAfs/C5M_SeeeciA/s64/photo.jpg",
            "userId": "05191183514562402651"
          },
          "user_tz": 420
        },
        "id": "EzCcroUbxh4h",
        "outputId": "c28ba8a3-8848-48ce-e5f7-6c2b8a1ef11b",
        "colab": {
          "height": 107
        }
      },
      "source": [
        "right"
      ],
      "execution_count": 0,
      "outputs": [
        {
          "output_type": "execute_result",
          "data": {
            "text/html": [
              "<div>\n",
              "<style scoped>\n",
              "    .dataframe tbody tr th:only-of-type {\n",
              "        vertical-align: middle;\n",
              "    }\n",
              "\n",
              "    .dataframe tbody tr th {\n",
              "        vertical-align: top;\n",
              "    }\n",
              "\n",
              "    .dataframe thead th {\n",
              "        text-align: right;\n",
              "    }\n",
              "</style>\n",
              "<table border=\"1\" class=\"dataframe\">\n",
              "  <thead>\n",
              "    <tr style=\"text-align: right;\">\n",
              "      <th></th>\n",
              "      <th>key</th>\n",
              "      <th>rval</th>\n",
              "    </tr>\n",
              "  </thead>\n",
              "  <tbody>\n",
              "    <tr>\n",
              "      <th>0</th>\n",
              "      <td>foo</td>\n",
              "      <td>4</td>\n",
              "    </tr>\n",
              "    <tr>\n",
              "      <th>1</th>\n",
              "      <td>foo</td>\n",
              "      <td>5</td>\n",
              "    </tr>\n",
              "  </tbody>\n",
              "</table>\n",
              "</div>"
            ],
            "text/plain": [
              "   key  rval\n",
              "0  foo     4\n",
              "1  foo     5"
            ]
          },
          "metadata": {
            "tags": []
          },
          "execution_count": 79
        }
      ]
    },
    {
      "cell_type": "code",
      "metadata": {
        "colab_type": "code",
        "executionInfo": {
          "elapsed": 427,
          "status": "ok",
          "timestamp": 1556634029356,
          "user": {
            "displayName": "Mansi Arora",
            "photoUrl": "https://lh3.googleusercontent.com/-XstDPPTRBMM/AAAAAAAAAAI/AAAAAAAAAfs/C5M_SeeeciA/s64/photo.jpg",
            "userId": "05191183514562402651"
          },
          "user_tz": 420
        },
        "id": "dGPAIgmZxifK",
        "outputId": "c080bfee-d2d8-4d5c-a102-547bc10938f3",
        "colab": {
          "height": 167
        }
      },
      "source": [
        "pd.merge(left, right, on='key')"
      ],
      "execution_count": 0,
      "outputs": [
        {
          "output_type": "execute_result",
          "data": {
            "text/html": [
              "<div>\n",
              "<style scoped>\n",
              "    .dataframe tbody tr th:only-of-type {\n",
              "        vertical-align: middle;\n",
              "    }\n",
              "\n",
              "    .dataframe tbody tr th {\n",
              "        vertical-align: top;\n",
              "    }\n",
              "\n",
              "    .dataframe thead th {\n",
              "        text-align: right;\n",
              "    }\n",
              "</style>\n",
              "<table border=\"1\" class=\"dataframe\">\n",
              "  <thead>\n",
              "    <tr style=\"text-align: right;\">\n",
              "      <th></th>\n",
              "      <th>key</th>\n",
              "      <th>lval</th>\n",
              "      <th>rval</th>\n",
              "    </tr>\n",
              "  </thead>\n",
              "  <tbody>\n",
              "    <tr>\n",
              "      <th>0</th>\n",
              "      <td>foo</td>\n",
              "      <td>1</td>\n",
              "      <td>4</td>\n",
              "    </tr>\n",
              "    <tr>\n",
              "      <th>1</th>\n",
              "      <td>foo</td>\n",
              "      <td>1</td>\n",
              "      <td>5</td>\n",
              "    </tr>\n",
              "    <tr>\n",
              "      <th>2</th>\n",
              "      <td>foo</td>\n",
              "      <td>2</td>\n",
              "      <td>4</td>\n",
              "    </tr>\n",
              "    <tr>\n",
              "      <th>3</th>\n",
              "      <td>foo</td>\n",
              "      <td>2</td>\n",
              "      <td>5</td>\n",
              "    </tr>\n",
              "  </tbody>\n",
              "</table>\n",
              "</div>"
            ],
            "text/plain": [
              "   key  lval  rval\n",
              "0  foo     1     4\n",
              "1  foo     1     5\n",
              "2  foo     2     4\n",
              "3  foo     2     5"
            ]
          },
          "metadata": {
            "tags": []
          },
          "execution_count": 80
        }
      ]
    },
    {
      "cell_type": "markdown",
      "metadata": {
        "colab_type": "text",
        "id": "xWe3vyXHxx5e"
      },
      "source": [
        "Append"
      ]
    },
    {
      "cell_type": "code",
      "metadata": {
        "colab_type": "code",
        "executionInfo": {
          "elapsed": 390,
          "status": "ok",
          "timestamp": 1556634029831,
          "user": {
            "displayName": "Mansi Arora",
            "photoUrl": "https://lh3.googleusercontent.com/-XstDPPTRBMM/AAAAAAAAAAI/AAAAAAAAAfs/C5M_SeeeciA/s64/photo.jpg",
            "userId": "05191183514562402651"
          },
          "user_tz": 420
        },
        "id": "ixDJQkaixjsT",
        "outputId": "44a1461a-793e-4fed-ac42-7139fb599015",
        "colab": {
          "height": 197
        }
      },
      "source": [
        "#Append rows to a dataframe. \n",
        "\n",
        "df = pd.DataFrame(np.random.randn(8, 4), columns=['A', 'B', 'C', 'D'])\n",
        "\n",
        "df.head()"
      ],
      "execution_count": 0,
      "outputs": [
        {
          "output_type": "execute_result",
          "data": {
            "text/html": [
              "<div>\n",
              "<style scoped>\n",
              "    .dataframe tbody tr th:only-of-type {\n",
              "        vertical-align: middle;\n",
              "    }\n",
              "\n",
              "    .dataframe tbody tr th {\n",
              "        vertical-align: top;\n",
              "    }\n",
              "\n",
              "    .dataframe thead th {\n",
              "        text-align: right;\n",
              "    }\n",
              "</style>\n",
              "<table border=\"1\" class=\"dataframe\">\n",
              "  <thead>\n",
              "    <tr style=\"text-align: right;\">\n",
              "      <th></th>\n",
              "      <th>A</th>\n",
              "      <th>B</th>\n",
              "      <th>C</th>\n",
              "      <th>D</th>\n",
              "    </tr>\n",
              "  </thead>\n",
              "  <tbody>\n",
              "    <tr>\n",
              "      <th>0</th>\n",
              "      <td>1.871247</td>\n",
              "      <td>-0.239678</td>\n",
              "      <td>0.066924</td>\n",
              "      <td>0.274989</td>\n",
              "    </tr>\n",
              "    <tr>\n",
              "      <th>1</th>\n",
              "      <td>0.356630</td>\n",
              "      <td>0.746998</td>\n",
              "      <td>0.808299</td>\n",
              "      <td>0.085506</td>\n",
              "    </tr>\n",
              "    <tr>\n",
              "      <th>2</th>\n",
              "      <td>-0.486247</td>\n",
              "      <td>-1.146083</td>\n",
              "      <td>0.149665</td>\n",
              "      <td>0.078882</td>\n",
              "    </tr>\n",
              "    <tr>\n",
              "      <th>3</th>\n",
              "      <td>-0.029688</td>\n",
              "      <td>0.728660</td>\n",
              "      <td>-0.212703</td>\n",
              "      <td>-0.382280</td>\n",
              "    </tr>\n",
              "    <tr>\n",
              "      <th>4</th>\n",
              "      <td>0.498091</td>\n",
              "      <td>0.435516</td>\n",
              "      <td>0.944673</td>\n",
              "      <td>0.103959</td>\n",
              "    </tr>\n",
              "  </tbody>\n",
              "</table>\n",
              "</div>"
            ],
            "text/plain": [
              "          A         B         C         D\n",
              "0  1.871247 -0.239678  0.066924  0.274989\n",
              "1  0.356630  0.746998  0.808299  0.085506\n",
              "2 -0.486247 -1.146083  0.149665  0.078882\n",
              "3 -0.029688  0.728660 -0.212703 -0.382280\n",
              "4  0.498091  0.435516  0.944673  0.103959"
            ]
          },
          "metadata": {
            "tags": []
          },
          "execution_count": 81
        }
      ]
    },
    {
      "cell_type": "code",
      "metadata": {
        "colab_type": "code",
        "executionInfo": {
          "elapsed": 394,
          "status": "ok",
          "timestamp": 1556634030388,
          "user": {
            "displayName": "Mansi Arora",
            "photoUrl": "https://lh3.googleusercontent.com/-XstDPPTRBMM/AAAAAAAAAAI/AAAAAAAAAfs/C5M_SeeeciA/s64/photo.jpg",
            "userId": "05191183514562402651"
          },
          "user_tz": 420
        },
        "id": "yK4b_EVTx3ff",
        "outputId": "5070aa70-e422-49be-f4c5-b5cbf9146e72",
        "colab": {
          "height": 105
        }
      },
      "source": [
        "s = df.iloc[3]\n",
        "s"
      ],
      "execution_count": 0,
      "outputs": [
        {
          "output_type": "execute_result",
          "data": {
            "text/plain": [
              "A   -0.029688\n",
              "B    0.728660\n",
              "C   -0.212703\n",
              "D   -0.382280\n",
              "Name: 3, dtype: float64"
            ]
          },
          "metadata": {
            "tags": []
          },
          "execution_count": 82
        }
      ]
    },
    {
      "cell_type": "code",
      "metadata": {
        "colab_type": "code",
        "executionInfo": {
          "elapsed": 434,
          "status": "ok",
          "timestamp": 1556634030878,
          "user": {
            "displayName": "Mansi Arora",
            "photoUrl": "https://lh3.googleusercontent.com/-XstDPPTRBMM/AAAAAAAAAAI/AAAAAAAAAfs/C5M_SeeeciA/s64/photo.jpg",
            "userId": "05191183514562402651"
          },
          "user_tz": 420
        },
        "id": "wFmiJrxox6BC",
        "outputId": "8a863b10-524f-4194-a95d-e2bbc5bf06d2",
        "colab": {
          "height": 317
        }
      },
      "source": [
        "df.append(s, ignore_index=True)"
      ],
      "execution_count": 0,
      "outputs": [
        {
          "output_type": "execute_result",
          "data": {
            "text/html": [
              "<div>\n",
              "<style scoped>\n",
              "    .dataframe tbody tr th:only-of-type {\n",
              "        vertical-align: middle;\n",
              "    }\n",
              "\n",
              "    .dataframe tbody tr th {\n",
              "        vertical-align: top;\n",
              "    }\n",
              "\n",
              "    .dataframe thead th {\n",
              "        text-align: right;\n",
              "    }\n",
              "</style>\n",
              "<table border=\"1\" class=\"dataframe\">\n",
              "  <thead>\n",
              "    <tr style=\"text-align: right;\">\n",
              "      <th></th>\n",
              "      <th>A</th>\n",
              "      <th>B</th>\n",
              "      <th>C</th>\n",
              "      <th>D</th>\n",
              "    </tr>\n",
              "  </thead>\n",
              "  <tbody>\n",
              "    <tr>\n",
              "      <th>0</th>\n",
              "      <td>1.871247</td>\n",
              "      <td>-0.239678</td>\n",
              "      <td>0.066924</td>\n",
              "      <td>0.274989</td>\n",
              "    </tr>\n",
              "    <tr>\n",
              "      <th>1</th>\n",
              "      <td>0.356630</td>\n",
              "      <td>0.746998</td>\n",
              "      <td>0.808299</td>\n",
              "      <td>0.085506</td>\n",
              "    </tr>\n",
              "    <tr>\n",
              "      <th>2</th>\n",
              "      <td>-0.486247</td>\n",
              "      <td>-1.146083</td>\n",
              "      <td>0.149665</td>\n",
              "      <td>0.078882</td>\n",
              "    </tr>\n",
              "    <tr>\n",
              "      <th>3</th>\n",
              "      <td>-0.029688</td>\n",
              "      <td>0.728660</td>\n",
              "      <td>-0.212703</td>\n",
              "      <td>-0.382280</td>\n",
              "    </tr>\n",
              "    <tr>\n",
              "      <th>4</th>\n",
              "      <td>0.498091</td>\n",
              "      <td>0.435516</td>\n",
              "      <td>0.944673</td>\n",
              "      <td>0.103959</td>\n",
              "    </tr>\n",
              "    <tr>\n",
              "      <th>5</th>\n",
              "      <td>0.590629</td>\n",
              "      <td>-0.862423</td>\n",
              "      <td>-0.836036</td>\n",
              "      <td>0.129990</td>\n",
              "    </tr>\n",
              "    <tr>\n",
              "      <th>6</th>\n",
              "      <td>1.077152</td>\n",
              "      <td>0.414135</td>\n",
              "      <td>1.088877</td>\n",
              "      <td>-1.058313</td>\n",
              "    </tr>\n",
              "    <tr>\n",
              "      <th>7</th>\n",
              "      <td>-0.422634</td>\n",
              "      <td>0.188583</td>\n",
              "      <td>1.994744</td>\n",
              "      <td>0.023805</td>\n",
              "    </tr>\n",
              "    <tr>\n",
              "      <th>8</th>\n",
              "      <td>-0.029688</td>\n",
              "      <td>0.728660</td>\n",
              "      <td>-0.212703</td>\n",
              "      <td>-0.382280</td>\n",
              "    </tr>\n",
              "  </tbody>\n",
              "</table>\n",
              "</div>"
            ],
            "text/plain": [
              "          A         B         C         D\n",
              "0  1.871247 -0.239678  0.066924  0.274989\n",
              "1  0.356630  0.746998  0.808299  0.085506\n",
              "2 -0.486247 -1.146083  0.149665  0.078882\n",
              "3 -0.029688  0.728660 -0.212703 -0.382280\n",
              "4  0.498091  0.435516  0.944673  0.103959\n",
              "5  0.590629 -0.862423 -0.836036  0.129990\n",
              "6  1.077152  0.414135  1.088877 -1.058313\n",
              "7 -0.422634  0.188583  1.994744  0.023805\n",
              "8 -0.029688  0.728660 -0.212703 -0.382280"
            ]
          },
          "metadata": {
            "tags": []
          },
          "execution_count": 83
        }
      ]
    },
    {
      "cell_type": "markdown",
      "metadata": {
        "colab_type": "text",
        "id": "BDHklcHqEryg"
      },
      "source": [
        "### Grouping"
      ]
    },
    {
      "cell_type": "code",
      "metadata": {
        "colab_type": "code",
        "executionInfo": {
          "elapsed": 462,
          "status": "ok",
          "timestamp": 1556634031449,
          "user": {
            "displayName": "Mansi Arora",
            "photoUrl": "https://lh3.googleusercontent.com/-XstDPPTRBMM/AAAAAAAAAAI/AAAAAAAAAfs/C5M_SeeeciA/s64/photo.jpg",
            "userId": "05191183514562402651"
          },
          "user_tz": 420
        },
        "id": "J24h8s4GzGPI",
        "outputId": "c4bc34ab-a01b-416d-b28a-dadc35c18e26",
        "colab": {
          "height": 287
        }
      },
      "source": [
        "df = pd.DataFrame({'A': ['foo', 'bar', 'foo', 'bar',\n",
        "                         'foo', 'bar', 'foo', 'foo'],\n",
        "                     'B': ['one', 'one', 'two', 'three',\n",
        "                           'two', 'two', 'one', 'three'],\n",
        "                     'C': np.random.randn(8),\n",
        "                      'D': np.random.randn(8)})\n",
        "  \n",
        "\n",
        "df"
      ],
      "execution_count": 0,
      "outputs": [
        {
          "output_type": "execute_result",
          "data": {
            "text/html": [
              "<div>\n",
              "<style scoped>\n",
              "    .dataframe tbody tr th:only-of-type {\n",
              "        vertical-align: middle;\n",
              "    }\n",
              "\n",
              "    .dataframe tbody tr th {\n",
              "        vertical-align: top;\n",
              "    }\n",
              "\n",
              "    .dataframe thead th {\n",
              "        text-align: right;\n",
              "    }\n",
              "</style>\n",
              "<table border=\"1\" class=\"dataframe\">\n",
              "  <thead>\n",
              "    <tr style=\"text-align: right;\">\n",
              "      <th></th>\n",
              "      <th>A</th>\n",
              "      <th>B</th>\n",
              "      <th>C</th>\n",
              "      <th>D</th>\n",
              "    </tr>\n",
              "  </thead>\n",
              "  <tbody>\n",
              "    <tr>\n",
              "      <th>0</th>\n",
              "      <td>foo</td>\n",
              "      <td>one</td>\n",
              "      <td>0.738991</td>\n",
              "      <td>-1.157076</td>\n",
              "    </tr>\n",
              "    <tr>\n",
              "      <th>1</th>\n",
              "      <td>bar</td>\n",
              "      <td>one</td>\n",
              "      <td>-1.642185</td>\n",
              "      <td>-0.591463</td>\n",
              "    </tr>\n",
              "    <tr>\n",
              "      <th>2</th>\n",
              "      <td>foo</td>\n",
              "      <td>two</td>\n",
              "      <td>-0.290391</td>\n",
              "      <td>0.323696</td>\n",
              "    </tr>\n",
              "    <tr>\n",
              "      <th>3</th>\n",
              "      <td>bar</td>\n",
              "      <td>three</td>\n",
              "      <td>1.635527</td>\n",
              "      <td>-0.731279</td>\n",
              "    </tr>\n",
              "    <tr>\n",
              "      <th>4</th>\n",
              "      <td>foo</td>\n",
              "      <td>two</td>\n",
              "      <td>0.406602</td>\n",
              "      <td>-1.831752</td>\n",
              "    </tr>\n",
              "    <tr>\n",
              "      <th>5</th>\n",
              "      <td>bar</td>\n",
              "      <td>two</td>\n",
              "      <td>1.123846</td>\n",
              "      <td>-1.065699</td>\n",
              "    </tr>\n",
              "    <tr>\n",
              "      <th>6</th>\n",
              "      <td>foo</td>\n",
              "      <td>one</td>\n",
              "      <td>-0.353764</td>\n",
              "      <td>-0.657090</td>\n",
              "    </tr>\n",
              "    <tr>\n",
              "      <th>7</th>\n",
              "      <td>foo</td>\n",
              "      <td>three</td>\n",
              "      <td>0.579192</td>\n",
              "      <td>-1.071797</td>\n",
              "    </tr>\n",
              "  </tbody>\n",
              "</table>\n",
              "</div>"
            ],
            "text/plain": [
              "     A      B         C         D\n",
              "0  foo    one  0.738991 -1.157076\n",
              "1  bar    one -1.642185 -0.591463\n",
              "2  foo    two -0.290391  0.323696\n",
              "3  bar  three  1.635527 -0.731279\n",
              "4  foo    two  0.406602 -1.831752\n",
              "5  bar    two  1.123846 -1.065699\n",
              "6  foo    one -0.353764 -0.657090\n",
              "7  foo  three  0.579192 -1.071797"
            ]
          },
          "metadata": {
            "tags": []
          },
          "execution_count": 84
        }
      ]
    },
    {
      "cell_type": "code",
      "metadata": {
        "colab_type": "code",
        "executionInfo": {
          "elapsed": 416,
          "status": "ok",
          "timestamp": 1556634031976,
          "user": {
            "displayName": "Mansi Arora",
            "photoUrl": "https://lh3.googleusercontent.com/-XstDPPTRBMM/AAAAAAAAAAI/AAAAAAAAAfs/C5M_SeeeciA/s64/photo.jpg",
            "userId": "05191183514562402651"
          },
          "user_tz": 420
        },
        "id": "S7_pZA6CzQ5z",
        "outputId": "f2aa8099-de6f-48e1-c69b-aadc8a344130",
        "colab": {
          "height": 137
        }
      },
      "source": [
        "df.groupby('A').sum()"
      ],
      "execution_count": 0,
      "outputs": [
        {
          "output_type": "execute_result",
          "data": {
            "text/html": [
              "<div>\n",
              "<style scoped>\n",
              "    .dataframe tbody tr th:only-of-type {\n",
              "        vertical-align: middle;\n",
              "    }\n",
              "\n",
              "    .dataframe tbody tr th {\n",
              "        vertical-align: top;\n",
              "    }\n",
              "\n",
              "    .dataframe thead th {\n",
              "        text-align: right;\n",
              "    }\n",
              "</style>\n",
              "<table border=\"1\" class=\"dataframe\">\n",
              "  <thead>\n",
              "    <tr style=\"text-align: right;\">\n",
              "      <th></th>\n",
              "      <th>C</th>\n",
              "      <th>D</th>\n",
              "    </tr>\n",
              "    <tr>\n",
              "      <th>A</th>\n",
              "      <th></th>\n",
              "      <th></th>\n",
              "    </tr>\n",
              "  </thead>\n",
              "  <tbody>\n",
              "    <tr>\n",
              "      <th>bar</th>\n",
              "      <td>1.117188</td>\n",
              "      <td>-2.388441</td>\n",
              "    </tr>\n",
              "    <tr>\n",
              "      <th>foo</th>\n",
              "      <td>1.080631</td>\n",
              "      <td>-4.394020</td>\n",
              "    </tr>\n",
              "  </tbody>\n",
              "</table>\n",
              "</div>"
            ],
            "text/plain": [
              "            C         D\n",
              "A                      \n",
              "bar  1.117188 -2.388441\n",
              "foo  1.080631 -4.394020"
            ]
          },
          "metadata": {
            "tags": []
          },
          "execution_count": 85
        }
      ]
    },
    {
      "cell_type": "code",
      "metadata": {
        "colab_type": "code",
        "executionInfo": {
          "elapsed": 380,
          "status": "ok",
          "timestamp": 1556634032445,
          "user": {
            "displayName": "Mansi Arora",
            "photoUrl": "https://lh3.googleusercontent.com/-XstDPPTRBMM/AAAAAAAAAAI/AAAAAAAAAfs/C5M_SeeeciA/s64/photo.jpg",
            "userId": "05191183514562402651"
          },
          "user_tz": 420
        },
        "id": "Tl5ReAvJzOcI",
        "outputId": "748bcac0-1ecf-426f-e524-949c694174cc",
        "colab": {
          "height": 257
        }
      },
      "source": [
        "df.groupby(['A', 'B']).sum()\n"
      ],
      "execution_count": 0,
      "outputs": [
        {
          "output_type": "execute_result",
          "data": {
            "text/html": [
              "<div>\n",
              "<style scoped>\n",
              "    .dataframe tbody tr th:only-of-type {\n",
              "        vertical-align: middle;\n",
              "    }\n",
              "\n",
              "    .dataframe tbody tr th {\n",
              "        vertical-align: top;\n",
              "    }\n",
              "\n",
              "    .dataframe thead th {\n",
              "        text-align: right;\n",
              "    }\n",
              "</style>\n",
              "<table border=\"1\" class=\"dataframe\">\n",
              "  <thead>\n",
              "    <tr style=\"text-align: right;\">\n",
              "      <th></th>\n",
              "      <th></th>\n",
              "      <th>C</th>\n",
              "      <th>D</th>\n",
              "    </tr>\n",
              "    <tr>\n",
              "      <th>A</th>\n",
              "      <th>B</th>\n",
              "      <th></th>\n",
              "      <th></th>\n",
              "    </tr>\n",
              "  </thead>\n",
              "  <tbody>\n",
              "    <tr>\n",
              "      <th rowspan=\"3\" valign=\"top\">bar</th>\n",
              "      <th>one</th>\n",
              "      <td>-1.642185</td>\n",
              "      <td>-0.591463</td>\n",
              "    </tr>\n",
              "    <tr>\n",
              "      <th>three</th>\n",
              "      <td>1.635527</td>\n",
              "      <td>-0.731279</td>\n",
              "    </tr>\n",
              "    <tr>\n",
              "      <th>two</th>\n",
              "      <td>1.123846</td>\n",
              "      <td>-1.065699</td>\n",
              "    </tr>\n",
              "    <tr>\n",
              "      <th rowspan=\"3\" valign=\"top\">foo</th>\n",
              "      <th>one</th>\n",
              "      <td>0.385227</td>\n",
              "      <td>-1.814166</td>\n",
              "    </tr>\n",
              "    <tr>\n",
              "      <th>three</th>\n",
              "      <td>0.579192</td>\n",
              "      <td>-1.071797</td>\n",
              "    </tr>\n",
              "    <tr>\n",
              "      <th>two</th>\n",
              "      <td>0.116211</td>\n",
              "      <td>-1.508057</td>\n",
              "    </tr>\n",
              "  </tbody>\n",
              "</table>\n",
              "</div>"
            ],
            "text/plain": [
              "                  C         D\n",
              "A   B                        \n",
              "bar one   -1.642185 -0.591463\n",
              "    three  1.635527 -0.731279\n",
              "    two    1.123846 -1.065699\n",
              "foo one    0.385227 -1.814166\n",
              "    three  0.579192 -1.071797\n",
              "    two    0.116211 -1.508057"
            ]
          },
          "metadata": {
            "tags": []
          },
          "execution_count": 86
        }
      ]
    },
    {
      "cell_type": "markdown",
      "metadata": {
        "colab_type": "text",
        "id": "mQY3dn7Cx_TS"
      },
      "source": [
        "### Miscellaneous"
      ]
    },
    {
      "cell_type": "markdown",
      "metadata": {
        "colab_type": "text",
        "id": "fM7_SR7Apw62"
      },
      "source": [
        "Sort values"
      ]
    },
    {
      "cell_type": "code",
      "metadata": {
        "colab_type": "code",
        "executionInfo": {
          "elapsed": 507,
          "status": "ok",
          "timestamp": 1556634099305,
          "user": {
            "displayName": "Mansi Arora",
            "photoUrl": "https://lh3.googleusercontent.com/-XstDPPTRBMM/AAAAAAAAAAI/AAAAAAAAAfs/C5M_SeeeciA/s64/photo.jpg",
            "userId": "05191183514562402651"
          },
          "user_tz": 420
        },
        "id": "nDeeojVKn1Y6",
        "outputId": "f410c328-1c37-411c-80e2-d7505f529bca",
        "colab": {
          "height": 197
        }
      },
      "source": [
        "df.head()"
      ],
      "execution_count": 0,
      "outputs": [
        {
          "output_type": "execute_result",
          "data": {
            "text/html": [
              "<div>\n",
              "<style scoped>\n",
              "    .dataframe tbody tr th:only-of-type {\n",
              "        vertical-align: middle;\n",
              "    }\n",
              "\n",
              "    .dataframe tbody tr th {\n",
              "        vertical-align: top;\n",
              "    }\n",
              "\n",
              "    .dataframe thead th {\n",
              "        text-align: right;\n",
              "    }\n",
              "</style>\n",
              "<table border=\"1\" class=\"dataframe\">\n",
              "  <thead>\n",
              "    <tr style=\"text-align: right;\">\n",
              "      <th></th>\n",
              "      <th>A</th>\n",
              "      <th>B</th>\n",
              "      <th>C</th>\n",
              "      <th>D</th>\n",
              "    </tr>\n",
              "  </thead>\n",
              "  <tbody>\n",
              "    <tr>\n",
              "      <th>0</th>\n",
              "      <td>foo</td>\n",
              "      <td>one</td>\n",
              "      <td>0.738991</td>\n",
              "      <td>-1.157076</td>\n",
              "    </tr>\n",
              "    <tr>\n",
              "      <th>1</th>\n",
              "      <td>bar</td>\n",
              "      <td>one</td>\n",
              "      <td>-1.642185</td>\n",
              "      <td>-0.591463</td>\n",
              "    </tr>\n",
              "    <tr>\n",
              "      <th>2</th>\n",
              "      <td>foo</td>\n",
              "      <td>two</td>\n",
              "      <td>-0.290391</td>\n",
              "      <td>0.323696</td>\n",
              "    </tr>\n",
              "    <tr>\n",
              "      <th>3</th>\n",
              "      <td>bar</td>\n",
              "      <td>three</td>\n",
              "      <td>1.635527</td>\n",
              "      <td>-0.731279</td>\n",
              "    </tr>\n",
              "    <tr>\n",
              "      <th>4</th>\n",
              "      <td>foo</td>\n",
              "      <td>two</td>\n",
              "      <td>0.406602</td>\n",
              "      <td>-1.831752</td>\n",
              "    </tr>\n",
              "  </tbody>\n",
              "</table>\n",
              "</div>"
            ],
            "text/plain": [
              "     A      B         C         D\n",
              "0  foo    one  0.738991 -1.157076\n",
              "1  bar    one -1.642185 -0.591463\n",
              "2  foo    two -0.290391  0.323696\n",
              "3  bar  three  1.635527 -0.731279\n",
              "4  foo    two  0.406602 -1.831752"
            ]
          },
          "metadata": {
            "tags": []
          },
          "execution_count": 88
        }
      ]
    },
    {
      "cell_type": "code",
      "metadata": {
        "colab_type": "code",
        "executionInfo": {
          "elapsed": 471,
          "status": "ok",
          "timestamp": 1556634110336,
          "user": {
            "displayName": "Mansi Arora",
            "photoUrl": "https://lh3.googleusercontent.com/-XstDPPTRBMM/AAAAAAAAAAI/AAAAAAAAAfs/C5M_SeeeciA/s64/photo.jpg",
            "userId": "05191183514562402651"
          },
          "user_tz": 420
        },
        "id": "Dht8NEneDNDG",
        "outputId": "ea195279-a4df-4b6a-f7b2-fb8621080bc7",
        "colab": {
          "height": 287
        }
      },
      "source": [
        "#Let's sort the data frame by ounces - inplace = True will make changes to the data\n",
        "df.sort_values(by=['A', 'C'],ascending=[True, False],inplace=False)"
      ],
      "execution_count": 0,
      "outputs": [
        {
          "output_type": "execute_result",
          "data": {
            "text/html": [
              "<div>\n",
              "<style scoped>\n",
              "    .dataframe tbody tr th:only-of-type {\n",
              "        vertical-align: middle;\n",
              "    }\n",
              "\n",
              "    .dataframe tbody tr th {\n",
              "        vertical-align: top;\n",
              "    }\n",
              "\n",
              "    .dataframe thead th {\n",
              "        text-align: right;\n",
              "    }\n",
              "</style>\n",
              "<table border=\"1\" class=\"dataframe\">\n",
              "  <thead>\n",
              "    <tr style=\"text-align: right;\">\n",
              "      <th></th>\n",
              "      <th>A</th>\n",
              "      <th>B</th>\n",
              "      <th>C</th>\n",
              "      <th>D</th>\n",
              "    </tr>\n",
              "  </thead>\n",
              "  <tbody>\n",
              "    <tr>\n",
              "      <th>1</th>\n",
              "      <td>bar</td>\n",
              "      <td>one</td>\n",
              "      <td>-1.642185</td>\n",
              "      <td>-0.591463</td>\n",
              "    </tr>\n",
              "    <tr>\n",
              "      <th>5</th>\n",
              "      <td>bar</td>\n",
              "      <td>two</td>\n",
              "      <td>1.123846</td>\n",
              "      <td>-1.065699</td>\n",
              "    </tr>\n",
              "    <tr>\n",
              "      <th>3</th>\n",
              "      <td>bar</td>\n",
              "      <td>three</td>\n",
              "      <td>1.635527</td>\n",
              "      <td>-0.731279</td>\n",
              "    </tr>\n",
              "    <tr>\n",
              "      <th>6</th>\n",
              "      <td>foo</td>\n",
              "      <td>one</td>\n",
              "      <td>-0.353764</td>\n",
              "      <td>-0.657090</td>\n",
              "    </tr>\n",
              "    <tr>\n",
              "      <th>2</th>\n",
              "      <td>foo</td>\n",
              "      <td>two</td>\n",
              "      <td>-0.290391</td>\n",
              "      <td>0.323696</td>\n",
              "    </tr>\n",
              "    <tr>\n",
              "      <th>4</th>\n",
              "      <td>foo</td>\n",
              "      <td>two</td>\n",
              "      <td>0.406602</td>\n",
              "      <td>-1.831752</td>\n",
              "    </tr>\n",
              "    <tr>\n",
              "      <th>7</th>\n",
              "      <td>foo</td>\n",
              "      <td>three</td>\n",
              "      <td>0.579192</td>\n",
              "      <td>-1.071797</td>\n",
              "    </tr>\n",
              "    <tr>\n",
              "      <th>0</th>\n",
              "      <td>foo</td>\n",
              "      <td>one</td>\n",
              "      <td>0.738991</td>\n",
              "      <td>-1.157076</td>\n",
              "    </tr>\n",
              "  </tbody>\n",
              "</table>\n",
              "</div>"
            ],
            "text/plain": [
              "     A      B         C         D\n",
              "1  bar    one -1.642185 -0.591463\n",
              "5  bar    two  1.123846 -1.065699\n",
              "3  bar  three  1.635527 -0.731279\n",
              "6  foo    one -0.353764 -0.657090\n",
              "2  foo    two -0.290391  0.323696\n",
              "4  foo    two  0.406602 -1.831752\n",
              "7  foo  three  0.579192 -1.071797\n",
              "0  foo    one  0.738991 -1.157076"
            ]
          },
          "metadata": {
            "tags": []
          },
          "execution_count": 89
        }
      ]
    },
    {
      "cell_type": "markdown",
      "metadata": {
        "colab_type": "text",
        "id": "jsJsaatFqzGO"
      },
      "source": [
        "Duplicates"
      ]
    },
    {
      "cell_type": "code",
      "metadata": {
        "colab_type": "code",
        "executionInfo": {
          "elapsed": 727,
          "status": "ok",
          "timestamp": 1556634134124,
          "user": {
            "displayName": "Mansi Arora",
            "photoUrl": "https://lh3.googleusercontent.com/-XstDPPTRBMM/AAAAAAAAAAI/AAAAAAAAAfs/C5M_SeeeciA/s64/photo.jpg",
            "userId": "05191183514562402651"
          },
          "user_tz": 420
        },
        "id": "nfc3KDGuDcRt",
        "outputId": "a43a07af-c1e4-4cc4-9c8f-71aa53452704",
        "colab": {
          "height": 257
        }
      },
      "source": [
        "#create another dataframe with duplicated rows\n",
        "data = pd.DataFrame({'k1':['one']*3 + ['two']*4, 'k2':[3,2,1,3,3,4,4]})\n",
        "data"
      ],
      "execution_count": 0,
      "outputs": [
        {
          "output_type": "execute_result",
          "data": {
            "text/html": [
              "<div>\n",
              "<style scoped>\n",
              "    .dataframe tbody tr th:only-of-type {\n",
              "        vertical-align: middle;\n",
              "    }\n",
              "\n",
              "    .dataframe tbody tr th {\n",
              "        vertical-align: top;\n",
              "    }\n",
              "\n",
              "    .dataframe thead th {\n",
              "        text-align: right;\n",
              "    }\n",
              "</style>\n",
              "<table border=\"1\" class=\"dataframe\">\n",
              "  <thead>\n",
              "    <tr style=\"text-align: right;\">\n",
              "      <th></th>\n",
              "      <th>k1</th>\n",
              "      <th>k2</th>\n",
              "    </tr>\n",
              "  </thead>\n",
              "  <tbody>\n",
              "    <tr>\n",
              "      <th>0</th>\n",
              "      <td>one</td>\n",
              "      <td>3</td>\n",
              "    </tr>\n",
              "    <tr>\n",
              "      <th>1</th>\n",
              "      <td>one</td>\n",
              "      <td>2</td>\n",
              "    </tr>\n",
              "    <tr>\n",
              "      <th>2</th>\n",
              "      <td>one</td>\n",
              "      <td>1</td>\n",
              "    </tr>\n",
              "    <tr>\n",
              "      <th>3</th>\n",
              "      <td>two</td>\n",
              "      <td>3</td>\n",
              "    </tr>\n",
              "    <tr>\n",
              "      <th>4</th>\n",
              "      <td>two</td>\n",
              "      <td>3</td>\n",
              "    </tr>\n",
              "    <tr>\n",
              "      <th>5</th>\n",
              "      <td>two</td>\n",
              "      <td>4</td>\n",
              "    </tr>\n",
              "    <tr>\n",
              "      <th>6</th>\n",
              "      <td>two</td>\n",
              "      <td>4</td>\n",
              "    </tr>\n",
              "  </tbody>\n",
              "</table>\n",
              "</div>"
            ],
            "text/plain": [
              "    k1  k2\n",
              "0  one   3\n",
              "1  one   2\n",
              "2  one   1\n",
              "3  two   3\n",
              "4  two   3\n",
              "5  two   4\n",
              "6  two   4"
            ]
          },
          "metadata": {
            "tags": []
          },
          "execution_count": 90
        }
      ]
    },
    {
      "cell_type": "code",
      "metadata": {
        "colab_type": "code",
        "executionInfo": {
          "elapsed": 433,
          "status": "ok",
          "timestamp": 1556634135989,
          "user": {
            "displayName": "Mansi Arora",
            "photoUrl": "https://lh3.googleusercontent.com/-XstDPPTRBMM/AAAAAAAAAAI/AAAAAAAAAfs/C5M_SeeeciA/s64/photo.jpg",
            "userId": "05191183514562402651"
          },
          "user_tz": 420
        },
        "id": "q1354hiUDgi8",
        "outputId": "89792ddb-4b1f-4b39-f42f-5c03c8fbf22f",
        "colab": {
          "height": 197
        }
      },
      "source": [
        "data.drop_duplicates()"
      ],
      "execution_count": 0,
      "outputs": [
        {
          "output_type": "execute_result",
          "data": {
            "text/html": [
              "<div>\n",
              "<style scoped>\n",
              "    .dataframe tbody tr th:only-of-type {\n",
              "        vertical-align: middle;\n",
              "    }\n",
              "\n",
              "    .dataframe tbody tr th {\n",
              "        vertical-align: top;\n",
              "    }\n",
              "\n",
              "    .dataframe thead th {\n",
              "        text-align: right;\n",
              "    }\n",
              "</style>\n",
              "<table border=\"1\" class=\"dataframe\">\n",
              "  <thead>\n",
              "    <tr style=\"text-align: right;\">\n",
              "      <th></th>\n",
              "      <th>k1</th>\n",
              "      <th>k2</th>\n",
              "    </tr>\n",
              "  </thead>\n",
              "  <tbody>\n",
              "    <tr>\n",
              "      <th>0</th>\n",
              "      <td>one</td>\n",
              "      <td>3</td>\n",
              "    </tr>\n",
              "    <tr>\n",
              "      <th>1</th>\n",
              "      <td>one</td>\n",
              "      <td>2</td>\n",
              "    </tr>\n",
              "    <tr>\n",
              "      <th>2</th>\n",
              "      <td>one</td>\n",
              "      <td>1</td>\n",
              "    </tr>\n",
              "    <tr>\n",
              "      <th>3</th>\n",
              "      <td>two</td>\n",
              "      <td>3</td>\n",
              "    </tr>\n",
              "    <tr>\n",
              "      <th>5</th>\n",
              "      <td>two</td>\n",
              "      <td>4</td>\n",
              "    </tr>\n",
              "  </tbody>\n",
              "</table>\n",
              "</div>"
            ],
            "text/plain": [
              "    k1  k2\n",
              "0  one   3\n",
              "1  one   2\n",
              "2  one   1\n",
              "3  two   3\n",
              "5  two   4"
            ]
          },
          "metadata": {
            "tags": []
          },
          "execution_count": 91
        }
      ]
    },
    {
      "cell_type": "code",
      "metadata": {
        "colab_type": "code",
        "executionInfo": {
          "elapsed": 517,
          "status": "ok",
          "timestamp": 1556634137487,
          "user": {
            "displayName": "Mansi Arora",
            "photoUrl": "https://lh3.googleusercontent.com/-XstDPPTRBMM/AAAAAAAAAAI/AAAAAAAAAfs/C5M_SeeeciA/s64/photo.jpg",
            "userId": "05191183514562402651"
          },
          "user_tz": 420
        },
        "id": "dhnTeicJDm1Z",
        "outputId": "71b2d3f3-b0b2-4957-e929-006f2635a0ca",
        "colab": {
          "height": 107
        }
      },
      "source": [
        "data.drop_duplicates(subset='k1')"
      ],
      "execution_count": 0,
      "outputs": [
        {
          "output_type": "execute_result",
          "data": {
            "text/html": [
              "<div>\n",
              "<style scoped>\n",
              "    .dataframe tbody tr th:only-of-type {\n",
              "        vertical-align: middle;\n",
              "    }\n",
              "\n",
              "    .dataframe tbody tr th {\n",
              "        vertical-align: top;\n",
              "    }\n",
              "\n",
              "    .dataframe thead th {\n",
              "        text-align: right;\n",
              "    }\n",
              "</style>\n",
              "<table border=\"1\" class=\"dataframe\">\n",
              "  <thead>\n",
              "    <tr style=\"text-align: right;\">\n",
              "      <th></th>\n",
              "      <th>k1</th>\n",
              "      <th>k2</th>\n",
              "    </tr>\n",
              "  </thead>\n",
              "  <tbody>\n",
              "    <tr>\n",
              "      <th>0</th>\n",
              "      <td>one</td>\n",
              "      <td>3</td>\n",
              "    </tr>\n",
              "    <tr>\n",
              "      <th>3</th>\n",
              "      <td>two</td>\n",
              "      <td>3</td>\n",
              "    </tr>\n",
              "  </tbody>\n",
              "</table>\n",
              "</div>"
            ],
            "text/plain": [
              "    k1  k2\n",
              "0  one   3\n",
              "3  two   3"
            ]
          },
          "metadata": {
            "tags": []
          },
          "execution_count": 92
        }
      ]
    },
    {
      "cell_type": "markdown",
      "metadata": {
        "colab_type": "text",
        "id": "Ce9o1MkknAEl"
      },
      "source": [
        "Renaming columns"
      ]
    },
    {
      "cell_type": "code",
      "metadata": {
        "colab_type": "code",
        "executionInfo": {
          "elapsed": 558,
          "status": "ok",
          "timestamp": 1556634138980,
          "user": {
            "displayName": "Mansi Arora",
            "photoUrl": "https://lh3.googleusercontent.com/-XstDPPTRBMM/AAAAAAAAAAI/AAAAAAAAAfs/C5M_SeeeciA/s64/photo.jpg",
            "userId": "05191183514562402651"
          },
          "user_tz": 420
        },
        "id": "q_1AEUYFnBtE",
        "outputId": "52e4e7e9-957b-4312-d98b-8cc5f52bab7a",
        "colab": {
          "height": 257
        }
      },
      "source": [
        "data.rename(columns = {\"k1\":\"kay\", \"k2\":\"kay2\"})"
      ],
      "execution_count": 0,
      "outputs": [
        {
          "output_type": "execute_result",
          "data": {
            "text/html": [
              "<div>\n",
              "<style scoped>\n",
              "    .dataframe tbody tr th:only-of-type {\n",
              "        vertical-align: middle;\n",
              "    }\n",
              "\n",
              "    .dataframe tbody tr th {\n",
              "        vertical-align: top;\n",
              "    }\n",
              "\n",
              "    .dataframe thead th {\n",
              "        text-align: right;\n",
              "    }\n",
              "</style>\n",
              "<table border=\"1\" class=\"dataframe\">\n",
              "  <thead>\n",
              "    <tr style=\"text-align: right;\">\n",
              "      <th></th>\n",
              "      <th>kay</th>\n",
              "      <th>kay2</th>\n",
              "    </tr>\n",
              "  </thead>\n",
              "  <tbody>\n",
              "    <tr>\n",
              "      <th>0</th>\n",
              "      <td>one</td>\n",
              "      <td>3</td>\n",
              "    </tr>\n",
              "    <tr>\n",
              "      <th>1</th>\n",
              "      <td>one</td>\n",
              "      <td>2</td>\n",
              "    </tr>\n",
              "    <tr>\n",
              "      <th>2</th>\n",
              "      <td>one</td>\n",
              "      <td>1</td>\n",
              "    </tr>\n",
              "    <tr>\n",
              "      <th>3</th>\n",
              "      <td>two</td>\n",
              "      <td>3</td>\n",
              "    </tr>\n",
              "    <tr>\n",
              "      <th>4</th>\n",
              "      <td>two</td>\n",
              "      <td>3</td>\n",
              "    </tr>\n",
              "    <tr>\n",
              "      <th>5</th>\n",
              "      <td>two</td>\n",
              "      <td>4</td>\n",
              "    </tr>\n",
              "    <tr>\n",
              "      <th>6</th>\n",
              "      <td>two</td>\n",
              "      <td>4</td>\n",
              "    </tr>\n",
              "  </tbody>\n",
              "</table>\n",
              "</div>"
            ],
            "text/plain": [
              "   kay  kay2\n",
              "0  one     3\n",
              "1  one     2\n",
              "2  one     1\n",
              "3  two     3\n",
              "4  two     3\n",
              "5  two     4\n",
              "6  two     4"
            ]
          },
          "metadata": {
            "tags": []
          },
          "execution_count": 93
        }
      ]
    }
  ]
}