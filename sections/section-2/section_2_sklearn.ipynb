{
 "cells": [
  {
   "cell_type": "markdown",
   "metadata": {
    "colab_type": "text",
    "id": "EAIf6j3vJraG"
   },
   "source": [
    "## Linear regression"
   ]
  },
  {
   "cell_type": "markdown",
   "metadata": {
    "colab_type": "text",
    "id": "9Uw4vrgjXeoS"
   },
   "source": [
    "### Sklearn"
   ]
  },
  {
   "cell_type": "code",
   "execution_count": 13,
   "metadata": {
    "colab": {},
    "colab_type": "code",
    "id": "3Rs-1FnUJ4oW"
   },
   "outputs": [],
   "source": [
    "import matplotlib.pyplot as plt\n",
    "import numpy as np\n",
    "from sklearn import datasets\n",
    "from sklearn.linear_model import LinearRegression\n",
    "from sklearn.metrics import mean_squared_error\n",
    "from sklearn.metrics import r2_score\n",
    "\n",
    "plt.style.use('ggplot')"
   ]
  },
  {
   "cell_type": "markdown",
   "metadata": {
    "colab_type": "text",
    "id": "C9MWy7TXUOIL"
   },
   "source": [
    "Dataset: Diabetes (from sklearn)\n",
    "\n",
    "Ten baseline variables, age, sex, body mass index, average blood pressure, and six blood serum measurements were obtained for each of n = 442 diabetes patients, as well as the response of interest, a quantitative measure of disease progression one year after baseline."
   ]
  },
  {
   "cell_type": "code",
   "execution_count": 3,
   "metadata": {
    "colab": {},
    "colab_type": "code",
    "id": "PDtm40m7KrkU"
   },
   "outputs": [],
   "source": [
    "# Load the diabetes dataset\n",
    "from sklearn.datasets import load_diabetes\n",
    "\n",
    "diabetes = load_diabetes()"
   ]
  },
  {
   "cell_type": "code",
   "execution_count": 4,
   "metadata": {
    "colab": {
     "height": 712
    },
    "colab_type": "code",
    "executionInfo": {
     "elapsed": 402,
     "status": "ok",
     "timestamp": 1556634808647,
     "user": {
      "displayName": "Mansi Arora",
      "photoUrl": "https://lh3.googleusercontent.com/-XstDPPTRBMM/AAAAAAAAAAI/AAAAAAAAAfs/C5M_SeeeciA/s64/photo.jpg",
      "userId": "05191183514562402651"
     },
     "user_tz": 420
    },
    "id": "Q2BIA7mdYv7N",
    "outputId": "9163becb-1347-4af3-8e09-64454de24295"
   },
   "outputs": [
    {
     "name": "stdout",
     "output_type": "stream",
     "text": [
      "Diabetes dataset\n",
      "================\n",
      "\n",
      "Notes\n",
      "-----\n",
      "\n",
      "Ten baseline variables, age, sex, body mass index, average blood\n",
      "pressure, and six blood serum measurements were obtained for each of n =\n",
      "442 diabetes patients, as well as the response of interest, a\n",
      "quantitative measure of disease progression one year after baseline.\n",
      "\n",
      "Data Set Characteristics:\n",
      "\n",
      "  :Number of Instances: 442\n",
      "\n",
      "  :Number of Attributes: First 10 columns are numeric predictive values\n",
      "\n",
      "  :Target: Column 11 is a quantitative measure of disease progression one year after baseline\n",
      "\n",
      "  :Attributes:\n",
      "    :Age:\n",
      "    :Sex:\n",
      "    :Body mass index:\n",
      "    :Average blood pressure:\n",
      "    :S1:\n",
      "    :S2:\n",
      "    :S3:\n",
      "    :S4:\n",
      "    :S5:\n",
      "    :S6:\n",
      "\n",
      "Note: Each of these 10 feature variables have been mean centered and scaled by the standard deviation times `n_samples` (i.e. the sum of squares of each column totals 1).\n",
      "\n",
      "Source URL:\n",
      "http://www4.stat.ncsu.edu/~boos/var.select/diabetes.html\n",
      "\n",
      "For more information see:\n",
      "Bradley Efron, Trevor Hastie, Iain Johnstone and Robert Tibshirani (2004) \"Least Angle Regression,\" Annals of Statistics (with discussion), 407-499.\n",
      "(http://web.stanford.edu/~hastie/Papers/LARS/LeastAngle_2002.pdf)\n",
      "\n"
     ]
    }
   ],
   "source": [
    "print(diabetes.DESCR)"
   ]
  },
  {
   "cell_type": "code",
   "execution_count": 6,
   "metadata": {
    "colab": {
     "height": 123
    },
    "colab_type": "code",
    "executionInfo": {
     "elapsed": 405,
     "status": "ok",
     "timestamp": 1556634809092,
     "user": {
      "displayName": "Mansi Arora",
      "photoUrl": "https://lh3.googleusercontent.com/-XstDPPTRBMM/AAAAAAAAAAI/AAAAAAAAAfs/C5M_SeeeciA/s64/photo.jpg",
      "userId": "05191183514562402651"
     },
     "user_tz": 420
    },
    "id": "xmMU0PcQSy1x",
    "outputId": "3ccd5c04-416f-417d-bd2f-7a9bc96a22ec"
   },
   "outputs": [
    {
     "name": "stdout",
     "output_type": "stream",
     "text": [
      "Diabetes data\n",
      "  Type: <class 'numpy.ndarray'>\n",
      "  Shape: (442, 10)\n",
      "Diabetes target\n",
      "  Type: <class 'numpy.ndarray'>\n",
      "  Shape: (442,)\n"
     ]
    }
   ],
   "source": [
    "print ('Diabetes data')\n",
    "print ('  Type: ' + str(type(diabetes.data)))\n",
    "print ('  Shape: ' + str(diabetes.data.shape))\n",
    "print ('Diabetes target')\n",
    "print ('  Type: ' + str(type(diabetes.target)))\n",
    "print ('  Shape: ' + str(diabetes.target.shape))"
   ]
  },
  {
   "cell_type": "code",
   "execution_count": 7,
   "metadata": {
    "colab": {},
    "colab_type": "code",
    "id": "RKbATXpUUp3J"
   },
   "outputs": [],
   "source": [
    "# Split train and test data\n",
    "from sklearn.model_selection import train_test_split\n",
    "\n",
    "X_train, X_test, y_train, y_test = train_test_split(diabetes.data, diabetes.target, test_size=0.2, random_state=0)"
   ]
  },
  {
   "cell_type": "code",
   "execution_count": 8,
   "metadata": {
    "colab": {},
    "colab_type": "code",
    "id": "Rg98y2OpUy-f"
   },
   "outputs": [],
   "source": [
    "# Create linear regression object\n",
    "model = LinearRegression()"
   ]
  },
  {
   "cell_type": "code",
   "execution_count": 9,
   "metadata": {
    "colab": {
     "height": 52
    },
    "colab_type": "code",
    "executionInfo": {
     "elapsed": 406,
     "status": "ok",
     "timestamp": 1556634810529,
     "user": {
      "displayName": "Mansi Arora",
      "photoUrl": "https://lh3.googleusercontent.com/-XstDPPTRBMM/AAAAAAAAAAI/AAAAAAAAAfs/C5M_SeeeciA/s64/photo.jpg",
      "userId": "05191183514562402651"
     },
     "user_tz": 420
    },
    "id": "yVeOKnVFVADu",
    "outputId": "1192eebb-6f71-46db-829a-856d64826e49"
   },
   "outputs": [
    {
     "data": {
      "text/plain": [
       "LinearRegression(copy_X=True, fit_intercept=True, n_jobs=1, normalize=False)"
      ]
     },
     "execution_count": 9,
     "metadata": {},
     "output_type": "execute_result"
    }
   ],
   "source": [
    "# Train the model using the training sets\n",
    "model.fit(X_train, y_train)"
   ]
  },
  {
   "cell_type": "code",
   "execution_count": 10,
   "metadata": {
    "colab": {
     "height": 70
    },
    "colab_type": "code",
    "executionInfo": {
     "elapsed": 433,
     "status": "ok",
     "timestamp": 1556634811024,
     "user": {
      "displayName": "Mansi Arora",
      "photoUrl": "https://lh3.googleusercontent.com/-XstDPPTRBMM/AAAAAAAAAAI/AAAAAAAAAfs/C5M_SeeeciA/s64/photo.jpg",
      "userId": "05191183514562402651"
     },
     "user_tz": 420
    },
    "id": "urpVbHrCLbk1",
    "outputId": "57a12db8-3530-4149-cb33-bde1a64226e8"
   },
   "outputs": [
    {
     "data": {
      "text/plain": [
       "array([ -35.55683674, -243.1692265 ,  562.75404632,  305.47203008,\n",
       "       -662.78772128,  324.27527477,   24.78193291,  170.33056502,\n",
       "        731.67810787,   43.02846824])"
      ]
     },
     "execution_count": 10,
     "metadata": {},
     "output_type": "execute_result"
    }
   ],
   "source": [
    "# Get the coefficients\n",
    "model.coef_"
   ]
  },
  {
   "cell_type": "code",
   "execution_count": 11,
   "metadata": {
    "colab": {
     "height": 34
    },
    "colab_type": "code",
    "executionInfo": {
     "elapsed": 420,
     "status": "ok",
     "timestamp": 1556634811515,
     "user": {
      "displayName": "Mansi Arora",
      "photoUrl": "https://lh3.googleusercontent.com/-XstDPPTRBMM/AAAAAAAAAAI/AAAAAAAAAfs/C5M_SeeeciA/s64/photo.jpg",
      "userId": "05191183514562402651"
     },
     "user_tz": 420
    },
    "id": "5YJyiG0UVwqi",
    "outputId": "446ed742-9b66-4d5e-cdfb-cb0f3963f92c"
   },
   "outputs": [
    {
     "data": {
      "text/plain": [
       "152.5381335195406"
      ]
     },
     "execution_count": 11,
     "metadata": {},
     "output_type": "execute_result"
    }
   ],
   "source": [
    "# Get the intercept\n",
    "model.intercept_ "
   ]
  },
  {
   "cell_type": "code",
   "execution_count": 14,
   "metadata": {
    "colab": {
     "height": 278
    },
    "colab_type": "code",
    "executionInfo": {
     "elapsed": 730,
     "status": "ok",
     "timestamp": 1556634812309,
     "user": {
      "displayName": "Mansi Arora",
      "photoUrl": "https://lh3.googleusercontent.com/-XstDPPTRBMM/AAAAAAAAAAI/AAAAAAAAAfs/C5M_SeeeciA/s64/photo.jpg",
      "userId": "05191183514562402651"
     },
     "user_tz": 420
    },
    "id": "01lnDDvlLcqj",
    "outputId": "afff0ca0-d772-49e1-c16a-66c63f980789"
   },
   "outputs": [
    {
     "data": {
      "image/png": "[encoded data removed]",
      "text/plain": [
       "<Figure size 432x288 with 1 Axes>"
      ]
     },
     "metadata": {},
     "output_type": "display_data"
    }
   ],
   "source": [
    "# plot prediction and actual data\n",
    "y_pred = model.predict(X_test) \n",
    "plt.plot(y_test, y_pred, '.')\n",
    "\n",
    "# plot a line, a perfit predict would all fall on this line\n",
    "x = np.linspace(0, 330, 100)\n",
    "y = x\n",
    "plt.plot(x, y)\n",
    "plt.show()"
   ]
  },
  {
   "cell_type": "markdown",
   "metadata": {
    "colab_type": "text",
    "id": "ybrbQErjJuJi"
   },
   "source": [
    "## Classification"
   ]
  },
  {
   "cell_type": "markdown",
   "metadata": {
    "colab_type": "text",
    "id": "ANyY9WUQa9r8"
   },
   "source": [
    "### Logistic Regression"
   ]
  },
  {
   "cell_type": "code",
   "execution_count": 15,
   "metadata": {
    "colab": {},
    "colab_type": "code",
    "id": "Bja-zmIuJ59x"
   },
   "outputs": [],
   "source": [
    "from sklearn.datasets import load_digits\n",
    "digits = load_digits()"
   ]
  },
  {
   "cell_type": "code",
   "execution_count": 16,
   "metadata": {
    "colab": {
     "height": 52
    },
    "colab_type": "code",
    "executionInfo": {
     "elapsed": 446,
     "status": "ok",
     "timestamp": 1556634813418,
     "user": {
      "displayName": "Mansi Arora",
      "photoUrl": "https://lh3.googleusercontent.com/-XstDPPTRBMM/AAAAAAAAAAI/AAAAAAAAAfs/C5M_SeeeciA/s64/photo.jpg",
      "userId": "05191183514562402651"
     },
     "user_tz": 420
    },
    "id": "WrpqMylyaJJa",
    "outputId": "cb046c7c-d9cd-48ac-cbc8-58486db48325"
   },
   "outputs": [
    {
     "name": "stdout",
     "output_type": "stream",
     "text": [
      "Image Data Shape (1797, 64)\n",
      "Label Data Shape (1797,)\n"
     ]
    }
   ],
   "source": [
    "print(\"Image Data Shape\" , digits.data.shape)\n",
    "\n",
    "print(\"Label Data Shape\", digits.target.shape)"
   ]
  },
  {
   "cell_type": "code",
   "execution_count": 17,
   "metadata": {
    "colab": {
     "height": 304
    },
    "colab_type": "code",
    "executionInfo": {
     "elapsed": 1657,
     "status": "ok",
     "timestamp": 1556634815136,
     "user": {
      "displayName": "Mansi Arora",
      "photoUrl": "https://lh3.googleusercontent.com/-XstDPPTRBMM/AAAAAAAAAAI/AAAAAAAAAfs/C5M_SeeeciA/s64/photo.jpg",
      "userId": "05191183514562402651"
     },
     "user_tz": 420
    },
    "id": "nTc50VKGaa4M",
    "outputId": "0c93502d-f335-4157-aa32-607d1e36cc8b"
   },
   "outputs": [
    {
     "data": {
      "image/png": "[encoded data removed]",
      "text/plain": [
       "<Figure size 1440x288 with 5 Axes>"
      ]
     },
     "metadata": {},
     "output_type": "display_data"
    }
   ],
   "source": [
    "import numpy as np \n",
    "import matplotlib.pyplot as plt\n",
    "plt.figure(figsize=(20,4))\n",
    "for index, (image, label) in enumerate(zip(digits.data[0:5], digits.target[0:5])):\n",
    "  plt.subplot(1, 5, index + 1)\n",
    "  plt.imshow(np.reshape(image, (8,8)), cmap=plt.cm.gray)\n",
    "  plt.title('Training: %i\\n' % label, fontsize = 20)"
   ]
  },
  {
   "cell_type": "code",
   "execution_count": 18,
   "metadata": {
    "colab": {},
    "colab_type": "code",
    "id": "OA39Qri3ad8e"
   },
   "outputs": [],
   "source": [
    "x_train, x_test, y_train, y_test = train_test_split(digits.data, digits.target, test_size=0.25, random_state=0)"
   ]
  },
  {
   "cell_type": "code",
   "execution_count": 19,
   "metadata": {
    "colab": {},
    "colab_type": "code",
    "id": "z1gTug5VaiSl"
   },
   "outputs": [],
   "source": [
    "from sklearn.linear_model import LogisticRegression"
   ]
  },
  {
   "cell_type": "code",
   "execution_count": 20,
   "metadata": {
    "colab": {},
    "colab_type": "code",
    "id": "NlO3Lrf0akF0"
   },
   "outputs": [],
   "source": [
    "# all parameters not specified are set to their defaults\n",
    "logisticRegr = LogisticRegression()"
   ]
  },
  {
   "cell_type": "code",
   "execution_count": 21,
   "metadata": {
    "colab": {
     "height": 143
    },
    "colab_type": "code",
    "executionInfo": {
     "elapsed": 720,
     "status": "ok",
     "timestamp": 1556634817685,
     "user": {
      "displayName": "Mansi Arora",
      "photoUrl": "https://lh3.googleusercontent.com/-XstDPPTRBMM/AAAAAAAAAAI/AAAAAAAAAfs/C5M_SeeeciA/s64/photo.jpg",
      "userId": "05191183514562402651"
     },
     "user_tz": 420
    },
    "id": "9N8CJuORalzN",
    "outputId": "870dad18-8240-4b86-85f5-afbbc24fe3ca"
   },
   "outputs": [
    {
     "data": {
      "text/plain": [
       "LogisticRegression(C=1.0, class_weight=None, dual=False, fit_intercept=True,\n",
       "          intercept_scaling=1, max_iter=100, multi_class='ovr', n_jobs=1,\n",
       "          penalty='l2', random_state=None, solver='liblinear', tol=0.0001,\n",
       "          verbose=0, warm_start=False)"
      ]
     },
     "execution_count": 21,
     "metadata": {},
     "output_type": "execute_result"
    }
   ],
   "source": [
    "logisticRegr.fit(x_train, y_train)"
   ]
  },
  {
   "cell_type": "code",
   "execution_count": 22,
   "metadata": {
    "colab": {},
    "colab_type": "code",
    "id": "VP-znRNIanj6"
   },
   "outputs": [],
   "source": [
    "predictions = logisticRegr.predict(x_test)"
   ]
  },
  {
   "cell_type": "code",
   "execution_count": 23,
   "metadata": {
    "colab": {
     "height": 194
    },
    "colab_type": "code",
    "executionInfo": {
     "elapsed": 716,
     "status": "ok",
     "timestamp": 1556634818925,
     "user": {
      "displayName": "Mansi Arora",
      "photoUrl": "https://lh3.googleusercontent.com/-XstDPPTRBMM/AAAAAAAAAAI/AAAAAAAAAfs/C5M_SeeeciA/s64/photo.jpg",
      "userId": "05191183514562402651"
     },
     "user_tz": 420
    },
    "id": "N2nRJ5mrauSN",
    "outputId": "10ee019f-e2c9-4299-86c6-e56d13929479"
   },
   "outputs": [
    {
     "name": "stdout",
     "output_type": "stream",
     "text": [
      "[[37  0  0  0  0  0  0  0  0  0]\n",
      " [ 0 39  0  0  0  0  2  0  2  0]\n",
      " [ 0  0 41  3  0  0  0  0  0  0]\n",
      " [ 0  0  1 43  0  0  0  0  0  1]\n",
      " [ 0  0  0  0 38  0  0  0  0  0]\n",
      " [ 0  1  0  0  0 47  0  0  0  0]\n",
      " [ 0  0  0  0  0  0 52  0  0  0]\n",
      " [ 0  1  0  1  1  0  0 45  0  0]\n",
      " [ 0  3  1  0  0  0  0  0 43  1]\n",
      " [ 0  0  0  1  0  1  0  0  1 44]]\n"
     ]
    }
   ],
   "source": [
    "from sklearn import metrics\n",
    "\n",
    "cm = metrics.confusion_matrix(y_test, predictions)\n",
    "print(cm)"
   ]
  },
  {
   "cell_type": "markdown",
   "metadata": {
    "colab_type": "text",
    "id": "7MrmR2X4J0cu"
   },
   "source": [
    "##K-means clustering"
   ]
  },
  {
   "cell_type": "code",
   "execution_count": 0,
   "metadata": {
    "colab": {},
    "colab_type": "code",
    "id": "_uKLYYQNJzl2"
   },
   "outputs": [],
   "source": [
    "from sklearn.cluster import KMeans"
   ]
  },
  {
   "cell_type": "markdown",
   "metadata": {
    "colab_type": "text",
    "id": "pQO7QcwBhW2V"
   },
   "source": [
    "Step 1: Generate random data\n",
    "\n",
    "Here is the code for generating some random data in a two-dimensional space:\n"
   ]
  },
  {
   "cell_type": "code",
   "execution_count": 0,
   "metadata": {
    "colab": {
     "height": 278
    },
    "colab_type": "code",
    "executionInfo": {
     "elapsed": 519,
     "status": "ok",
     "timestamp": 1556634820208,
     "user": {
      "displayName": "Mansi Arora",
      "photoUrl": "https://lh3.googleusercontent.com/-XstDPPTRBMM/AAAAAAAAAAI/AAAAAAAAAfs/C5M_SeeeciA/s64/photo.jpg",
      "userId": "05191183514562402651"
     },
     "user_tz": 420
    },
    "id": "NR6X_pD_hS6M",
    "outputId": "e2559a9b-d165-44f8-ac61-02bbb15d4614"
   },
   "outputs": [
    {
     "data": {
      "image/png": "[encoded data removed]",
      "text/plain": [
       "<matplotlib.figure.Figure at 0x7fc2ef999290>"
      ]
     },
     "metadata": {
      "tags": []
     },
     "output_type": "display_data"
    }
   ],
   "source": [
    "X = -2 * np.random.rand(100,2)\n",
    "X1 = 1 + 2 * np.random.rand(50,2)\n",
    "X[50:100, :] = X1\n",
    "\n",
    "plt.scatter(X[ : , 0], X[ :, 1], s = 50, c = 'b')\n",
    "plt.show()"
   ]
  },
  {
   "cell_type": "markdown",
   "metadata": {
    "colab_type": "text",
    "id": "SImRAl7hhrRr"
   },
   "source": [
    "Step 2: Use Scikit-Learn\n",
    "\n",
    "We’ll use some of the available functions in the Scikit-learn library to process the randomly generated data."
   ]
  },
  {
   "cell_type": "code",
   "execution_count": 0,
   "metadata": {
    "colab": {
     "height": 70
    },
    "colab_type": "code",
    "executionInfo": {
     "elapsed": 395,
     "status": "ok",
     "timestamp": 1556634820637,
     "user": {
      "displayName": "Mansi Arora",
      "photoUrl": "https://lh3.googleusercontent.com/-XstDPPTRBMM/AAAAAAAAAAI/AAAAAAAAAfs/C5M_SeeeciA/s64/photo.jpg",
      "userId": "05191183514562402651"
     },
     "user_tz": 420
    },
    "id": "q3NVuddfhfC_",
    "outputId": "a3e8833a-aae7-40ee-d7a9-90b4bdbbe515"
   },
   "outputs": [
    {
     "data": {
      "text/plain": [
       "KMeans(algorithm='auto', copy_x=True, init='k-means++', max_iter=300,\n",
       "    n_clusters=2, n_init=10, n_jobs=None, precompute_distances='auto',\n",
       "    random_state=None, tol=0.0001, verbose=0)"
      ]
     },
     "execution_count": 22,
     "metadata": {
      "tags": []
     },
     "output_type": "execute_result"
    }
   ],
   "source": [
    "Kmean = KMeans(n_clusters=2)\n",
    "Kmean.fit(X)"
   ]
  },
  {
   "cell_type": "markdown",
   "metadata": {
    "colab_type": "text",
    "id": "MYc5IAJeho5S"
   },
   "source": [
    "Step 3: Finding the centroid\n",
    "\n",
    "Here is the code for finding the center of the clusters:\n",
    "\n"
   ]
  },
  {
   "cell_type": "code",
   "execution_count": 0,
   "metadata": {
    "colab": {
     "height": 52
    },
    "colab_type": "code",
    "executionInfo": {
     "elapsed": 364,
     "status": "ok",
     "timestamp": 1556634821043,
     "user": {
      "displayName": "Mansi Arora",
      "photoUrl": "https://lh3.googleusercontent.com/-XstDPPTRBMM/AAAAAAAAAAI/AAAAAAAAAfs/C5M_SeeeciA/s64/photo.jpg",
      "userId": "05191183514562402651"
     },
     "user_tz": 420
    },
    "id": "kULbDJ41hiMC",
    "outputId": "a6f3cad7-20ca-4305-c2a0-69f84e659ae9"
   },
   "outputs": [
    {
     "data": {
      "text/plain": [
       "array([[-0.99067735, -0.93281674],\n",
       "       [ 1.94044677,  2.02647895]])"
      ]
     },
     "execution_count": 23,
     "metadata": {
      "tags": []
     },
     "output_type": "execute_result"
    }
   ],
   "source": [
    "Kmean.cluster_centers_"
   ]
  },
  {
   "cell_type": "markdown",
   "metadata": {
    "colab_type": "text",
    "id": "SRtqqfnwhzr_"
   },
   "source": [
    "Let’s display the cluster centroids (using green and red color)."
   ]
  },
  {
   "cell_type": "code",
   "execution_count": 0,
   "metadata": {
    "colab": {
     "height": 278
    },
    "colab_type": "code",
    "executionInfo": {
     "elapsed": 660,
     "status": "ok",
     "timestamp": 1556634821751,
     "user": {
      "displayName": "Mansi Arora",
      "photoUrl": "https://lh3.googleusercontent.com/-XstDPPTRBMM/AAAAAAAAAAI/AAAAAAAAAfs/C5M_SeeeciA/s64/photo.jpg",
      "userId": "05191183514562402651"
     },
     "user_tz": 420
    },
    "id": "Iv-MftLdhmL-",
    "outputId": "d2d708d1-f4f5-477d-cd71-82451275fd93"
   },
   "outputs": [
    {
     "data": {
      "image/png": "[encoded data removed]",
      "text/plain": [
       "<matplotlib.figure.Figure at 0x7fc2ef7dc510>"
      ]
     },
     "metadata": {
      "tags": []
     },
     "output_type": "display_data"
    }
   ],
   "source": [
    "plt.scatter(X[ : , 0], X[ : , 1], s =50, c='b')\n",
    "plt.scatter(-0.94665068, -0.97138368, s=200, c='g', marker='s')\n",
    "plt.scatter(2.01559419, 2.02597093, s=200, c='r', marker='s')\n",
    "plt.show()"
   ]
  },
  {
   "cell_type": "markdown",
   "metadata": {
    "colab_type": "text",
    "id": "TPr5JHPph9Lo"
   },
   "source": [
    "Step 4: Testing the algorithm\n",
    "\n",
    "Here is the code for getting the labels property of the K-means clustering example dataset; that is, how the data points are categorized into the two clusters."
   ]
  },
  {
   "cell_type": "code",
   "execution_count": 0,
   "metadata": {
    "colab": {
     "height": 105
    },
    "colab_type": "code",
    "executionInfo": {
     "elapsed": 491,
     "status": "ok",
     "timestamp": 1556634822269,
     "user": {
      "displayName": "Mansi Arora",
      "photoUrl": "https://lh3.googleusercontent.com/-XstDPPTRBMM/AAAAAAAAAAI/AAAAAAAAAfs/C5M_SeeeciA/s64/photo.jpg",
      "userId": "05191183514562402651"
     },
     "user_tz": 420
    },
    "id": "v23rh0ash_Gb",
    "outputId": "0f17c172-b17e-4d93-c699-674258fc125a"
   },
   "outputs": [
    {
     "data": {
      "text/plain": [
       "array([0, 0, 0, 0, 0, 0, 0, 0, 0, 0, 0, 0, 0, 0, 0, 0, 0, 0, 0, 0, 0, 0, 0,\n",
       "       0, 0, 0, 0, 0, 0, 0, 0, 0, 0, 0, 0, 0, 0, 0, 0, 0, 0, 0, 0, 0, 0, 0,\n",
       "       0, 0, 0, 0, 1, 1, 1, 1, 1, 1, 1, 1, 1, 1, 1, 1, 1, 1, 1, 1, 1, 1, 1,\n",
       "       1, 1, 1, 1, 1, 1, 1, 1, 1, 1, 1, 1, 1, 1, 1, 1, 1, 1, 1, 1, 1, 1, 1,\n",
       "       1, 1, 1, 1, 1, 1, 1, 1], dtype=int32)"
      ]
     },
     "execution_count": 25,
     "metadata": {
      "tags": []
     },
     "output_type": "execute_result"
    }
   ],
   "source": [
    "Kmean.labels_"
   ]
  },
  {
   "cell_type": "markdown",
   "metadata": {
    "colab_type": "text",
    "id": "lc-l7SRLiDFd"
   },
   "source": [
    "As you can see above, 50 data points belong to the 0 cluster while the rest belong to the 1 cluster."
   ]
  },
  {
   "cell_type": "code",
   "execution_count": 0,
   "metadata": {
    "colab": {
     "height": 34
    },
    "colab_type": "code",
    "executionInfo": {
     "elapsed": 402,
     "status": "ok",
     "timestamp": 1556634822714,
     "user": {
      "displayName": "Mansi Arora",
      "photoUrl": "https://lh3.googleusercontent.com/-XstDPPTRBMM/AAAAAAAAAAI/AAAAAAAAAfs/C5M_SeeeciA/s64/photo.jpg",
      "userId": "05191183514562402651"
     },
     "user_tz": 420
    },
    "id": "dwKRHnnkiGQv",
    "outputId": "b15b4e11-4360-49ef-cd30-5b2e8a3d222a"
   },
   "outputs": [
    {
     "data": {
      "text/plain": [
       "array([0], dtype=int32)"
      ]
     },
     "execution_count": 26,
     "metadata": {
      "tags": []
     },
     "output_type": "execute_result"
    }
   ],
   "source": [
    "sample_test=np.array([-3.0,-3.0])\n",
    "second_test=sample_test.reshape(1, -1)\n",
    "Kmean.predict(second_test)"
   ]
  }
 ],
 "metadata": {
  "colab": {
   "collapsed_sections": [],
   "name": "python_for_data_science_sklearn.ipynb",
   "provenance": [
    {
     "file_id": "1eccOx04r5wHM9gSDadybu1LTCGJAcdJX",
     "timestamp": 1556634849034
    }
   ],
   "toc_visible": true
  },
  "kernelspec": {
   "display_name": "Python 3",
   "language": "python",
   "name": "python3"
  },
  "language_info": {
   "codemirror_mode": {
    "name": "ipython",
    "version": 3
   },
   "file_extension": ".py",
   "mimetype": "text/x-python",
   "name": "python",
   "nbconvert_exporter": "python",
   "pygments_lexer": "ipython3",
   "version": "3.6.12"
  }
 },
 "nbformat": 4,
 "nbformat_minor": 1
}
