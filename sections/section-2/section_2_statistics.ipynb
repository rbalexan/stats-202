{
  "nbformat": 4,
  "nbformat_minor": 0,
  "metadata": {
    "colab": {
      "name": "Stats.ipynb",
      "provenance": [
        {
          "file_id": "1Fii0X80Adyip5NLXCbF1d_SsW3NpWv4R",
          "timestamp": 1556636124851
        }
      ],
      "collapsed_sections": []
    },
    "kernelspec": {
      "display_name": "Python 2",
      "name": "python2"
    }
  },
  "cells": [
    {
      "cell_type": "markdown",
      "metadata": {
        "colab_type": "text",
        "id": "XgtKoeeVVZ3l"
      },
      "source": [
        "# Two sample tests"
      ]
    },
    {
      "cell_type": "markdown",
      "metadata": {
        "colab_type": "text",
        "id": "eBc7PIlyVrJd"
      },
      "source": [
        "Imaginary data.  There are python-only users and R-only users.  Below are their GPAs in a data science course"
      ]
    },
    {
      "cell_type": "code",
      "metadata": {
        "colab_type": "code",
        "id": "PtxhS4kZVjln",
        "colab": {}
      },
      "source": [
        "import numpy as np\n",
        "import scipy as sp"
      ],
      "execution_count": 0,
      "outputs": []
    },
    {
      "cell_type": "code",
      "metadata": {
        "colab_type": "code",
        "id": "CCPfk2nuWNcB",
        "colab": {}
      },
      "source": [
        "pythonusers = np.array([3.7, 3.2, 2.7, 3.9, 4.0, 3.6, 2.6, 2.2])\n",
        "rusers = np.array([3.699, 2.5, 2.69, 3.8, 3.98, 3.5, 2.5, 2.19])"
      ],
      "execution_count": 0,
      "outputs": []
    },
    {
      "cell_type": "markdown",
      "metadata": {
        "colab_type": "text",
        "id": "wNPUugkRXuDJ"
      },
      "source": [
        "t-test documentation is [here](https://docs.scipy.org/doc/scipy-0.15.1/reference/generated/scipy.stats.ttest_ind.html).\n",
        "\n",
        "Ordinarily you would want to check assumptions before doing a ttest.  We are not going to do that here."
      ]
    },
    {
      "cell_type": "code",
      "metadata": {
        "colab_type": "code",
        "id": "T-hcl00JXzMz",
        "colab": {}
      },
      "source": [
        "t, prob = sp.stats.ttest_ind(pythonusers, rusers)"
      ],
      "execution_count": 0,
      "outputs": []
    },
    {
      "cell_type": "code",
      "metadata": {
        "colab_type": "code",
        "executionInfo": {
          "elapsed": 492,
          "status": "ok",
          "timestamp": 1556513019549,
          "user": {
            "displayName": "Rajiv Menjoge",
            "photoUrl": "https://lh3.googleusercontent.com/-oXDuMH7XZek/AAAAAAAAAAI/AAAAAAAAA-w/KjDn7E3osF4/s64/photo.jpg",
            "userId": "16134821184460241941"
          },
          "user_tz": 420
        },
        "id": "X4_xT1QBZBQF",
        "outputId": "c0ac1121-fcd1-4853-e0ff-f46a0f9215bc",
        "colab": {
          "height": 52
        }
      },
      "source": [
        "print 't is: ' + str(t)\n",
        "print 'prob is: ' + str(prob)"
      ],
      "execution_count": 0,
      "outputs": [
        {
          "output_type": "stream",
          "text": [
            "t is: 0.37795964003\n",
            "prob is: 0.711129364476\n"
          ],
          "name": "stdout"
        }
      ]
    },
    {
      "cell_type": "markdown",
      "metadata": {
        "colab_type": "text",
        "id": "mJ5fCKFsZbCK"
      },
      "source": [
        "Let's try a paired t-test instead:\n",
        "[documentation](https://docs.scipy.org/doc/scipy/reference/generated/scipy.stats.ttest_rel.html)"
      ]
    },
    {
      "cell_type": "code",
      "metadata": {
        "colab_type": "code",
        "id": "iaobHB5_Zdgf",
        "colab": {}
      },
      "source": [
        "t, prob = sp.stats.ttest_rel(pythonusers, rusers)"
      ],
      "execution_count": 0,
      "outputs": []
    },
    {
      "cell_type": "code",
      "metadata": {
        "colab_type": "code",
        "executionInfo": {
          "elapsed": 611,
          "status": "ok",
          "timestamp": 1556513027869,
          "user": {
            "displayName": "Rajiv Menjoge",
            "photoUrl": "https://lh3.googleusercontent.com/-oXDuMH7XZek/AAAAAAAAAAI/AAAAAAAAA-w/KjDn7E3osF4/s64/photo.jpg",
            "userId": "16134821184460241941"
          },
          "user_tz": 420
        },
        "id": "WwnxzsvhZ1aX",
        "outputId": "db7e391b-db9e-45bd-d2ae-ff3f1ce0bff0",
        "colab": {
          "height": 52
        }
      },
      "source": [
        "print 't is: ' + str(t)\n",
        "print 'prob is: ' + str(prob)"
      ],
      "execution_count": 0,
      "outputs": [
        {
          "output_type": "stream",
          "text": [
            "t is: 1.56907950456\n",
            "prob is: 0.160618559536\n"
          ],
          "name": "stdout"
        }
      ]
    },
    {
      "cell_type": "markdown",
      "metadata": {
        "colab_type": "text",
        "id": "7GumtFvraUWW"
      },
      "source": [
        "Let's try a nonparametric paired t-test.  In general, you shouldn't go fishing for tests that give you a particular result.  This is just to illustrate code."
      ]
    },
    {
      "cell_type": "code",
      "metadata": {
        "colab_type": "code",
        "executionInfo": {
          "elapsed": 510,
          "status": "ok",
          "timestamp": 1556513207224,
          "user": {
            "displayName": "Rajiv Menjoge",
            "photoUrl": "https://lh3.googleusercontent.com/-oXDuMH7XZek/AAAAAAAAAAI/AAAAAAAAA-w/KjDn7E3osF4/s64/photo.jpg",
            "userId": "16134821184460241941"
          },
          "user_tz": 420
        },
        "id": "RG1U25K7afX0",
        "outputId": "b61787a1-d675-4bf8-e1c6-1ac8783afc97",
        "colab": {
          "height": 89
        }
      },
      "source": [
        "t, prob = sp.stats.wilcoxon(pythonusers, rusers)\n",
        "print 't is: ' + str(t)\n",
        "print 'prob is: ' + str(prob)"
      ],
      "execution_count": 0,
      "outputs": [
        {
          "output_type": "stream",
          "text": [
            "t is: 0.0\n",
            "prob is: 0.0112097333839\n"
          ],
          "name": "stdout"
        },
        {
          "output_type": "stream",
          "text": [
            "/export/hda3/borglet/remote_hdd_fs_dirs/0.colab_kernel_pool_mlwtfself_81.kernel.colaboratory-playground.300018856941.14b334fb3717c109/mount/server/colab_notebook.par/google3/third_party/py/scipy/stats/morestats.py:2385: UserWarning: Warning: sample size too small for normal approximation.\n"
          ],
          "name": "stderr"
        }
      ]
    },
    {
      "cell_type": "markdown",
      "metadata": {
        "colab_type": "text",
        "id": "BtVioY3RbaaD"
      },
      "source": [
        "scipy.stats has many useful functions ([documentation](https://docs.scipy.org/doc/scipy/reference/stats.html))"
      ]
    },
    {
      "cell_type": "markdown",
      "metadata": {
        "colab_type": "text",
        "id": "zLIyq8JKT_o_"
      },
      "source": [
        "# Linear regression"
      ]
    },
    {
      "cell_type": "code",
      "metadata": {
        "colab_type": "code",
        "id": "h31WaocTT9Za",
        "colab": {}
      },
      "source": [
        "import statsmodels.api as sm\n",
        "\n",
        "# Load the boston dataset\n",
        "from colabtools import googlefiles\n",
        "from sklearn.datasets import load_boston\n",
        "\n",
        "with googlefiles.OpenGoogleFiles():\n",
        "   data = load_boston()"
      ],
      "execution_count": 0,
      "outputs": []
    },
    {
      "cell_type": "code",
      "metadata": {
        "colab_type": "code",
        "executionInfo": {
          "elapsed": 388,
          "status": "ok",
          "timestamp": 1556636110514,
          "user": {
            "displayName": "Mansi Arora",
            "photoUrl": "https://lh3.googleusercontent.com/-XstDPPTRBMM/AAAAAAAAAAI/AAAAAAAAAfs/C5M_SeeeciA/s64/photo.jpg",
            "userId": "05191183514562402651"
          },
          "user_tz": 420
        },
        "id": "tEESZkhsULd0",
        "outputId": "b88142b2-1c7c-4059-8a50-465edeb083ed",
        "colab": {
          "height": 943
        }
      },
      "source": [
        "print (data.DESCR)"
      ],
      "execution_count": 0,
      "outputs": [
        {
          "output_type": "stream",
          "text": [
            ".. _boston_dataset:\n",
            "\n",
            "Boston house prices dataset\n",
            "---------------------------\n",
            "\n",
            "**Data Set Characteristics:**  \n",
            "\n",
            "    :Number of Instances: 506 \n",
            "\n",
            "    :Number of Attributes: 13 numeric/categorical predictive. Median Value (attribute 14) is usually the target.\n",
            "\n",
            "    :Attribute Information (in order):\n",
            "        - CRIM     per capita crime rate by town\n",
            "        - ZN       proportion of residential land zoned for lots over 25,000 sq.ft.\n",
            "        - INDUS    proportion of non-retail business acres per town\n",
            "        - CHAS     Charles River dummy variable (= 1 if tract bounds river; 0 otherwise)\n",
            "        - NOX      nitric oxides concentration (parts per 10 million)\n",
            "        - RM       average number of rooms per dwelling\n",
            "        - AGE      proportion of owner-occupied units built prior to 1940\n",
            "        - DIS      weighted distances to five Boston employment centres\n",
            "        - RAD      index of accessibility to radial highways\n",
            "        - TAX      full-value property-tax rate per $10,000\n",
            "        - PTRATIO  pupil-teacher ratio by town\n",
            "        - B        1000(Bk - 0.63)^2 where Bk is the proportion of blacks by town\n",
            "        - LSTAT    % lower status of the population\n",
            "        - MEDV     Median value of owner-occupied homes in $1000's\n",
            "\n",
            "    :Missing Attribute Values: None\n",
            "\n",
            "    :Creator: Harrison, D. and Rubinfeld, D.L.\n",
            "\n",
            "This is a copy of UCI ML housing dataset.\n",
            "https://archive.ics.uci.edu/ml/machine-learning-databases/housing/\n",
            "\n",
            "\n",
            "This dataset was taken from the StatLib library which is maintained at Carnegie Mellon University.\n",
            "\n",
            "The Boston house-price data of Harrison, D. and Rubinfeld, D.L. 'Hedonic\n",
            "prices and the demand for clean air', J. Environ. Economics & Management,\n",
            "vol.5, 81-102, 1978.   Used in Belsley, Kuh & Welsch, 'Regression diagnostics\n",
            "...', Wiley, 1980.   N.B. Various transformations are used in the table on\n",
            "pages 244-261 of the latter.\n",
            "\n",
            "The Boston house-price data has been used in many machine learning papers that address regression\n",
            "problems.   \n",
            "     \n",
            ".. topic:: References\n",
            "\n",
            "   - Belsley, Kuh & Welsch, 'Regression diagnostics: Identifying Influential Data and Sources of Collinearity', Wiley, 1980. 244-261.\n",
            "   - Quinlan,R. (1993). Combining Instance-Based and Model-Based Learning. In Proceedings on the Tenth International Conference of Machine Learning, 236-243, University of Massachusetts, Amherst. Morgan Kaufmann.\n",
            "\n"
          ],
          "name": "stdout"
        }
      ]
    },
    {
      "cell_type": "code",
      "metadata": {
        "colab_type": "code",
        "id": "eR47kqLZURQB",
        "colab": {}
      },
      "source": [
        "import pandas as pd\n",
        "# Set the features  \n",
        "df = pd.DataFrame(data.data, columns=data.feature_names)\n",
        "\n",
        "# Set the target\n",
        "target = pd.DataFrame(data.target, columns=[\"MEDV\"])"
      ],
      "execution_count": 0,
      "outputs": []
    },
    {
      "cell_type": "markdown",
      "metadata": {
        "colab_type": "text",
        "id": "m4EeAcqvU1Om"
      },
      "source": [
        "Let's start by taking a look at the documentation\n",
        "[StatsModels OLS](https://www.statsmodels.org/dev/generated/statsmodels.regression.linear_model.OLS.html)"
      ]
    },
    {
      "cell_type": "code",
      "metadata": {
        "colab_type": "code",
        "id": "tRsKP2BJUWpR",
        "colab": {}
      },
      "source": [
        "X = df[[\"RM\", \"LSTAT\", \"B\"]]\n",
        "y = target[\"MEDV\"]\n",
        "\n",
        "# Fit and make the predictions by the model\n",
        "model = sm.OLS(y, X).fit()\n",
        "predictions = model.predict(X)"
      ],
      "execution_count": 0,
      "outputs": []
    },
    {
      "cell_type": "code",
      "metadata": {
        "colab_type": "code",
        "executionInfo": {
          "elapsed": 394,
          "status": "ok",
          "timestamp": 1556636111790,
          "user": {
            "displayName": "Mansi Arora",
            "photoUrl": "https://lh3.googleusercontent.com/-XstDPPTRBMM/AAAAAAAAAAI/AAAAAAAAAfs/C5M_SeeeciA/s64/photo.jpg",
            "userId": "05191183514562402651"
          },
          "user_tz": 420
        },
        "id": "lW80x6nfUd5L",
        "outputId": "b15dff8f-b970-4c38-d449-d19b69b35d1a",
        "colab": {
          "height": 265
        }
      },
      "source": [
        "predictions = model.predict(X)\n",
        "print 'Predictions'\n",
        "print predictions[0:5]\n",
        "print 'Actuals'\n",
        "print y[0:5]"
      ],
      "execution_count": 0,
      "outputs": [
        {
          "output_type": "stream",
          "text": [
            "Predictions\n",
            "0    29.211600\n",
            "1    25.821509\n",
            "2    32.476827\n",
            "3    32.381567\n",
            "4    31.498345\n",
            "dtype: float64\n",
            "Actuals\n",
            "0    24.0\n",
            "1    21.6\n",
            "2    34.7\n",
            "3    33.4\n",
            "4    36.2\n",
            "Name: MEDV, dtype: float64\n"
          ],
          "name": "stdout"
        }
      ]
    },
    {
      "cell_type": "markdown",
      "metadata": {
        "colab_type": "text",
        "id": "I84izsgIciXK"
      },
      "source": [
        "Let's look at the documentation to see what else we can do with this.\n",
        "[RegressionResults documentation](https://www.statsmodels.org/dev/generated/statsmodels.regression.linear_model.RegressionResults.html)\n"
      ]
    },
    {
      "cell_type": "code",
      "metadata": {
        "colab_type": "code",
        "executionInfo": {
          "elapsed": 449,
          "status": "ok",
          "timestamp": 1556636112286,
          "user": {
            "displayName": "Mansi Arora",
            "photoUrl": "https://lh3.googleusercontent.com/-XstDPPTRBMM/AAAAAAAAAAI/AAAAAAAAAfs/C5M_SeeeciA/s64/photo.jpg",
            "userId": "05191183514562402651"
          },
          "user_tz": 420
        },
        "id": "tY2ZqAkxc9rO",
        "outputId": "c044cd24-b4a8-4e99-d408-f95707fc668c",
        "colab": {
          "height": 34
        }
      },
      "source": [
        "type(model)"
      ],
      "execution_count": 0,
      "outputs": [
        {
          "output_type": "execute_result",
          "data": {
            "text/plain": [
              "statsmodels.regression.linear_model.RegressionResultsWrapper"
            ]
          },
          "metadata": {
            "tags": []
          },
          "execution_count": 6
        }
      ]
    },
    {
      "cell_type": "code",
      "metadata": {
        "colab_type": "code",
        "executionInfo": {
          "elapsed": 448,
          "status": "ok",
          "timestamp": 1556636112776,
          "user": {
            "displayName": "Mansi Arora",
            "photoUrl": "https://lh3.googleusercontent.com/-XstDPPTRBMM/AAAAAAAAAAI/AAAAAAAAAfs/C5M_SeeeciA/s64/photo.jpg",
            "userId": "05191183514562402651"
          },
          "user_tz": 420
        },
        "id": "roaGp8ahdCtB",
        "outputId": "70f11ebc-bda8-4988-9991-94a0f1bd4c78",
        "colab": {
          "height": 478
        }
      },
      "source": [
        "print(model.summary())"
      ],
      "execution_count": 0,
      "outputs": [
        {
          "output_type": "stream",
          "text": [
            "                            OLS Regression Results                            \n",
            "==============================================================================\n",
            "Dep. Variable:                   MEDV   R-squared:                       0.950\n",
            "Model:                            OLS   Adj. R-squared:                  0.949\n",
            "Method:                 Least Squares   F-statistic:                     3163.\n",
            "Date:                Tue, 30 Apr 2019   Prob (F-statistic):               0.00\n",
            "Time:                        07:55:12   Log-Likelihood:                -1576.9\n",
            "No. Observations:                 506   AIC:                             3160.\n",
            "Df Residuals:                     503   BIC:                             3172.\n",
            "Df Model:                           3                                         \n",
            "Covariance Type:            nonrobust                                         \n",
            "==============================================================================\n",
            "                 coef    std err          t      P>|t|      [0.025      0.975]\n",
            "------------------------------------------------------------------------------\n",
            "RM             4.3969      0.162     27.091      0.000       4.078       4.716\n",
            "LSTAT         -0.6522      0.030    -21.562      0.000      -0.712      -0.593\n",
            "B              0.0089      0.003      3.477      0.001       0.004       0.014\n",
            "==============================================================================\n",
            "Omnibus:                      159.090   Durbin-Watson:                   0.833\n",
            "Prob(Omnibus):                  0.000   Jarque-Bera (JB):              497.017\n",
            "Skew:                           1.478   Prob(JB):                    1.19e-108\n",
            "Kurtosis:                       6.852   Cond. No.                         246.\n",
            "==============================================================================\n",
            "\n",
            "Warnings:\n",
            "[1] Standard Errors assume that the covariance matrix of the errors is correctly specified.\n"
          ],
          "name": "stdout"
        }
      ]
    },
    {
      "cell_type": "code",
      "metadata": {
        "colab_type": "code",
        "executionInfo": {
          "elapsed": 479,
          "status": "ok",
          "timestamp": 1556597815318,
          "user": {
            "displayName": "Rajiv Menjoge",
            "photoUrl": "https://lh3.googleusercontent.com/-oXDuMH7XZek/AAAAAAAAAAI/AAAAAAAAA-w/KjDn7E3osF4/s64/photo.jpg",
            "userId": "16134821184460241941"
          },
          "user_tz": 420
        },
        "id": "GQokaAc_dVPD",
        "outputId": "67c30170-a207-4e64-9e3e-09d11f73c0cd",
        "colab": {
          "height": 86
        }
      },
      "source": [
        "model.params"
      ],
      "execution_count": 0,
      "outputs": [
        {
          "output_type": "execute_result",
          "data": {
            "text/plain": [
              "RM       4.396854\n",
              "LSTAT   -0.652158\n",
              "B        0.008944\n",
              "dtype: float64"
            ]
          },
          "metadata": {
            "tags": []
          },
          "execution_count": 10
        }
      ]
    },
    {
      "cell_type": "markdown",
      "metadata": {
        "colab_type": "text",
        "id": "4U21pOlGeFkq"
      },
      "source": [
        "Fitting from a formula instead"
      ]
    },
    {
      "cell_type": "code",
      "metadata": {
        "colab_type": "code",
        "id": "B4pz-_UZfBsR",
        "colab": {}
      },
      "source": [
        "alldata = X.copy()"
      ],
      "execution_count": 0,
      "outputs": []
    },
    {
      "cell_type": "code",
      "metadata": {
        "colab_type": "code",
        "id": "0dd1yWbAfLiA",
        "colab": {}
      },
      "source": [
        "alldata['MEDV'] = y"
      ],
      "execution_count": 0,
      "outputs": []
    },
    {
      "cell_type": "code",
      "metadata": {
        "colab_type": "code",
        "id": "ZtBN_D4deHbn",
        "colab": {}
      },
      "source": [
        "# -1 means no intercept\n",
        "ols_instance = sm.OLS.from_formula(formula='MEDV ~ RM + LSTAT + B - 1', data=alldata)\n",
        "model = ols_instance.fit()"
      ],
      "execution_count": 0,
      "outputs": []
    },
    {
      "cell_type": "code",
      "metadata": {
        "colab_type": "code",
        "executionInfo": {
          "elapsed": 522,
          "status": "ok",
          "timestamp": 1556598541688,
          "user": {
            "displayName": "Rajiv Menjoge",
            "photoUrl": "https://lh3.googleusercontent.com/-oXDuMH7XZek/AAAAAAAAAAI/AAAAAAAAA-w/KjDn7E3osF4/s64/photo.jpg",
            "userId": "16134821184460241941"
          },
          "user_tz": 420
        },
        "id": "Yl-RSui7gJNL",
        "outputId": "675b33c7-e564-4a0e-d0f4-6d4e93947873",
        "colab": {
          "height": 86
        }
      },
      "source": [
        "model.params"
      ],
      "execution_count": 0,
      "outputs": [
        {
          "output_type": "execute_result",
          "data": {
            "text/plain": [
              "RM       4.396854\n",
              "LSTAT   -0.652158\n",
              "B        0.008944\n",
              "dtype: float64"
            ]
          },
          "metadata": {
            "tags": []
          },
          "execution_count": 20
        }
      ]
    }
  ]
}